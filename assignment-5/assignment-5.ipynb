{
 "cells": [
  {
   "cell_type": "markdown",
   "metadata": {},
   "source": [
    "# CS6140 Assignments\n",
    "\n",
    "**Instructions**\n",
    "1. In each assignment cell, look for the block:\n",
    " ```\n",
    "  #BEGIN YOUR CODE\n",
    "  raise NotImplementedError.new()\n",
    "  #END YOUR CODE\n",
    " ```\n",
    "1. Replace this block with your solution.\n",
    "1. Test your solution by running the cells following your block (indicated by ##TEST##)\n",
    "1. Click the \"Validate\" button above to validate the work.\n",
    "\n",
    "**Notes**\n",
    "* You may add other cells and functions as needed\n",
    "* Keep all code in the same notebook\n",
    "* In order to receive credit, code must \"Validate\" on the JupyterHub server\n",
    "\n",
    "---"
   ]
  },
  {
   "cell_type": "code",
   "execution_count": null,
   "metadata": {},
   "outputs": [],
   "source": []
  },
  {
   "cell_type": "markdown",
   "metadata": {
    "deletable": false,
    "editable": false,
    "nbgrader": {
     "checksum": "0f30a623cd239faa48d016dfdfd44f9d",
     "grade": false,
     "grade_id": "cell-2db1ec9fd61f5d6b",
     "locked": true,
     "schema_version": 1,
     "solution": false
    }
   },
   "source": [
    "# Assignment 5: Linear Models (2)\n",
    "\n",
    "\n",
    "In this exercise, we will transform our gradient descent algorithm into stochastic gradent descent. We will then implement linear regression and logistic regression. Finally, we will run these models on a real-world dataset."
   ]
  },
  {
   "cell_type": "code",
   "execution_count": 124,
   "metadata": {
    "deletable": false,
    "editable": false,
    "nbgrader": {
     "checksum": "9ca0d151ba43bb4deb857d7f8c49f505",
     "grade": false,
     "grade_id": "cell-af1d85683fc29192",
     "locked": true,
     "schema_version": 1,
     "solution": false
    }
   },
   "outputs": [
    {
     "data": {
      "text/plain": [
       "false"
      ]
     },
     "execution_count": 124,
     "metadata": {},
     "output_type": "execute_result"
    }
   ],
   "source": [
    "require './assignment_lib'"
   ]
  },
  {
   "cell_type": "markdown",
   "metadata": {},
   "source": [
    "## Question 1.1 (10 points)\n",
    "\n",
    "Transform your batch gradient descent into a stochastic gradient descent algorithm. Using a class here allows the SGD algorithm to maintain state, such as learning rate and weights. Test your algorithm on the coin dataset and Binomial model you coded in Assignment 3. Plot the likelihood measured for each batch of 100 examples on one pass of the dataset.\n",
    "\n",
    "We will implement mini-batch SGD. Therefore you will not have to alter your Binomial Model. \n",
    "\n",
    "Stochasic gradient descent requires a learning rate that decreases with each iteration. Use the following learning rate:\n",
    "\n",
    "## $\\eta = \\frac{\\eta_{0}}{\\sqrt{t}}$\n",
    "\n",
    "where $\\eta_{0}$ is the initial learning rate and $t$ is the number of mini-batch iterations."
   ]
  },
  {
   "cell_type": "code",
   "execution_count": 125,
   "metadata": {
    "deletable": false,
    "nbgrader": {
     "checksum": "9660cfb6ed8d474caab10b4cd3ecccbb",
     "grade": false,
     "grade_id": "cell-8692d024ef034147",
     "locked": false,
     "schema_version": 1,
     "solution": true
    }
   },
   "outputs": [
    {
     "data": {
      "text/plain": [
       ":update"
      ]
     },
     "execution_count": 125,
     "metadata": {},
     "output_type": "execute_result"
    }
   ],
   "source": [
    "class StochasticGradientDescent\n",
    "  attr_reader :weights\n",
    "  attr_reader :objective\n",
    "  def initialize obj, w_0, lr = 0.01\n",
    "    @objective = obj\n",
    "    @weights = w_0\n",
    "    @n = 1.0\n",
    "    @lr = lr\n",
    "  end\n",
    "  def update x\n",
    "    # BEGIN YOUR CODE\n",
    "    g = @objective.grad(x, @weights)\n",
    "    learning_rate = @lr / Math.sqrt(@n)\n",
    "    @weights.each do |k, v|\n",
    "      @weights[k] -= g[k] * learning_rate\n",
    "    end\n",
    "    @n += 1.0\n",
    "    #END YOUR CODE\n",
    "  end\n",
    "end"
   ]
  },
  {
   "cell_type": "code",
   "execution_count": 126,
   "metadata": {
    "deletable": false,
    "editable": false,
    "nbgrader": {
     "checksum": "bd7cd791abbea9dfafe3ddfeaf2ea601",
     "grade": true,
     "grade_id": "cell-653e55c495e9df88",
     "locked": true,
     "points": 10,
     "schema_version": 1,
     "solution": false
    }
   },
   "outputs": [
    {
     "data": {
      "text/plain": [
       "{\"0\"=>0.9999998479990008, \"1\"=>1.9999996959980015}"
      ]
     },
     "execution_count": 126,
     "metadata": {},
     "output_type": "execute_result"
    }
   ],
   "source": [
    "### TEST ###\n",
    "# Testing on a known objective\n",
    "class ParabolaObjective\n",
    "  def func x, w\n",
    "    0.5 * ((w[\"0\"] - 1) ** 2.0 + (w[\"1\"] - 2) ** 2.0)\n",
    "  end\n",
    "  def grad x, w\n",
    "    dw = {\"0\" => (w[\"0\"] - 1), \"1\" => (w[\"1\"] - 2)}\n",
    "  end\n",
    "  def adjust w\n",
    "  end\n",
    "end\n",
    "\n",
    "t1_w = {\"0\" => 0.0, \"1\" => 0.0}\n",
    "t1_obj = ParabolaObjective.new\n",
    "t1_sgd = StochasticGradientDescent.new t1_obj, t1_w, 0.25\n",
    "t1_lik = 1.0\n",
    "1000.times do \n",
    "  t1_sgd.update([])\n",
    "  t1_lik = t1_obj.func([], t1_sgd.weights)\n",
    "end\n",
    "\n",
    "assert_true(t1_lik < 0.1, \"SGD converges with simple objective\")\n",
    "assert_in_delta 1.0, t1_sgd.weights[\"0\"], 0.1, \"Weight 0 expected to be 1.0\"\n",
    "assert_in_delta 2.0, t1_sgd.weights[\"1\"], 0.1, \"Weight 1 expected to be 2.0\"\n",
    "\n",
    "t1_w"
   ]
  },
  {
   "cell_type": "markdown",
   "metadata": {},
   "source": [
    "## Begin Question 2.1 (10 points)\n",
    "\n",
    "Implement linear regression as an objective function for use with stochastic gradient descent. First, we will implement the predict function. For a weight vector, $w$ and a single ```Row``` with features, $x$, implement:\n",
    "\n",
    "### $f(w,x) = w^T x$\n",
    "\n",
    "Note that you already did this in [Assignment 4](../assignment-4/assignment-4.ipynb)."
   ]
  },
  {
   "cell_type": "code",
   "execution_count": 127,
   "metadata": {
    "deletable": false,
    "nbgrader": {
     "checksum": "0d1bad1b96670e69c22ab3eb42d447cd",
     "grade": false,
     "grade_id": "cell-513d6dcc72afdb50",
     "locked": false,
     "schema_version": 1,
     "solution": true
    }
   },
   "outputs": [
    {
     "data": {
      "text/plain": [
       ":predict"
      ]
     },
     "execution_count": 127,
     "metadata": {},
     "output_type": "execute_result"
    }
   ],
   "source": [
    "class LinearRegressionModel  \n",
    "  def predict row, w\n",
    "    # BEGIN YOUR CODE\n",
    "    sum = 0.0\n",
    "    \n",
    "    if !(row[\"features\"].empty? or w.empty?)\n",
    "      row[\"features\"].each do |k, v|\n",
    "          if w.has_key?(k)\n",
    "              sum += v * w[k]\n",
    "          end\n",
    "      end\n",
    "    end  \n",
    "    \n",
    "    return sum\n",
    "    #END YOUR CODE\n",
    "  end\n",
    "end"
   ]
  },
  {
   "cell_type": "code",
   "execution_count": 128,
   "metadata": {
    "deletable": false,
    "editable": false,
    "nbgrader": {
     "checksum": "d00bc15f77435d218fb4a379e4de2411",
     "grade": true,
     "grade_id": "cell-b49b45d9c251f254",
     "locked": true,
     "points": 10,
     "schema_version": 1,
     "solution": false
    }
   },
   "outputs": [],
   "source": [
    "### TEST ###\n",
    "t2_lr = LinearRegressionModel.new\n",
    "\n",
    "assert_in_delta 6.0, t2_lr.predict({\"features\" => {\"a\" => 2.0}}, {\"a\" => 3.0}), 1e-6\n",
    "assert_in_delta 6.0, t2_lr.predict({\"features\" => {\"a\" => 2.0}}, {\"a\" => 3.0, \"b\" => 4.0}), 1e-6\n",
    "assert_equal 0.0, t2_lr.predict({\"features\" => {}}, {})\n",
    "assert_equal 0.0, t2_lr.predict({\"features\" => {\"a\" => 1.0}}, {\"a\" => 0.0, \"b\" => 1.0})"
   ]
  },
  {
   "cell_type": "markdown",
   "metadata": {},
   "source": [
    "## Begin Question 2.2 (10 points)\n",
    "\n",
    "Continuing the implementation, implement the $L_2$ loss, which applies to a mini-batch of $n$ points. Use the ```predict``` function you implemented earlier.\n",
    "\n",
    "### $L(w,X) = \\frac{1}{n} \\sum_{i} \\frac{1}{2} \\left(f(w,x_i) - y_i\\right) ^ 2$\n"
   ]
  },
  {
   "cell_type": "code",
   "execution_count": 129,
   "metadata": {
    "deletable": false,
    "nbgrader": {
     "checksum": "a3084f061b575feda9fe737e5bbd4611",
     "grade": false,
     "grade_id": "cell-ef24b617c1a0ecd5",
     "locked": false,
     "schema_version": 1,
     "solution": true
    }
   },
   "outputs": [
    {
     "data": {
      "text/plain": [
       ":adjust"
      ]
     },
     "execution_count": 129,
     "metadata": {},
     "output_type": "execute_result"
    }
   ],
   "source": [
    "class LinearRegressionModel\n",
    "  def func data, w\n",
    "    # BEGIN YOUR CODE\n",
    "    l = 0.0\n",
    "    for x in data\n",
    "      l += 0.5 * (predict(x, w) - x[\"label\"]) ** 2\n",
    "    end\n",
    "    \n",
    "    return l / data.length\n",
    "    #END YOUR CODE\n",
    "  end\n",
    "  ## Adjusts the parameter to be within the allowable range\n",
    "  def adjust w\n",
    "  end\n",
    "end"
   ]
  },
  {
   "cell_type": "code",
   "execution_count": 130,
   "metadata": {},
   "outputs": [
    {
     "data": {
      "text/plain": [
       "{\"classes\"=>{}, \"features\"=>[\"x\"], \"data\"=>[{\"features\"=>{\"bias\"=>1.0}, \"label\"=>1.0}, {\"features\"=>{\"bias\"=>1.0}, \"label\"=>0.0}, {\"features\"=>{\"bias\"=>1.0}, \"label\"=>0.0}, {\"features\"=>{\"bias\"=>1.0}, \"label\"=>1.0}, {\"features\"=>{\"bias\"=>1.0}, \"label\"=>1.0}, {\"features\"=>{\"bias\"=>1.0}, \"label\"=>1.0}, {\"features\"=>{\"bias\"=>1.0}, \"label\"=>1.0}, {\"features\"=>{\"bias\"=>1.0}, \"label\"=>1.0}, {\"features\"=>{\"bias\"=>1.0}, \"label\"=>1.0}, {\"features\"=>{\"bias\"=>1.0}, \"label\"=>1.0}]}"
      ]
     },
     "execution_count": 130,
     "metadata": {},
     "output_type": "execute_result"
    }
   ],
   "source": [
    "t22_data = coin_dataset(10)\n",
    "t22_data"
   ]
  },
  {
   "cell_type": "code",
   "execution_count": 131,
   "metadata": {
    "deletable": false,
    "editable": false,
    "nbgrader": {
     "checksum": "4e0b66491efad74390ec2fb3575a7556",
     "grade": true,
     "grade_id": "cell-930a1ec55478e6d9",
     "locked": true,
     "points": 10,
     "schema_version": 1,
     "solution": false
    }
   },
   "outputs": [],
   "source": [
    "### TEST ###\n",
    "t22_data = coin_dataset(1000)\n",
    "\n",
    "t22_model = LinearRegressionModel.new\n",
    "t22_w = Hash.new\n",
    "t22_w[\"bias\"] = 0.1\n",
    "\n",
    "t22_f = t22_model.func t22_data[\"data\"], t22_w\n",
    "assert_in_delta 0.300, t22_f, 0.050, \"Expected loss within [250, 350]\"\n",
    "\n",
    "t22_w[\"bias\"] = 0.77\n",
    "t22_f = t22_model.func t22_data[\"data\"], t22_w\n",
    "assert_in_delta 0.090, t22_f, 0.050, \"Expected loss for a closer guess to be within [40, 140]\""
   ]
  },
  {
   "cell_type": "markdown",
   "metadata": {},
   "source": [
    "## Begin Question 2.3 (10 points)\n",
    "\n",
    "Continuing the implementation, now implement the gradient function. This returns a gradient value for the mini-batch of $n$ points.\n"
   ]
  },
  {
   "cell_type": "code",
   "execution_count": 132,
   "metadata": {
    "deletable": false,
    "nbgrader": {
     "checksum": "9755d5d5e1bfe507dd8972b5636d7b42",
     "grade": false,
     "grade_id": "cell-d96f7fe6f72bf82c",
     "locked": false,
     "schema_version": 1,
     "solution": true
    }
   },
   "outputs": [
    {
     "data": {
      "text/plain": [
       ":grad"
      ]
     },
     "execution_count": 132,
     "metadata": {},
     "output_type": "execute_result"
    }
   ],
   "source": [
    "class LinearRegressionModel\n",
    "  def grad data, w\n",
    "    # BEGIN YOUR CODE\n",
    "    dw = Hash.new{|h, k| h[k] = 0.0}\n",
    "    \n",
    "    data[0][\"features\"].each do |k, v|\n",
    "      sum = 0.0\n",
    "      data.each do |x|\n",
    "        if x[\"features\"][k] != nil\n",
    "          sum += (predict(x, w) - d=x[\"label\"]) * x[\"features\"][k]\n",
    "        end\n",
    "      end\n",
    "      dw[k] = sum / data.size\n",
    "    end\n",
    "    return dw\n",
    "    #END YOUR CODE\n",
    "  end\n",
    "end"
   ]
  },
  {
   "cell_type": "code",
   "execution_count": 133,
   "metadata": {
    "deletable": false,
    "editable": false,
    "nbgrader": {
     "checksum": "4ced679c62665c25f724cd2b6401d44f",
     "grade": true,
     "grade_id": "cell-6581a7319efd449e",
     "locked": true,
     "points": 10,
     "schema_version": 1,
     "solution": false
    }
   },
   "outputs": [],
   "source": [
    "### TEST ###\n",
    "\n",
    "t23_data = coin_dataset(1000)\n",
    "t23_model = LinearRegressionModel.new\n",
    "t23_w = Hash.new\n",
    "t23_w[\"bias\"] = 0.1\n",
    "\n",
    "t23_g = t23_model.grad t23_data[\"data\"], t23_w\n",
    "assert_in_delta -0.69, t23_g[\"bias\"], 0.2, \"Expected loss within [-0.49, -0.89]\"\n",
    "\n",
    "t23_w[\"bias\"] = 0.77\n",
    "t23_g = t23_model.grad t23_data[\"data\"], t23_w\n",
    "assert_in_delta 0.0, t23_g[\"bias\"], 0.1, \"Expected loss for a better guess to be within [-0.1, 0.1]\""
   ]
  },
  {
   "cell_type": "markdown",
   "metadata": {},
   "source": [
    "## Question 2.4 (10 points)\n",
    "\n",
    "Putting the previous steps together, use your ```StochasticGradientDecent``` to run linear regression for 10 passes (epochs) over the Coin Dataset, each pass with a mini-batch of size 20. Tune the learning rate, ```lr```, so that the model converges well. Assume that ```obj``` is an instance of ```LinearRegressionModel```, and ```w``` is an initial weight vector.\n",
    "\n",
    "Track the number of batches in the ```iters``` array and the loss in the ```losses``` array."
   ]
  },
  {
   "cell_type": "code",
   "execution_count": 134,
   "metadata": {
    "deletable": false,
    "nbgrader": {
     "checksum": "bc9391a560e2495790954502116709ca",
     "grade": false,
     "grade_id": "cell-c5159a9b8d15fac9",
     "locked": false,
     "schema_version": 1,
     "solution": true
    }
   },
   "outputs": [
    {
     "data": {
      "text/plain": [
       ":train_coin_sgd"
      ]
     },
     "execution_count": 134,
     "metadata": {},
     "output_type": "execute_result"
    }
   ],
   "source": [
    "def train_coin_sgd(obj, w, dataset)\n",
    "  i = 0\n",
    "  iters = []\n",
    "  losses = []\n",
    "  \n",
    "  #Define sgd = StochasticGradientDescent.new obj, w, lr\n",
    "  # You set the learning rate, lr\n",
    "  # BEGIN YOUR CODE\n",
    "  sgd = StochasticGradientDescent.new obj, w, 0.4\n",
    "  \n",
    "  (0..9).each do |i|\n",
    "    sgd.update dataset[\"data\"].sample(20)\n",
    "    iters << i\n",
    "    losses << obj.func(dataset[\"data\"], sgd.weights)\n",
    "  end\n",
    "  #END YOUR CODE\n",
    "  return [sgd, iters, losses]\n",
    "end"
   ]
  },
  {
   "cell_type": "code",
   "execution_count": 135,
   "metadata": {
    "deletable": false,
    "editable": false,
    "nbgrader": {
     "checksum": "2897553eb061eeeebdbfeec1bf56c681",
     "grade": true,
     "grade_id": "cell-ad954908a6c9a9cb",
     "locked": true,
     "points": 10,
     "schema_version": 1,
     "solution": false
    }
   },
   "outputs": [
    {
     "data": {
      "text/html": [
       "<div id='vis-137926e7-2516-47e3-9a72-839f3fb1f71d'></div>\n",
       "<script>\n",
       "(function(){\n",
       "    var render = function(){\n",
       "        var model = {\"panes\":[{\"diagrams\":[{\"type\":\"line\",\"options\":{\"x\":\"x\",\"y\":\"y\"},\"data\":\"0c868ffb-a164-42aa-91d6-53fa78f9dda5\"}],\"options\":{\"x_label\":\"Batches\",\"y_label\":\"Cumulative Loss\",\"zoom\":true,\"width\":700,\"xrange\":[0,9],\"yrange\":[0.10947715874175064,0.16688000000000253]}}],\"data\":{\"0c868ffb-a164-42aa-91d6-53fa78f9dda5\":[{\"x\":0,\"y\":0.16688000000000253},{\"x\":1,\"y\":0.14821670616060897},{\"x\":2,\"y\":0.13941141438036056},{\"x\":3,\"y\":0.1319790808039747},{\"x\":4,\"y\":0.126065178873519},{\"x\":5,\"y\":0.12111551212086576},{\"x\":6,\"y\":0.11733314912907909},{\"x\":7,\"y\":0.11433570814156764},{\"x\":8,\"y\":0.11161694822980832},{\"x\":9,\"y\":0.10947715874175064}]},\"extension\":[]}\n",
       "        var id_name = '#vis-137926e7-2516-47e3-9a72-839f3fb1f71d';\n",
       "        Nyaplot.core.parse(model, id_name);\n",
       "\n",
       "        require(['downloadable'], function(downloadable){\n",
       "          var svg = d3.select(id_name).select(\"svg\");\n",
       "\t  if(!svg.empty())\n",
       "\t    svg.call(downloadable().filename('fig'));\n",
       "\t});\n",
       "    };\n",
       "    if(window['Nyaplot']==undefined){\n",
       "        window.addEventListener('load_nyaplot', render, false);\n",
       "\treturn;\n",
       "    } else {\n",
       "       render();\n",
       "    }\n",
       "})();\n",
       "</script>\n"
      ],
      "text/plain": [
       "#<Nyaplot::Plot:0x00000000047697c0 @properties={:diagrams=>[#<Nyaplot::Diagram:0x0000000004762768 @properties={:type=>:line, :options=>{:x=>:x, :y=>:y}, :data=>\"0c868ffb-a164-42aa-91d6-53fa78f9dda5\"}, @xrange=[0, 9], @yrange=[0.10947715874175064, 0.16688000000000253]>], :options=>{:x_label=>\"Batches\", :y_label=>\"Cumulative Loss\", :zoom=>true, :width=>700, :xrange=>[0, 9], :yrange=>[0.10947715874175064, 0.16688000000000253]}}>"
      ]
     },
     "execution_count": 135,
     "metadata": {},
     "output_type": "execute_result"
    }
   ],
   "source": [
    "### TEST ###\n",
    "t24_data = coin_dataset(1000)\n",
    "t24_model = LinearRegressionModel.new\n",
    "t24_w = Hash.new\n",
    "t24_w[\"bias\"] = 0.1\n",
    "\n",
    "t24_trainer, t24_iter, t24_losses = train_coin_sgd t24_model, t24_w, t24_data\n",
    "\n",
    "assert_true t24_w.has_key?(\"bias\")\n",
    "assert_in_delta 0.77, t24_w[\"bias\"], 0.1, \"Expected weight for 'bias'  [0.67, 0.87]\"\n",
    "t24_cum_loss = 0.0\n",
    "t24_losses.each_index {|i| t24_cum_loss += t24_losses[i]; t24_losses[i] = t24_cum_loss / (t24_iter[i] + 1)}\n",
    "Daru::DataFrame.new({x: t24_iter, y: t24_losses}).plot(type: :line, x: :x, y: :y) do |plot, diagram|\n",
    "  plot.x_label \"Batches\"\n",
    "  plot.y_label \"Cumulative Loss\"\n",
    "end"
   ]
  },
  {
   "cell_type": "markdown",
   "metadata": {
    "deletable": false,
    "editable": false,
    "nbgrader": {
     "checksum": "c2418aa0f48abdbe6ff014a29532ccb6",
     "grade": false,
     "grade_id": "cell-b41019cfe2cced3f",
     "locked": true,
     "schema_version": 1,
     "solution": false
    }
   },
   "source": [
    "## Question 3.1 (10 points)\n",
    "\n",
    "Implement Logistic Regression, following much the same process as with linear regression. The prediction function returns a value:\n",
    "\n",
    "### $f(x,w) = \\frac {1}{1 + \\exp \\left( -w^T x \\right) } $"
   ]
  },
  {
   "cell_type": "code",
   "execution_count": 65,
   "metadata": {
    "deletable": false,
    "nbgrader": {
     "checksum": "778b87558628d1fdb62e6ddb4d0bd42d",
     "grade": false,
     "grade_id": "cell-33bf6c407e0d7157",
     "locked": false,
     "schema_version": 1,
     "solution": true
    }
   },
   "outputs": [
    {
     "data": {
      "text/plain": [
       ":adjust"
      ]
     },
     "execution_count": 65,
     "metadata": {},
     "output_type": "execute_result"
    }
   ],
   "source": [
    "class LogisticRegressionModel\n",
    "  def predict row, w\n",
    "    # BEGIN YOUR CODE\n",
    "    sum = 0.0\n",
    "    \n",
    "    if !(row[\"features\"].empty? or w.empty?)\n",
    "      row[\"features\"].each do |k, v|\n",
    "          if w.has_key?(k)\n",
    "              sum += v * w[k]\n",
    "          end\n",
    "      end\n",
    "    end \n",
    "    \n",
    "    return 1 / (1 + Math.exp(-sum))\n",
    "    #END YOUR CODE\n",
    "  end\n",
    "  \n",
    "  def adjust w\n",
    "    w\n",
    "  end\n",
    "end"
   ]
  },
  {
   "cell_type": "code",
   "execution_count": 66,
   "metadata": {
    "deletable": false,
    "editable": false,
    "nbgrader": {
     "checksum": "a4047451ff4933f13f0817b7009ea650",
     "grade": true,
     "grade_id": "cell-88560ef08ee29cdf",
     "locked": true,
     "points": 10,
     "schema_version": 1,
     "solution": false
    }
   },
   "outputs": [],
   "source": [
    "### TEST ###\n",
    "t31_model = LogisticRegressionModel.new\n",
    "def t31_f(a: 0.0, b: 0.0)\n",
    "  row = {\"features\" => {\"a\" => a, \"b\" => b}}\n",
    "end\n",
    "def t31_w(a: 0.0, b: 0.0)\n",
    "  w = {\"a\" => a, \"b\" => b}\n",
    "end\n",
    "assert_in_delta 0.5, t31_model.predict(t31_f(), t31_w()), 1e-6\n",
    "assert_in_delta 0.2689, t31_model.predict(t31_f(a:1), t31_w(a:-1)), 1e-3\n",
    "assert_in_delta 1.0, t31_model.predict(t31_f(a:1, b:1000), t31_w(a:-1, b: 0.1)), 1e-3"
   ]
  },
  {
   "cell_type": "markdown",
   "metadata": {},
   "source": [
    "## Question 3.2 (10 points)\n",
    "\n",
    "Implement log loss assuming that the y label is defined as: $y \\in \\left\\{-1, 1\\right\\}$. Remember that the mini-batch loss is an expectation of the $n$ examples in the mini batch."
   ]
  },
  {
   "cell_type": "code",
   "execution_count": 121,
   "metadata": {
    "deletable": false,
    "nbgrader": {
     "checksum": "1caeabc05bb45b962b6f48b4f7f5df23",
     "grade": false,
     "grade_id": "cell-15878f1a66886147",
     "locked": false,
     "schema_version": 1,
     "solution": true
    }
   },
   "outputs": [
    {
     "data": {
      "text/plain": [
       ":func"
      ]
     },
     "execution_count": 121,
     "metadata": {},
     "output_type": "execute_result"
    }
   ],
   "source": [
    "class LogisticRegressionModel\n",
    "  def func data, w\n",
    "    # BEGIN YOUR CODE\n",
    "    sum = 0.0\n",
    "    for x in data\n",
    "      sum += (x[\"label\"] == 0? -1 : 1) * Math.log(predict(x, w)) + (1 - (x[\"label\"] == 0? -1 : 1)) * Math.log(1 - predict(x, w))\n",
    "    end\n",
    "    \n",
    "    return - sum / data.length\n",
    "    #END YOUR CODE\n",
    "  end\n",
    "  \n",
    "end"
   ]
  },
  {
   "cell_type": "code",
   "execution_count": 122,
   "metadata": {
    "deletable": false,
    "editable": false,
    "nbgrader": {
     "checksum": "db1f969ddf5fd5244aae153ae2863612",
     "grade": true,
     "grade_id": "cell-9dc5beeddbd5c30b",
     "locked": true,
     "points": 10,
     "schema_version": 1,
     "solution": false
    }
   },
   "outputs": [],
   "source": [
    "### TEST ###\n",
    "t32_data = coin_dataset(1000)\n",
    "t32_model = LogisticRegressionModel.new\n",
    "t32_w = Hash.new {|h,k| h[k] = 0.1}\n",
    "assert_in_delta 0.66, t32_model.func(t32_data[\"data\"], t32_w), 0.2, \"Expected LR.func in [460, 860]\""
   ]
  },
  {
   "cell_type": "markdown",
   "metadata": {},
   "source": [
    "## Question 3.3 (10 points)\n",
    "\n",
    "Calculate the gradient of the mini-batch log loss for each parameter $w$. This time, assume that $y \\in \\left\\{0, 1\\right\\}$. Hint: This assumption should simplify the calculation."
   ]
  },
  {
   "cell_type": "code",
   "execution_count": 82,
   "metadata": {
    "deletable": false,
    "nbgrader": {
     "checksum": "b55f5b3f1de2689550894e67480e8fc3",
     "grade": false,
     "grade_id": "cell-35515a097456be8f",
     "locked": false,
     "schema_version": 1,
     "solution": true
    }
   },
   "outputs": [
    {
     "data": {
      "text/plain": [
       ":grad"
      ]
     },
     "execution_count": 82,
     "metadata": {},
     "output_type": "execute_result"
    }
   ],
   "source": [
    "class LogisticRegressionModel\n",
    "  def grad data, w\n",
    "    # BEGIN YOUR CODE\n",
    "    dw = Hash.new {|h, k| h[k] = 0.0}\n",
    "    data[0][\"features\"].each do |k, v|\n",
    "      w[k]\n",
    "      sum = 0.0\n",
    "      data.each do |x|\n",
    "        if x[\"features\"][k] != nil\n",
    "          sum += (predict(x, w) - x[\"label\"]) * x[\"features\"][k]\n",
    "        end\n",
    "      end\n",
    "      dw[k] = sum / data.length\n",
    "    end\n",
    "    return dw    \n",
    "    #END YOUR CODE\n",
    "  end\n",
    "end"
   ]
  },
  {
   "cell_type": "code",
   "execution_count": 83,
   "metadata": {
    "deletable": false,
    "editable": false,
    "nbgrader": {
     "checksum": "bc43d49ef3013a4d2a8b6943fc30f895",
     "grade": true,
     "grade_id": "cell-a546f94a5ee061c0",
     "locked": true,
     "points": 10,
     "schema_version": 1,
     "solution": false
    }
   },
   "outputs": [],
   "source": [
    "### TEST ###\n",
    "t32_data = coin_dataset(1000)\n",
    "t32_model = LogisticRegressionModel.new\n",
    "t32_w = Hash.new {|h,k| h[k] = 0.1}\n",
    "assert_in_delta 0.66, t32_model.func(t32_data[\"data\"], t32_w), 0.2, \"Expected LR.func in [460, 860]\"\n",
    "t32_g = t32_model.grad t32_data[\"data\"], t32_w\n",
    "assert_in_delta -0.26, t32_g[\"bias\"], 0.1, \"Expected LR.grad in [-0.36, -0.16]\"\n",
    "\n",
    "t32_w = Hash.new {|h,k| h[k] = 0.778}\n",
    "t32_g = t32_model.grad t32_data[\"data\"], t32_w\n",
    "assert_in_delta -0.1, t32_g[\"bias\"], 0.1, \"Expected LR.grad for a closer value to be in [-0.2, -0.2]\"\n",
    "\n"
   ]
  },
  {
   "cell_type": "markdown",
   "metadata": {},
   "source": [
    "## Question 4.1 (6 points)\n",
    "\n",
    "Let's train our new models on a familiar dataset, spambase. Let's run gradient descent for a few steps on this dataset. Observe that the learned weights after just gradient 2 steps are very large."
   ]
  },
  {
   "cell_type": "code",
   "execution_count": 73,
   "metadata": {},
   "outputs": [
    {
     "name": "stdout",
     "output_type": "stream",
     "text": [
      "[{\"features\"=>{\"word_freq_our\"=>0.27, \"word_freq_mail\"=>0.83, \"word_freq_you\"=>0.27, \"word_freq_your\"=>0.27, \"word_freq_font\"=>8.58, \"char_freq_[\"=>0.092, \"char_freq_$\"=>0.185, \"char_freq_#\"=>0.232, \"capital_run_length_average\"=>7.313, \"capital_run_length_longest\"=>99.0, \"capital_run_length_total\"=>607.0, \"bias\"=>1.0}, \"label\"=>1.0}, {\"features\"=>{\"word_freq_your\"=>0.9, \"word_freq_george\"=>0.9, \"word_freq_data\"=>0.9, \"char_freq_[\"=>0.14, \"capital_run_length_average\"=>3.472, \"capital_run_length_longest\"=>28.0, \"capital_run_length_total\"=>125.0, \"bias\"=>1.0}, \"label\"=>0.0}]\n",
      "{\"bias\"=>0.9149999999999999}\n"
     ]
    }
   ],
   "source": [
    "### Example ###\n",
    "#Preview 2 lines from the Spambase dataset\n",
    "spambase = read_sparse_data_from_csv \"spambase\"\n",
    "spambase[\"data\"].each {|r| r[\"features\"][\"bias\"] = 1.0}\n",
    "puts spambase[\"data\"][0,2]\n",
    "\n",
    "q41_model = LinearRegressionModel.new\n",
    "q41_w = Hash.new {|h,k| h[k] = 0.0}\n",
    "q41_w[\"bias\"] = 1\n",
    "q41_sgd = StochasticGradientDescent.new q41_model, q41_w, 0.1\n",
    "2.times do\n",
    "  q41_batch = spambase[\"data\"].sample(10)\n",
    "  q41_sgd.update q41_batch\n",
    "end\n",
    "puts q41_w"
   ]
  },
  {
   "cell_type": "markdown",
   "metadata": {},
   "source": [
    "## Question 4.1 (Continued) \n",
    "We can correct this by _normalizing_ the data. A popular normalization is the z-score. For each feature, except bias, and considering only the non-zero values create a new zspambase dataset, ```zspambase```. The dataset ```zspambase``` is identical to spambase except that its features have been normalized as follows:\n",
    "\n",
    "### $x_z = \\frac{x - \\mu}{\\sigma}$\n",
    "\n",
    "where $\\mu$ is the mean of the $x$ value and $\\sigma$ is the standard deviation. Note that you have already seen an implementation of ```mean``` and ```stdev```, so find it and add it here."
   ]
  },
  {
   "cell_type": "code",
   "execution_count": 74,
   "metadata": {
    "deletable": false,
    "nbgrader": {
     "checksum": "be552b33440500fbf331278317542948",
     "grade": false,
     "grade_id": "cell-ad476d8f1e9bb351",
     "locked": false,
     "schema_version": 1,
     "solution": true
    }
   },
   "outputs": [
    {
     "data": {
      "text/plain": [
       ":stdev"
      ]
     },
     "execution_count": 74,
     "metadata": {},
     "output_type": "execute_result"
    }
   ],
   "source": [
    "## Add mean and stdev here\n",
    "\n",
    "# BEGIN YOUR CODE\n",
    "def mean x\n",
    "  u = Hash.new {|h, k| h[k] = 0.0}\n",
    "  scale = Hash.new {|h, k| h[k] = 0.0}\n",
    "  \n",
    "  x.each do |i|\n",
    "    i[\"features\"].each do |k, v|\n",
    "      if i[\"features\"].has_key? k\n",
    "        u[k] += i[\"features\"][k]\n",
    "        scale[k] += 1\n",
    "      end\n",
    "    end\n",
    "  end\n",
    "  u.each do |k, v|\n",
    "    u[k] /= scale[k]\n",
    "  end\n",
    "  return u\n",
    "end\n",
    "\n",
    "def stdev x\n",
    "  u = mean x\n",
    "  d = Hash.new {|h, k| h[k] = 0.0}\n",
    "  scale = Hash.new {|h, k| h[k] = 0.0}\n",
    "  x.each do |i|\n",
    "    i[\"features\"].each do |k, v|\n",
    "      if i[\"features\"].has_key? k\n",
    "        d[k] += (i[\"features\"][k] - u[k]) ** 2.0\n",
    "        scale[k] += 1\n",
    "      end\n",
    "    end\n",
    "  end\n",
    "  d.each do |k, v|\n",
    "    d[k] = Math.sqrt(d[k] / (scale[k] - 1))\n",
    "  end\n",
    "  return d\n",
    "end\n",
    "#END YOUR CODE"
   ]
  },
  {
   "cell_type": "code",
   "execution_count": 75,
   "metadata": {
    "deletable": false,
    "nbgrader": {
     "checksum": "bafc508212cf426a2ec9755991c87569",
     "grade": false,
     "grade_id": "cell-481076f8bac87071",
     "locked": false,
     "schema_version": 1,
     "solution": true
    }
   },
   "outputs": [
    {
     "data": {
      "text/plain": [
       "{\"features\"=>{\"word_freq_our\"=>-0.628106690674003, \"word_freq_mail\"=>-0.0163998685249916, \"word_freq_you\"=>-1.2509960473524198, \"word_freq_your\"=>-0.9962817981732773, \"word_freq_font\"=>0.8660048920660688, \"char_freq_[\"=>-0.19095268670254528, \"char_freq_$\"=>-0.162631899108401, \"char_freq_#\"=>-0.038069985077358884, \"capital_run_length_average\"=>0.06686163123580875, \"capital_run_length_longest\"=>0.24027347134946417, \"capital_run_length_total\"=>0.533869650358239, \"bias\"=>1.0}, \"label\"=>1.0}"
      ]
     },
     "execution_count": 75,
     "metadata": {},
     "output_type": "execute_result"
    }
   ],
   "source": [
    "def create_zspambase spambase\n",
    "  zspambase = spambase.clone\n",
    "  zspambase[\"data\"] = spambase[\"data\"].collect do |r|\n",
    "    u = r.clone\n",
    "    u[\"features\"] = r[\"features\"].clone\n",
    "    u\n",
    "  end\n",
    "\n",
    "  \n",
    "  # BEGIN YOUR CODE\n",
    "  u = mean zspambase[\"data\"]\n",
    "  d = stdev zspambase[\"data\"]\n",
    "  zspambase[\"data\"].each do |x|\n",
    "    x[\"features\"].each do |k, v|\n",
    "      x[\"features\"][k] = d[k] == 0.0 ? x[\"features\"][k] : (x[\"features\"][k] - u[k]) / d[k]\n",
    "    end\n",
    "  end\n",
    "  \n",
    "  #END YOUR CODE\n",
    "  return zspambase\n",
    "end\n",
    "\n",
    "zspambase = create_zspambase spambase\n",
    "zspambase[\"data\"].first"
   ]
  },
  {
   "cell_type": "code",
   "execution_count": 76,
   "metadata": {
    "deletable": false,
    "editable": false,
    "nbgrader": {
     "checksum": "c4d4f5f9d7a599ca30d4aaa83198e29c",
     "grade": true,
     "grade_id": "cell-f9f979fc45ab2a30",
     "locked": true,
     "points": 6,
     "schema_version": 1,
     "solution": false
    }
   },
   "outputs": [],
   "source": [
    "### TEST ###\n",
    "t41_zs = create_zspambase spambase\n",
    "\n",
    "assert_in_delta 0.27, spambase[\"data\"].first[\"features\"][\"word_freq_our\"], 1e-5\n",
    "assert_in_delta -0.628106690674003, zspambase[\"data\"].first[\"features\"][\"word_freq_our\"], 1e-5\n",
    "\n",
    "assert_in_delta 607.0, spambase[\"data\"].first[\"features\"][\"capital_run_length_total\"], 1e-5\n",
    "assert_in_delta 0.53386, zspambase[\"data\"].first[\"features\"][\"capital_run_length_total\"], 1e-5"
   ]
  },
  {
   "cell_type": "markdown",
   "metadata": {},
   "source": [
    "## Question 4.2 (7 points)\n",
    "\n",
    "Train Linear Regression for the ```zspambase``` dataset. Tune the learning rate as needed to train in one epoch. Hint: Learning rate may need to be very small. "
   ]
  },
  {
   "cell_type": "code",
   "execution_count": 115,
   "metadata": {
    "deletable": false,
    "nbgrader": {
     "checksum": "3c4ddd54c16eb6b7d485cf6c77497441",
     "grade": false,
     "grade_id": "cell-534aff92ed1aadf8",
     "locked": false,
     "schema_version": 1,
     "solution": true
    }
   },
   "outputs": [
    {
     "data": {
      "text/plain": [
       ":train_zspambase_sgd"
      ]
     },
     "execution_count": 115,
     "metadata": {},
     "output_type": "execute_result"
    }
   ],
   "source": [
    "def train_zspambase_sgd(obj, w, dataset)\n",
    "  i = 0\n",
    "  iters = []\n",
    "  losses = []\n",
    "  \n",
    "  #Define sgd = StochasticGradientDescent.new obj, w, lr\n",
    "  # You set the learning rate, lr\n",
    "  # BEGIN YOUR CODE\n",
    "  sgd = StochasticGradientDescent.new obj, w, 0.5\n",
    "  \n",
    "  (0..9).each do |k|\n",
    "    sgd.update dataset[\"data\"].sample(20)\n",
    "    iters << k\n",
    "    losses << obj.func(dataset[\"data\"], sgd.weights)\n",
    "  end\n",
    "  #END YOUR CODE\n",
    "  return [sgd, iters, losses]\n",
    "end"
   ]
  },
  {
   "cell_type": "code",
   "execution_count": 116,
   "metadata": {
    "deletable": false,
    "editable": false,
    "nbgrader": {
     "checksum": "7881aca4101647e3c85ee5ccb52c67b6",
     "grade": true,
     "grade_id": "cell-1b5de61217794c41",
     "locked": true,
     "points": 7,
     "schema_version": 1,
     "solution": false
    }
   },
   "outputs": [
    {
     "name": "stdout",
     "output_type": "stream",
     "text": [
      "{\"bias\"=>0.3743909345473643}\n"
     ]
    },
    {
     "data": {
      "text/html": [
       "<div id='vis-bbbf213d-e7b5-4406-b139-0fb0f65baecb'></div>\n",
       "<script>\n",
       "(function(){\n",
       "    var render = function(){\n",
       "        var model = {\"panes\":[{\"diagrams\":[{\"type\":\"line\",\"options\":{\"x\":\"x\",\"y\":\"y\"},\"data\":\"1ca68348-f49f-4c27-9763-dd2137d35267\"}],\"options\":{\"x_label\":\"Batches\",\"y_label\":\"Cumulative Loss\",\"zoom\":true,\"width\":700,\"xrange\":[0,9],\"yrange\":[0.1283884619220222,0.17415242610301152]}}],\"data\":{\"1ca68348-f49f-4c27-9763-dd2137d35267\":[{\"x\":0,\"y\":0.17415242610301152},{\"x\":1,\"y\":0.1604267852339013},{\"x\":2,\"y\":0.14827659920381395},{\"x\":3,\"y\":0.14151688453855107},{\"x\":4,\"y\":0.1371134451140289},{\"x\":5,\"y\":0.13415973064781125},{\"x\":6,\"y\":0.13205180248752962},{\"x\":7,\"y\":0.13061273088086048},{\"x\":8,\"y\":0.12936719306857802},{\"x\":9,\"y\":0.1283884619220222}]},\"extension\":[]}\n",
       "        var id_name = '#vis-bbbf213d-e7b5-4406-b139-0fb0f65baecb';\n",
       "        Nyaplot.core.parse(model, id_name);\n",
       "\n",
       "        require(['downloadable'], function(downloadable){\n",
       "          var svg = d3.select(id_name).select(\"svg\");\n",
       "\t  if(!svg.empty())\n",
       "\t    svg.call(downloadable().filename('fig'));\n",
       "\t});\n",
       "    };\n",
       "    if(window['Nyaplot']==undefined){\n",
       "        window.addEventListener('load_nyaplot', render, false);\n",
       "\treturn;\n",
       "    } else {\n",
       "       render();\n",
       "    }\n",
       "})();\n",
       "</script>\n"
      ],
      "text/plain": [
       "#<Nyaplot::Plot:0x0000000004685610 @properties={:diagrams=>[#<Nyaplot::Diagram:0x000000000467d7f8 @properties={:type=>:line, :options=>{:x=>:x, :y=>:y}, :data=>\"1ca68348-f49f-4c27-9763-dd2137d35267\"}, @xrange=[0, 9], @yrange=[0.1283884619220222, 0.17415242610301152]>], :options=>{:x_label=>\"Batches\", :y_label=>\"Cumulative Loss\", :zoom=>true, :width=>700, :xrange=>[0, 9], :yrange=>[0.1283884619220222, 0.17415242610301152]}}>"
      ]
     },
     "execution_count": 116,
     "metadata": {},
     "output_type": "execute_result"
    }
   ],
   "source": [
    "### TEST ###\n",
    "t25_model = LinearRegressionModel.new\n",
    "t25_w = Hash.new {|h,k| h[k] = 0.0}\n",
    "t25_w[\"bias\"] = 1\n",
    "\n",
    "t25_trainer, t25_iter, t25_losses = train_zspambase_sgd t25_model, t25_w, zspambase\n",
    "puts t25_w\n",
    "\n",
    "t25_cum_loss = 0.0\n",
    "t25_losses.each_index {|i| t25_cum_loss += t25_losses[i]; t25_losses[i] = t25_cum_loss / (t25_iter[i] + 1)}\n",
    "assert_true (t25_losses.last < 0.15), \"Expected last loss value less than target\"\n",
    "Daru::DataFrame.new({x: t25_iter, y: t25_losses}).plot(type: :line, x: :x, y: :y) do |plot, diagram|\n",
    "  plot.x_label \"Batches\"\n",
    "  plot.y_label \"Cumulative Loss\"\n",
    "end"
   ]
  },
  {
   "cell_type": "markdown",
   "metadata": {},
   "source": [
    "## Question 4.3 (7 points)\n",
    "\n",
    "Run logistic regression on the ```zspambase``` dataset, tuning the learning rate."
   ]
  },
  {
   "cell_type": "code",
   "execution_count": 119,
   "metadata": {
    "deletable": false,
    "nbgrader": {
     "checksum": "41ad8150351136ed6e4631337bb20d57",
     "grade": false,
     "grade_id": "cell-7fd32c360f47ff13",
     "locked": false,
     "schema_version": 1,
     "solution": true
    }
   },
   "outputs": [
    {
     "data": {
      "text/plain": [
       ":train_zspambase_logistic_sgd"
      ]
     },
     "execution_count": 119,
     "metadata": {},
     "output_type": "execute_result"
    }
   ],
   "source": [
    "def train_zspambase_logistic_sgd(obj, w, dataset)\n",
    "  i = 0\n",
    "  iters = []\n",
    "  losses = []\n",
    "  \n",
    "  #Define sgd = StochasticGradientDescent.new obj, w, lr\n",
    "  # You set the learning rate, lr\n",
    "  # BEGIN YOUR CODE\n",
    "  sgd = StochasticGradientDescent.new obj, w, 0.5\n",
    "  \n",
    "  (0..99).each do |i|\n",
    "    sgd.update dataset[\"data\"].sample(50)\n",
    "    iters << i\n",
    "    losses << obj.func(dataset[\"data\"], sgd.weights)\n",
    "  end\n",
    "  #END YOUR CODE\n",
    "  return [sgd, iters, losses]\n",
    "end"
   ]
  },
  {
   "cell_type": "code",
   "execution_count": 123,
   "metadata": {
    "deletable": false,
    "editable": false,
    "nbgrader": {
     "checksum": "e0efa9ebe30c126d1b59a9bbc3341688",
     "grade": true,
     "grade_id": "cell-a2ee6be6489349a5",
     "locked": true,
     "points": 7,
     "schema_version": 1,
     "solution": false
    }
   },
   "outputs": [
    {
     "name": "stdout",
     "output_type": "stream",
     "text": [
      "{\"bias\"=>-0.27718350520703305, \"word_freq_all\"=>-0.00825717977690197, \"word_freq_our\"=>0.0038195363457372263, \"word_freq_mail\"=>-0.006752715852515531, \"word_freq_free\"=>0.029566266530159407, \"word_freq_you\"=>0.1969722523351173, \"word_freq_your\"=>0.15768691118613098, \"word_freq_re\"=>-0.07643760301093347, \"char_freq_(\"=>-0.21292087482596736, \"char_freq_!\"=>0.121391909708252, \"capital_run_length_average\"=>0.23073763473073491, \"capital_run_length_longest\"=>0.5293089355522629, \"capital_run_length_total\"=>0.5039286631700391, \"word_freq_make\"=>0.004616897228902001, \"word_freq_address\"=>-0.014152160845365315, \"word_freq_order\"=>-0.00800524710507445, \"word_freq_will\"=>-0.14371136094800735, \"word_freq_people\"=>0.011647267885007653, \"word_freq_credit\"=>0.0031859462529840224, \"word_freq_money\"=>0.005639142473809912, \"word_freq_lab\"=>-0.003700330380636649, \"word_freq_meeting\"=>0.0013884275251976326, \"char_freq_;\"=>-0.020236139660108093, \"char_freq_$\"=>0.05919116379412423, \"char_freq_#\"=>0.007588846213287413, \"word_freq_addresses\"=>0.008435260083805865, \"word_freq_hp\"=>-0.01822544151022904, \"word_freq_hpl\"=>-0.00862568993588099, \"word_freq_george\"=>-0.015699617277136327, \"word_freq_data\"=>0.0009974223259196172, \"word_freq_technology\"=>-0.019685371494992304, \"word_freq_1999\"=>0.01600621566317148, \"char_freq_[\"=>0.00435072754444848, \"word_freq_remove\"=>0.021182235847232535, \"word_freq_internet\"=>0.012280566786763357, \"word_freq_000\"=>0.009646343611386804, \"word_freq_report\"=>-0.005160176891813335, \"word_freq_over\"=>0.03305835108463279, \"word_freq_receive\"=>0.004908774080830549, \"word_freq_font\"=>0.0014953127891900826, \"word_freq_business\"=>0.03595787224184314, \"word_freq_email\"=>0.03952341121681978, \"word_freq_project\"=>-0.0038065373343753443, \"word_freq_table\"=>0.0010072731904734711, \"word_freq_conference\"=>0.000907355554999958, \"word_freq_original\"=>5.823607386851745e-05, \"word_freq_edu\"=>-0.006314744895728743, \"word_freq_pm\"=>0.0036792931555469158, \"word_freq_labs\"=>-0.00183906678241781, \"word_freq_3d\"=>0.0022151531639913046, \"word_freq_direct\"=>-0.003305518900003997, \"word_freq_650\"=>0.0022148990905698396, \"word_freq_telnet\"=>0.0016515959415489116, \"word_freq_857\"=>0.0011122186895377623, \"word_freq_415\"=>0.0006945204135267775, \"word_freq_85\"=>0.0027130670242517516, \"word_freq_cs\"=>1.2899641704722067e-05, \"word_freq_parts\"=>0.0005035161250003915}\n"
     ]
    },
    {
     "data": {
      "text/html": [
       "<div id='vis-f038913e-afca-48e0-8be1-dcf3b6213934'></div>\n",
       "<script>\n",
       "(function(){\n",
       "    var render = function(){\n",
       "        var model = {\"panes\":[{\"diagrams\":[{\"type\":\"line\",\"options\":{\"x\":\"x\",\"y\":\"y\"},\"data\":\"80b3a16e-0526-41d7-8831-8ef581786221\"}],\"options\":{\"x_label\":\"Batches\",\"y_label\":\"Cumulative Loss\",\"zoom\":true,\"width\":700,\"xrange\":[0,99],\"yrange\":[0.4731748743832208,1.3462271113590012]}}],\"data\":{\"80b3a16e-0526-41d7-8831-8ef581786221\":[{\"x\":0,\"y\":1.3462271113590012},{\"x\":1,\"y\":1.2942426284098265},{\"x\":2,\"y\":1.249661822496636},{\"x\":3,\"y\":1.2126363813101695},{\"x\":4,\"y\":1.1785084411048985},{\"x\":5,\"y\":1.1482048104493934},{\"x\":6,\"y\":1.1159759419754425},{\"x\":7,\"y\":1.0877515274767928},{\"x\":8,\"y\":1.0608516827036965},{\"x\":9,\"y\":1.0382066806096597},{\"x\":10,\"y\":1.0173507830640207},{\"x\":11,\"y\":0.9981534927950014},{\"x\":12,\"y\":0.9801935647723273},{\"x\":13,\"y\":0.9639332018055101},{\"x\":14,\"y\":0.9483323831024679},{\"x\":15,\"y\":0.9339279568008589},{\"x\":16,\"y\":0.920620359801104},{\"x\":17,\"y\":0.90786169705905},{\"x\":18,\"y\":0.8957929346240815},{\"x\":19,\"y\":0.884282840331369},{\"x\":20,\"y\":0.8730845669549294},{\"x\":21,\"y\":0.862248438326036},{\"x\":22,\"y\":0.8519558410467438},{\"x\":23,\"y\":0.8419032814857846},{\"x\":24,\"y\":0.8323483761901216},{\"x\":25,\"y\":0.8227475890479237},{\"x\":26,\"y\":0.8132945921020309},{\"x\":27,\"y\":0.8042783016253072},{\"x\":28,\"y\":0.7953478086537843},{\"x\":29,\"y\":0.786654892283657},{\"x\":30,\"y\":0.7781313219078368},{\"x\":31,\"y\":0.7698440417467811},{\"x\":32,\"y\":0.7618482244979419},{\"x\":33,\"y\":0.7538972580250158},{\"x\":34,\"y\":0.7461207671860752},{\"x\":35,\"y\":0.7384552636969443},{\"x\":36,\"y\":0.7310409411375556},{\"x\":37,\"y\":0.7237891401868883},{\"x\":38,\"y\":0.7167289200640651},{\"x\":39,\"y\":0.709867960300667},{\"x\":40,\"y\":0.7030850058654491},{\"x\":41,\"y\":0.6964364128089507},{\"x\":42,\"y\":0.6898729609840637},{\"x\":43,\"y\":0.6835058294558704},{\"x\":44,\"y\":0.6774033596662418},{\"x\":45,\"y\":0.6713396372527651},{\"x\":46,\"y\":0.6654589361702095},{\"x\":47,\"y\":0.6597305010929093},{\"x\":48,\"y\":0.6541022064293821},{\"x\":49,\"y\":0.6486212688645565},{\"x\":50,\"y\":0.643299716130118},{\"x\":51,\"y\":0.6380536998472187},{\"x\":52,\"y\":0.6329201552829149},{\"x\":53,\"y\":0.6279077567461429},{\"x\":54,\"y\":0.6230208514214715},{\"x\":55,\"y\":0.6181533306110162},{\"x\":56,\"y\":0.6134392602013566},{\"x\":57,\"y\":0.6088819299435474},{\"x\":58,\"y\":0.6043963917644273},{\"x\":59,\"y\":0.6000474908814802},{\"x\":60,\"y\":0.5957713997280144},{\"x\":61,\"y\":0.5915580546402559},{\"x\":62,\"y\":0.58741451682188},{\"x\":63,\"y\":0.5833822362960069},{\"x\":64,\"y\":0.5794399262817497},{\"x\":65,\"y\":0.5755623315317564},{\"x\":66,\"y\":0.5717999194422011},{\"x\":67,\"y\":0.5681209328324617},{\"x\":68,\"y\":0.5645073114294311},{\"x\":69,\"y\":0.5609557882604689},{\"x\":70,\"y\":0.5573986505276074},{\"x\":71,\"y\":0.5538537995061545},{\"x\":72,\"y\":0.5503591121422005},{\"x\":73,\"y\":0.5469453272994038},{\"x\":74,\"y\":0.5435361242650113},{\"x\":75,\"y\":0.5402197460508864},{\"x\":76,\"y\":0.5370024431645336},{\"x\":77,\"y\":0.5337803052733512},{\"x\":78,\"y\":0.5306242360195118},{\"x\":79,\"y\":0.5275510162411062},{\"x\":80,\"y\":0.52448596991412},{\"x\":81,\"y\":0.521498055126539},{\"x\":82,\"y\":0.5185135177179191},{\"x\":83,\"y\":0.5155590606708452},{\"x\":84,\"y\":0.5126196323766318},{\"x\":85,\"y\":0.509721558894627},{\"x\":86,\"y\":0.5068777501378032},{\"x\":87,\"y\":0.5040877586269965},{\"x\":88,\"y\":0.5012809520415299},{\"x\":89,\"y\":0.4985526666754598},{\"x\":90,\"y\":0.49588042153998846},{\"x\":91,\"y\":0.4932477551518036},{\"x\":92,\"y\":0.49062563981996676},{\"x\":93,\"y\":0.48805332842947324},{\"x\":94,\"y\":0.4855067991846945},{\"x\":95,\"y\":0.4829709007482969},{\"x\":96,\"y\":0.4804695421728058},{\"x\":97,\"y\":0.4780263934594305},{\"x\":98,\"y\":0.47559882879661824},{\"x\":99,\"y\":0.4731748743832208}]},\"extension\":[]}\n",
       "        var id_name = '#vis-f038913e-afca-48e0-8be1-dcf3b6213934';\n",
       "        Nyaplot.core.parse(model, id_name);\n",
       "\n",
       "        require(['downloadable'], function(downloadable){\n",
       "          var svg = d3.select(id_name).select(\"svg\");\n",
       "\t  if(!svg.empty())\n",
       "\t    svg.call(downloadable().filename('fig'));\n",
       "\t});\n",
       "    };\n",
       "    if(window['Nyaplot']==undefined){\n",
       "        window.addEventListener('load_nyaplot', render, false);\n",
       "\treturn;\n",
       "    } else {\n",
       "       render();\n",
       "    }\n",
       "})();\n",
       "</script>\n"
      ],
      "text/plain": [
       "#<Nyaplot::Plot:0x0000000003ae7ad8 @properties={:diagrams=>[#<Nyaplot::Diagram:0x00000000031e2370 @properties={:type=>:line, :options=>{:x=>:x, :y=>:y}, :data=>\"80b3a16e-0526-41d7-8831-8ef581786221\"}, @xrange=[0, 99], @yrange=[0.4731748743832208, 1.3462271113590012]>], :options=>{:x_label=>\"Batches\", :y_label=>\"Cumulative Loss\", :zoom=>true, :width=>700, :xrange=>[0, 99], :yrange=>[0.4731748743832208, 1.3462271113590012]}}>"
      ]
     },
     "execution_count": 123,
     "metadata": {},
     "output_type": "execute_result"
    }
   ],
   "source": [
    "### TEST ###\n",
    "t43_model = LogisticRegressionModel.new\n",
    "t43_w = Hash.new {|h,k| h[k] = 0.0}\n",
    "t43_w[\"bias\"] = 1\n",
    "\n",
    "t43_trainer, t43_iter, t43_losses = train_zspambase_logistic_sgd t43_model, t43_w, zspambase\n",
    "t43_cum_loss = 0.0\n",
    "t43_losses.each_index {|i| t43_cum_loss += t43_losses[i]; t43_losses[i] = t43_cum_loss / (t43_iter[i] + 1)}\n",
    "puts t43_w\n",
    "\n",
    "assert_true(t43_losses.last < 0.6, \"Expected last loss value < 0.6\")\n",
    "Daru::DataFrame.new({x: t43_iter, y: t43_losses}).plot(type: :line, x: :x, y: :y) do |plot, diagram|\n",
    "  plot.x_label \"Batches\"\n",
    "  plot.y_label \"Cumulative Loss\"\n",
    "end"
   ]
  },
  {
   "cell_type": "code",
   "execution_count": null,
   "metadata": {},
   "outputs": [],
   "source": []
  }
 ],
 "metadata": {
  "kernelspec": {
   "display_name": "Ruby 2.5.1",
   "language": "ruby",
   "name": "ruby"
  },
  "language_info": {
   "file_extension": ".rb",
   "mimetype": "application/x-ruby",
   "name": "ruby",
   "version": "2.5.1"
  }
 },
 "nbformat": 4,
 "nbformat_minor": 2
}
