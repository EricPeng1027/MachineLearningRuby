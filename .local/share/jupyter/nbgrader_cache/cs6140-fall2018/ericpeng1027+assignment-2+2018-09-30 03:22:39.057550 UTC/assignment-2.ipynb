{
 "cells": [
  {
   "cell_type": "markdown",
   "metadata": {},
   "source": [
    "# CS6140 Assignments\n",
    "\n",
    "**Instructions**\n",
    "1. In each assignment cell, look for the block:\n",
    " ```\n",
    "  #BEGIN YOUR CODE\n",
    "  raise NotImplementedError.new()\n",
    "  #END YOUR CODE\n",
    " ```\n",
    "1. Replace this block with your solution.\n",
    "1. Test your solution by running the cells following your block (indicated by ##TEST##)\n",
    "1. Click the \"Validate\" button above to validate the work.\n",
    "\n",
    "**Notes**\n",
    "* You may add other cells and functions as needed\n",
    "* Keep all code in the same notebook\n",
    "* In order to receive credit, code must \"Validate\" on the JupyterHub server\n",
    "\n",
    "---"
   ]
  },
  {
   "cell_type": "code",
   "execution_count": null,
   "metadata": {},
   "outputs": [],
   "source": []
  },
  {
   "cell_type": "markdown",
   "metadata": {
    "deletable": false,
    "editable": false,
    "nbgrader": {
     "checksum": "05e3a9d110e47431de53563807698b52",
     "grade": false,
     "grade_id": "cell-c71b77d5949e364b",
     "locked": true,
     "schema_version": 1,
     "solution": false
    }
   },
   "source": [
    "# Assignment 2: Decision Trees (1)\n",
    "\n",
    "---\n",
    "** Setup **"
   ]
  },
  {
   "cell_type": "code",
   "execution_count": 3,
   "metadata": {
    "deletable": false,
    "editable": false,
    "nbgrader": {
     "checksum": "d8fcac9d37dbc0b4c7596069c64ae8cc",
     "grade": false,
     "grade_id": "cell-87cf172891f05123",
     "locked": true,
     "schema_version": 1,
     "solution": false
    }
   },
   "outputs": [
    {
     "data": {
      "application/javascript": [
       "if(window['d3'] === undefined ||\n",
       "   window['Nyaplot'] === undefined){\n",
       "    var path = {\"d3\":\"https://cdnjs.cloudflare.com/ajax/libs/d3/3.5.5/d3.min\",\"downloadable\":\"http://cdn.rawgit.com/domitry/d3-downloadable/master/d3-downloadable\"};\n",
       "\n",
       "\n",
       "\n",
       "    var shim = {\"d3\":{\"exports\":\"d3\"},\"downloadable\":{\"exports\":\"downloadable\"}};\n",
       "\n",
       "    require.config({paths: path, shim:shim});\n",
       "\n",
       "\n",
       "require(['d3'], function(d3){window['d3']=d3;console.log('finished loading d3');require(['downloadable'], function(downloadable){window['downloadable']=downloadable;console.log('finished loading downloadable');\n",
       "\n",
       "\tvar script = d3.select(\"head\")\n",
       "\t    .append(\"script\")\n",
       "\t    .attr(\"src\", \"http://cdn.rawgit.com/domitry/Nyaplotjs/master/release/nyaplot.js\")\n",
       "\t    .attr(\"async\", true);\n",
       "\n",
       "\tscript[0][0].onload = script[0][0].onreadystatechange = function(){\n",
       "\n",
       "\n",
       "\t    var event = document.createEvent(\"HTMLEvents\");\n",
       "\t    event.initEvent(\"load_nyaplot\",false,false);\n",
       "\t    window.dispatchEvent(event);\n",
       "\t    console.log('Finished loading Nyaplotjs');\n",
       "\n",
       "\t};\n",
       "\n",
       "\n",
       "});});\n",
       "}\n"
      ],
      "text/plain": [
       "\"if(window['d3'] === undefined ||\\n   window['Nyaplot'] === undefined){\\n    var path = {\\\"d3\\\":\\\"https://cdnjs.cloudflare.com/ajax/libs/d3/3.5.5/d3.min\\\",\\\"downloadable\\\":\\\"http://cdn.rawgit.com/domitry/d3-downloadable/master/d3-downloadable\\\"};\\n\\n\\n\\n    var shim = {\\\"d3\\\":{\\\"exports\\\":\\\"d3\\\"},\\\"downloadable\\\":{\\\"exports\\\":\\\"downloadable\\\"}};\\n\\n    require.config({paths: path, shim:shim});\\n\\n\\nrequire(['d3'], function(d3){window['d3']=d3;console.log('finished loading d3');require(['downloadable'], function(downloadable){window['downloadable']=downloadable;console.log('finished loading downloadable');\\n\\n\\tvar script = d3.select(\\\"head\\\")\\n\\t    .append(\\\"script\\\")\\n\\t    .attr(\\\"src\\\", \\\"http://cdn.rawgit.com/domitry/Nyaplotjs/master/release/nyaplot.js\\\")\\n\\t    .attr(\\\"async\\\", true);\\n\\n\\tscript[0][0].onload = script[0][0].onreadystatechange = function(){\\n\\n\\n\\t    var event = document.createEvent(\\\"HTMLEvents\\\");\\n\\t    event.initEvent(\\\"load_nyaplot\\\",false,false);\\n\\t    window.dispatchEvent(event);\\n\\t    console.log('Finished loading Nyaplotjs');\\n\\n\\t};\\n\\n\\n});});\\n}\\n\""
      ]
     },
     "metadata": {},
     "output_type": "display_data"
    },
    {
     "data": {
      "text/plain": [
       ":read_sparse_data_from_csv"
      ]
     },
     "execution_count": 3,
     "metadata": {},
     "output_type": "execute_result"
    }
   ],
   "source": [
    "require 'test/unit/assertions'\n",
    "require 'daru'\n",
    "require 'distribution'\n",
    "require 'json'\n",
    "\n",
    "include Test::Unit::Assertions\n",
    "\n",
    "## Loads data files\n",
    "def read_sparse_data_from_csv prefix\n",
    "  data = []\n",
    "  classes = Hash.new {|h,k| h[k] = 0}\n",
    "  header = File.read(prefix + \".header\").chomp.split(\",\")  \n",
    "  \n",
    "  File.open(prefix + \".csv\").each_line.with_index do |l, i|\n",
    "    a = l.chomp.split \",\"\n",
    "    next if a.empty?\n",
    "    row = {\"features\" => Hash.new}\n",
    "    \n",
    "    header.each.with_index do |k, i|\n",
    "      v = a[i].to_f\n",
    "      if k == \"label\"\n",
    "        row[\"label\"] = v.to_i\n",
    "      else\n",
    "        next if v.zero?\n",
    "        row[\"features\"][k] = v\n",
    "      end\n",
    "    end\n",
    "    classes[row[\"label\"]] += 1\n",
    "    \n",
    "    data << row\n",
    "  end\n",
    "  return {\"classes\" => classes, \"features\" => header[0,header.size - 1], \"data\" => data}\n",
    "end"
   ]
  },
  {
   "cell_type": "code",
   "execution_count": 3,
   "metadata": {
    "deletable": false,
    "editable": false,
    "nbgrader": {
     "checksum": "571b82826ad68ecd7a0f71bfd3f8cf33",
     "grade": false,
     "grade_id": "cell-9331c98af773eba1",
     "locked": true,
     "schema_version": 1,
     "solution": false
    }
   },
   "outputs": [
    {
     "data": {
      "text/plain": [
       "[{\"features\"=>{\"sepal_length\"=>7.0, \"sepal_width\"=>3.2, \"petal_length\"=>4.7, \"petal_width\"=>1.4}, \"label\"=>1}, {\"features\"=>{\"sepal_length\"=>5.7, \"sepal_width\"=>3.0, \"petal_length\"=>4.2, \"petal_width\"=>1.2}, \"label\"=>1}]"
      ]
     },
     "execution_count": 3,
     "metadata": {},
     "output_type": "execute_result"
    }
   ],
   "source": [
    "#Preview 2 lines from the Iris dataset\n",
    "iris = read_sparse_data_from_csv \"iris\"\n",
    "iris[\"data\"][0,2]"
   ]
  },
  {
   "cell_type": "code",
   "execution_count": 4,
   "metadata": {
    "deletable": false,
    "editable": false,
    "nbgrader": {
     "checksum": "a779203db3d892700e418595644832db",
     "grade": false,
     "grade_id": "cell-fde7898c1d8c4ad9",
     "locked": true,
     "schema_version": 1,
     "solution": false
    }
   },
   "outputs": [
    {
     "data": {
      "text/plain": [
       "[{\"features\"=>{\"word_freq_our\"=>0.27, \"word_freq_mail\"=>0.83, \"word_freq_you\"=>0.27, \"word_freq_your\"=>0.27, \"word_freq_font\"=>8.58, \"char_freq_[\"=>0.092, \"char_freq_$\"=>0.185, \"char_freq_#\"=>0.232, \"capital_run_length_average\"=>7.313, \"capital_run_length_longest\"=>99.0, \"capital_run_length_total\"=>607.0}, \"label\"=>1}, {\"features\"=>{\"word_freq_your\"=>0.9, \"word_freq_george\"=>0.9, \"word_freq_data\"=>0.9, \"char_freq_[\"=>0.14, \"capital_run_length_average\"=>3.472, \"capital_run_length_longest\"=>28.0, \"capital_run_length_total\"=>125.0}, \"label\"=>0}]"
      ]
     },
     "execution_count": 4,
     "metadata": {},
     "output_type": "execute_result"
    }
   ],
   "source": [
    "#Preview 2 lines from the Spambase dataset\n",
    "spambase = read_sparse_data_from_csv \"spambase\"\n",
    "spambase[\"data\"][0,2]"
   ]
  },
  {
   "cell_type": "markdown",
   "metadata": {
    "deletable": false,
    "editable": false,
    "nbgrader": {
     "checksum": "df95999ed7137938ffe299bf72b041d2",
     "grade": false,
     "grade_id": "cell-a4bf7d3691f65b1d",
     "locked": true,
     "schema_version": 1,
     "solution": false
    }
   },
   "source": [
    "---\n",
    "## Question 1.1 (10 Points)\n",
    "Write a function that calculates the class distribution, $p(c)$, for all classes $c$ for a dataset. "
   ]
  },
  {
   "cell_type": "code",
   "execution_count": null,
   "metadata": {
    "deletable": false,
    "nbgrader": {
     "checksum": "a608324a45af947d974127e7f1c66a70",
     "grade": false,
     "grade_id": "cell-f722cb7c1c26d6af",
     "locked": false,
     "schema_version": 1,
     "solution": true
    }
   },
   "outputs": [],
   "source": [
    "def class_distribution dataset\n",
    "  # BEGIN YOUR CODE\n",
    "  output = Hash.new {|h,k| h[k] = 0}\n",
    "  \n",
    "  for data in dataset\n",
    "    output[data[\"label\"]] += 1\n",
    "  end\n",
    "\n",
    "  sum = 0.0\n",
    "  \n",
    "  output.each_value do |v|\n",
    "    sum += v\n",
    "  end\n",
    "  \n",
    "  output.each {|k,v| output[k] = v /sum}\n",
    "  \n",
    "  return output  \n",
    "  #END YOUR CODE\n",
    "end"
   ]
  },
  {
   "cell_type": "code",
   "execution_count": null,
   "metadata": {
    "deletable": false,
    "editable": false,
    "nbgrader": {
     "checksum": "0568b317183e3cc9cdbe9557611b7a5b",
     "grade": true,
     "grade_id": "cell-7effedd229c86a49",
     "locked": true,
     "points": 2.5,
     "schema_version": 1,
     "solution": false
    }
   },
   "outputs": [],
   "source": [
    "### TESTS ###\n",
    "# Check that there are three classes\n",
    "t1_iris_dist = class_distribution iris[\"data\"]\n",
    "t1_iris_num_classes = 3\n",
    "assert_equal(t1_iris_num_classes, t1_iris_dist.size)"
   ]
  },
  {
   "cell_type": "code",
   "execution_count": null,
   "metadata": {
    "deletable": false,
    "editable": false,
    "nbgrader": {
     "checksum": "6c75dfc228ffdf1b92a266c5472bd0a8",
     "grade": true,
     "grade_id": "cell-68f03a4c2c4b24e9",
     "locked": true,
     "points": 2.5,
     "schema_version": 1,
     "solution": false
    }
   },
   "outputs": [],
   "source": [
    "### TESTS ###\n",
    "# Check that each class has a probability 1/3\n",
    "t1_iris_dist = class_distribution iris[\"data\"]\n",
    "t1_iris_num_classes = 3\n",
    "t1_iris_num_classes.times do |cls|\n",
    "  assert_in_delta t1_iris_dist[cls], 0.33333, 1e-4\n",
    "end"
   ]
  },
  {
   "cell_type": "code",
   "execution_count": null,
   "metadata": {
    "deletable": false,
    "editable": false,
    "nbgrader": {
     "checksum": "e6de324d70e3bc9b54a1c3aec6daf3cc",
     "grade": true,
     "grade_id": "cell-1be06f9c3b477a05",
     "locked": true,
     "points": 2.5,
     "schema_version": 1,
     "solution": false
    }
   },
   "outputs": [],
   "source": [
    "### TESTS ###\n",
    "t1_spambase_dist = class_distribution spambase[\"data\"]\n",
    "t1_spambase_num_classes = 2\n",
    "assert_equal(t1_spambase_num_classes, t1_spambase_dist.size)"
   ]
  },
  {
   "cell_type": "code",
   "execution_count": null,
   "metadata": {
    "deletable": false,
    "editable": false,
    "nbgrader": {
     "checksum": "e7984c9d5a69ff5dea1759d823670bdd",
     "grade": true,
     "grade_id": "cell-8dbceb0d54b0eae3",
     "locked": true,
     "points": 2.5,
     "schema_version": 1,
     "solution": false
    }
   },
   "outputs": [],
   "source": [
    "### TESTS ###\n",
    "t1_spambase_dist = class_distribution spambase[\"data\"]\n",
    "assert_in_delta t1_spambase_dist[0], 0.6, 1e-1\n",
    "assert_in_delta t1_spambase_dist[1], 0.4, 1e-1"
   ]
  },
  {
   "cell_type": "markdown",
   "metadata": {
    "deletable": false,
    "editable": false,
    "nbgrader": {
     "checksum": "2524bb839951cf6e7252b0b07e46d9c0",
     "grade": false,
     "grade_id": "cell-106849099cbcbabb",
     "locked": true,
     "schema_version": 1,
     "solution": false
    }
   },
   "source": [
    "## Question 2 (20 Points)\n",
    "Adapting your code for calculating the entropy from [Assignment 1](../assignment-1/assignment-1.ipynb), use input from a hash table rather than an array. "
   ]
  },
  {
   "cell_type": "code",
   "execution_count": 9,
   "metadata": {
    "deletable": false,
    "nbgrader": {
     "checksum": "7c2e736990892c326c902c56c0765171",
     "grade": false,
     "grade_id": "cell-6e4de9e476f135ac",
     "locked": false,
     "schema_version": 1,
     "solution": true
    }
   },
   "outputs": [
    {
     "data": {
      "text/plain": [
       ":entropy"
      ]
     },
     "execution_count": 9,
     "metadata": {},
     "output_type": "execute_result"
    }
   ],
   "source": [
    "def entropy dist\n",
    "  # BEGIN YOUR CODE\n",
    "  cEnt = 0.0\n",
    "  sum = 0.0\n",
    "  \n",
    "  dist.each_value do |v|\n",
    "    sum += v\n",
    "  end\n",
    "  \n",
    "  if sum == 0.0\n",
    "    return 0\n",
    "  end\n",
    "  \n",
    "  dist.each_value do |v|\n",
    "    prob = v/sum\n",
    "    if prob < 1e-5\n",
    "      next\n",
    "    else\n",
    "      cEnt -= prob*Math.log(prob)\n",
    "    end\n",
    "  end\n",
    "  \n",
    "  return cEnt\n",
    "  #END YOUR CODE\n",
    "end"
   ]
  },
  {
   "cell_type": "code",
   "execution_count": null,
   "metadata": {
    "deletable": false,
    "editable": false,
    "nbgrader": {
     "checksum": "77b54ea647e5b0fdafb060cf6504ee31",
     "grade": true,
     "grade_id": "cell-bb1541105b009b87",
     "locked": true,
     "points": 8,
     "schema_version": 1,
     "solution": false
    }
   },
   "outputs": [],
   "source": [
    "### TESTS ###\n",
    "#Checks the class entropy for Iris dataset\n",
    "t2_iris_dist = class_distribution iris[\"data\"]\n",
    "t2_iris_entropy = entropy t2_iris_dist\n",
    "assert_equal 1.0986122886681096, t2_iris_entropy, 1e-4"
   ]
  },
  {
   "cell_type": "code",
   "execution_count": null,
   "metadata": {
    "deletable": false,
    "editable": false,
    "nbgrader": {
     "checksum": "99bbbd3b853b521be199fc2c30c9c178",
     "grade": true,
     "grade_id": "cell-efab3da77d9538b7",
     "locked": true,
     "points": 6,
     "schema_version": 1,
     "solution": false
    }
   },
   "outputs": [],
   "source": [
    "### TESTS ###\n",
    "#Checks the class entropy for Spambase dataset\n",
    "t2_spambase_dist = class_distribution spambase[\"data\"]\n",
    "t2_spambase_entropy = entropy t2_spambase_dist\n",
    "assert_equal 0.6705230209876485, t2_spambase_entropy, 1e-4"
   ]
  },
  {
   "cell_type": "code",
   "execution_count": null,
   "metadata": {
    "deletable": false,
    "editable": false,
    "nbgrader": {
     "checksum": "191eecae3e3262529329947d28d05b26",
     "grade": true,
     "grade_id": "cell-65c1df605b6d0346",
     "locked": true,
     "points": 6,
     "schema_version": 1,
     "solution": false
    }
   },
   "outputs": [],
   "source": [
    "### TESTS ###\n",
    "# Checks that code handles a class with zero members of a class\n",
    "t2_zero_dist = {0 => 0.0, 1 => 107.0}\n",
    "t2_zero_entropy = entropy t2_zero_dist\n",
    "assert_equal 0.0, t2_zero_entropy, 1e-4"
   ]
  },
  {
   "cell_type": "markdown",
   "metadata": {
    "deletable": false,
    "editable": false,
    "nbgrader": {
     "checksum": "df86c558a9ecf58baf14ad93307fb131",
     "grade": false,
     "grade_id": "cell-6ae8306c874e022a",
     "locked": true,
     "schema_version": 1,
     "solution": false
    }
   },
   "source": [
    "## Question 3.1 (5 points)\n",
    "\n",
    "Implement information gain given an initial entropy $H_0$ and a hash of counts, where the key of each hash is a split criterion and the value is an array of all examples matching the split. Call the ```class_distribution``` and ```entropy``` functions you have defined above.\n",
    "\n",
    "The formula for information gain is as follows:\n",
    "\n",
    "## $IG(Q, V) = H_0 - \\sum_{v\\in V} \\frac{|v|}{|V|} H(c\\mid v) $ "
   ]
  },
  {
   "cell_type": "code",
   "execution_count": 1,
   "metadata": {
    "deletable": false,
    "nbgrader": {
     "checksum": "76f2d34a6a765afdf386602ab8028fef",
     "grade": false,
     "grade_id": "cell-0451fe692dd14aa1",
     "locked": false,
     "schema_version": 1,
     "solution": true
    }
   },
   "outputs": [
    {
     "data": {
      "text/plain": [
       ":information_gain"
      ]
     },
     "execution_count": 1,
     "metadata": {},
     "output_type": "execute_result"
    }
   ],
   "source": [
    "def information_gain h0, splits\n",
    "  # BEGIN YOUR CODE\n",
    "  sum = 0\n",
    "  ig = h0\n",
    "  \n",
    "  splits.each_value do |v|\n",
    "    sum += v.length\n",
    "  end\n",
    "  \n",
    "  splits.each_value do |v|\n",
    "    ig -= (entropy(class_distribution(v))) * v.length / sum\n",
    "  end\n",
    "  return ig\n",
    "  #END YOUR CODE\n",
    "end"
   ]
  },
  {
   "cell_type": "code",
   "execution_count": 4,
   "metadata": {
    "deletable": false,
    "editable": false,
    "nbgrader": {
     "checksum": "59f79cec12bc0ffe47358e7048adbb4f",
     "grade": true,
     "grade_id": "cell-32e98e61405c6942",
     "locked": true,
     "points": 5,
     "schema_version": 1,
     "solution": false
    }
   },
   "outputs": [
    {
     "ename": "NameError",
     "evalue": "undefined local variable or method `iris' for main:Object",
     "output_type": "error",
     "traceback": [
      "\u001b[31mNameError\u001b[0m: undefined local variable or method `iris' for main:Object",
      "\u001b[37m<main>:1:in `<main>'\u001b[0m",
      "\u001b[37m/usr/local/rvm/gems/ruby-2.5.1/gems/iruby-0.3/lib/iruby/backend.rb:44:in `eval'\u001b[0m",
      "\u001b[37m/usr/local/rvm/gems/ruby-2.5.1/gems/iruby-0.3/lib/iruby/backend.rb:44:in `eval'\u001b[0m",
      "\u001b[37m/usr/local/rvm/gems/ruby-2.5.1/gems/iruby-0.3/lib/iruby/backend.rb:12:in `eval'\u001b[0m",
      "\u001b[37m/usr/local/rvm/gems/ruby-2.5.1/gems/iruby-0.3/lib/iruby/kernel.rb:87:in `execute_request'\u001b[0m",
      "\u001b[37m/usr/local/rvm/gems/ruby-2.5.1/gems/iruby-0.3/lib/iruby/kernel.rb:47:in `dispatch'\u001b[0m",
      "\u001b[37m/usr/local/rvm/gems/ruby-2.5.1/gems/iruby-0.3/lib/iruby/kernel.rb:37:in `run'\u001b[0m",
      "\u001b[37m/usr/local/rvm/gems/ruby-2.5.1/gems/iruby-0.3/lib/iruby/command.rb:70:in `run_kernel'\u001b[0m",
      "\u001b[37m/usr/local/rvm/gems/ruby-2.5.1/gems/iruby-0.3/lib/iruby/command.rb:34:in `run'\u001b[0m",
      "\u001b[37m/usr/local/rvm/gems/ruby-2.5.1/gems/iruby-0.3/bin/iruby:5:in `<top (required)>'\u001b[0m",
      "\u001b[37m/usr/local/rvm/gems/ruby-2.5.1/bin/iruby:23:in `load'\u001b[0m",
      "\u001b[37m/usr/local/rvm/gems/ruby-2.5.1/bin/iruby:23:in `<main>'\u001b[0m",
      "\u001b[37m/usr/local/rvm/gems/ruby-2.5.1/bin/ruby_executable_hooks:15:in `eval'\u001b[0m",
      "\u001b[37m/usr/local/rvm/gems/ruby-2.5.1/bin/ruby_executable_hooks:15:in `<main>'\u001b[0m"
     ]
    }
   ],
   "source": [
    "### TEST: Random Split ###\n",
    "t3_random_split = iris[\"data\"].group_by {|row| rand > 0.5 ? \"l\" : \"r\"}\n",
    "t3_entropy = entropy(class_distribution(iris[\"data\"]))\n"
   ]
  },
  {
   "cell_type": "markdown",
   "metadata": {},
   "source": [
    "## Question 3.2 (5 points)\n",
    "\n",
    "The test above verifies the information gain when the iris data is split with uniform probability. What should the information gain be here if we were to do this for the **spambase** dataset?"
   ]
  },
  {
   "cell_type": "code",
   "execution_count": null,
   "metadata": {
    "deletable": false,
    "nbgrader": {
     "checksum": "dffc31c94a9742b9cdba01863ddf6aee",
     "grade": false,
     "grade_id": "cell-3fcac656f06297da",
     "locked": false,
     "schema_version": 1,
     "solution": true
    }
   },
   "outputs": [],
   "source": [
    "## Make this function return a constant equal to your answer to the question above.\n",
    "def t3_random_information_gain_spambase\n",
    "  # BEGIN YOUR CODE\n",
    "  spambase = read_sparse_data_from_csv \"spambase\"\n",
    "  split = spambase[\"data\"].group_by {|data| rand > 0.5 ? \"l\" : \"r\"}\n",
    "  ent = entropy(class_distribution(spambase[\"data\"]))\n",
    "  return information_gain ent, split\n",
    "  #END YOUR CODE\n",
    "end"
   ]
  },
  {
   "cell_type": "code",
   "execution_count": null,
   "metadata": {
    "deletable": false,
    "editable": false,
    "nbgrader": {
     "checksum": "8c533aa0380811793b6c8acf7c729db5",
     "grade": true,
     "grade_id": "cell-e8af656744c354c1",
     "locked": true,
     "points": 5,
     "schema_version": 1,
     "solution": false
    }
   },
   "outputs": [],
   "source": [
    "### TEST (Hidden) ###"
   ]
  },
  {
   "cell_type": "markdown",
   "metadata": {},
   "source": [
    "## Question 3.3 (10 points)\n",
    "\n",
    "The test below verifies the information gain of the iris data when split by class value. What should the information gain be here if we were to do this for the **spambase** dataset?"
   ]
  },
  {
   "cell_type": "code",
   "execution_count": null,
   "metadata": {
    "deletable": false,
    "editable": false,
    "nbgrader": {
     "checksum": "0e3574b49f607b3c36b15064dca818d5",
     "grade": true,
     "grade_id": "cell-70ec0db203c6612e",
     "locked": true,
     "points": 5,
     "schema_version": 1,
     "solution": false
    }
   },
   "outputs": [],
   "source": [
    "### TEST: Perfect split (by class)\n",
    "t3_perfect_split = iris[\"data\"].group_by {|row| row[\"label\"]}\n",
    "t3_perfect_information_gain = information_gain t3_entropy, t3_perfect_split"
   ]
  },
  {
   "cell_type": "code",
   "execution_count": 5,
   "metadata": {
    "deletable": false,
    "nbgrader": {
     "checksum": "d9ffa2c9d5bf8311e982095da0956403",
     "grade": false,
     "grade_id": "cell-9cd1a047a1565d5b",
     "locked": false,
     "schema_version": 1,
     "solution": true
    }
   },
   "outputs": [
    {
     "data": {
      "text/plain": [
       ":t3_perfect_information_gain_spambase"
      ]
     },
     "execution_count": 5,
     "metadata": {},
     "output_type": "execute_result"
    }
   ],
   "source": [
    "## Make this function return a constant equal to your answer to the question above.\n",
    "def t3_perfect_information_gain_spambase\n",
    "  # BEGIN YOUR CODE\n",
    "  spambase = read_sparse_data_from_csv \"spambase\"\n",
    "  split = spambase[\"data\"].group_by {|data| data[\"label\"]}\n",
    "  ent = entropy(class_distribution(spambase[\"data\"]))\n",
    "  return information_gain ent, split\n",
    "  #END YOUR CODE\n",
    "end"
   ]
  },
  {
   "cell_type": "code",
   "execution_count": null,
   "metadata": {
    "deletable": false,
    "editable": false,
    "nbgrader": {
     "checksum": "842c5e08d28050aad2ceb37e1dbcc6f5",
     "grade": true,
     "grade_id": "cell-54bcaa821335b592",
     "locked": true,
     "points": 5,
     "schema_version": 1,
     "solution": false
    }
   },
   "outputs": [],
   "source": [
    "### TEST (Hidden) ###"
   ]
  },
  {
   "cell_type": "markdown",
   "metadata": {},
   "source": [
    "## Question 4 (20 points)\n",
    "Considering the only the figure below, which shows the iris dataset colored by class, what value of petal_length would have the best information gain?"
   ]
  },
  {
   "cell_type": "code",
   "execution_count": 10,
   "metadata": {
    "deletable": false,
    "editable": false,
    "nbgrader": {
     "checksum": "13a1a9cd818523f3a64fb3c23cc9730c",
     "grade": false,
     "grade_id": "cell-9412e60dd35d9724",
     "locked": true,
     "schema_version": 1,
     "solution": false
    }
   },
   "outputs": [
    {
     "data": {
      "text/html": [
       "<div id='vis-6675f18c-0193-4997-ad4f-340b33f4183e'></div>\n",
       "<script>\n",
       "(function(){\n",
       "    var render = function(){\n",
       "        var model = {\"panes\":[{\"diagrams\":[{\"type\":\"scatter\",\"options\":{\"x\":\"x1\",\"y\":\"x2\",\"title\":1,\"color\":\"rgb(127,201,127)\",\"tooltip_contents\":[1,1,1,1,1,1,1,1,1,1,1,1,1,1,1,1,1,1,1,1,1,1,1,1,1,1,1,1,1,1,1,1,1,1,1,1,1,1,1,1,1,1,1,1,1,1,1,1,1,1]},\"data\":\"12a4f2ff-d207-4673-89ec-6e9a07e7ccfa\"},{\"type\":\"scatter\",\"options\":{\"x\":\"x1\",\"y\":\"x2\",\"title\":2,\"color\":\"rgb(190,174,212)\",\"tooltip_contents\":[2,2,2,2,2,2,2,2,2,2,2,2,2,2,2,2,2,2,2,2,2,2,2,2,2,2,2,2,2,2,2,2,2,2,2,2,2,2,2,2,2,2,2,2,2,2,2,2,2,2]},\"data\":\"84d34f5f-68c5-465f-a864-369f35f46de5\"},{\"type\":\"scatter\",\"options\":{\"x\":\"x1\",\"y\":\"x2\",\"title\":0,\"color\":\"rgb(253,192,134)\",\"tooltip_contents\":[0,0,0,0,0,0,0,0,0,0,0,0,0,0,0,0,0,0,0,0,0,0,0,0,0,0,0,0,0,0,0,0,0,0,0,0,0,0,0,0,0,0,0,0,0,0,0,0,0,0]},\"data\":\"640aace0-cf1a-4a56-aa21-624681f63b5e\"}],\"options\":{\"legend\":true,\"x_label\":\"petal_length\",\"y_label\":\"sepal_width\",\"zoom\":true,\"width\":800,\"xrange\":[1.0,6.9],\"yrange\":[2.0,4.4]}}],\"data\":{\"12a4f2ff-d207-4673-89ec-6e9a07e7ccfa\":[{\"x1\":4.7,\"x2\":3.2},{\"x1\":4.2,\"x2\":3.0},{\"x1\":3.3,\"x2\":2.3},{\"x1\":3.0,\"x2\":2.5},{\"x1\":4.6,\"x2\":3.0},{\"x1\":4.2,\"x2\":2.7},{\"x1\":4.4,\"x2\":3.1},{\"x1\":4.5,\"x2\":3.0},{\"x1\":4.3,\"x2\":2.9},{\"x1\":3.5,\"x2\":2.0},{\"x1\":4.4,\"x2\":3.0},{\"x1\":4.1,\"x2\":2.8},{\"x1\":5.0,\"x2\":3.0},{\"x1\":4.5,\"x2\":2.8},{\"x1\":4.0,\"x2\":2.5},{\"x1\":4.7,\"x2\":2.9},{\"x1\":4.7,\"x2\":2.8},{\"x1\":4.7,\"x2\":3.1},{\"x1\":4.8,\"x2\":2.8},{\"x1\":4.4,\"x2\":2.6},{\"x1\":4.2,\"x2\":2.9},{\"x1\":4.5,\"x2\":2.2},{\"x1\":3.9,\"x2\":2.5},{\"x1\":4.4,\"x2\":2.3},{\"x1\":4.9,\"x2\":3.1},{\"x1\":3.9,\"x2\":2.7},{\"x1\":4.9,\"x2\":2.5},{\"x1\":4.5,\"x2\":3.4},{\"x1\":4.0,\"x2\":2.3},{\"x1\":4.6,\"x2\":2.8},{\"x1\":5.1,\"x2\":2.7},{\"x1\":4.0,\"x2\":2.2},{\"x1\":3.3,\"x2\":2.4},{\"x1\":3.5,\"x2\":2.6},{\"x1\":4.1,\"x2\":2.7},{\"x1\":4.5,\"x2\":3.0},{\"x1\":3.7,\"x2\":2.4},{\"x1\":4.6,\"x2\":2.9},{\"x1\":4.2,\"x2\":3.0},{\"x1\":4.7,\"x2\":3.3},{\"x1\":3.9,\"x2\":2.7},{\"x1\":4.5,\"x2\":2.9},{\"x1\":3.8,\"x2\":2.4},{\"x1\":4.0,\"x2\":2.8},{\"x1\":4.1,\"x2\":3.0},{\"x1\":4.0,\"x2\":2.6},{\"x1\":3.6,\"x2\":2.9},{\"x1\":4.5,\"x2\":3.2},{\"x1\":4.3,\"x2\":2.9},{\"x1\":4.8,\"x2\":3.2}],\"84d34f5f-68c5-465f-a864-369f35f46de5\":[{\"x1\":4.9,\"x2\":2.8},{\"x1\":6.4,\"x2\":3.8},{\"x1\":5.8,\"x2\":2.5},{\"x1\":5.9,\"x2\":3.2},{\"x1\":5.4,\"x2\":3.4},{\"x1\":5.1,\"x2\":2.7},{\"x1\":4.9,\"x2\":2.7},{\"x1\":6.1,\"x2\":3.6},{\"x1\":5.6,\"x2\":2.8},{\"x1\":5.3,\"x2\":3.2},{\"x1\":6.0,\"x2\":3.2},{\"x1\":5.6,\"x2\":2.8},{\"x1\":5.5,\"x2\":3.1},{\"x1\":5.1,\"x2\":2.8},{\"x1\":5.0,\"x2\":2.5},{\"x1\":5.2,\"x2\":3.0},{\"x1\":5.0,\"x2\":2.2},{\"x1\":6.1,\"x2\":2.8},{\"x1\":5.6,\"x2\":3.1},{\"x1\":4.8,\"x2\":2.8},{\"x1\":6.3,\"x2\":2.9},{\"x1\":4.8,\"x2\":3.0},{\"x1\":5.8,\"x2\":3.0},{\"x1\":5.6,\"x2\":2.9},{\"x1\":5.4,\"x2\":3.1},{\"x1\":6.0,\"x2\":3.3},{\"x1\":5.1,\"x2\":3.2},{\"x1\":5.1,\"x2\":3.1},{\"x1\":5.1,\"x2\":2.8},{\"x1\":6.6,\"x2\":3.0},{\"x1\":5.0,\"x2\":2.5},{\"x1\":6.9,\"x2\":2.6},{\"x1\":6.7,\"x2\":3.8},{\"x1\":6.7,\"x2\":2.8},{\"x1\":5.3,\"x2\":2.7},{\"x1\":5.2,\"x2\":3.0},{\"x1\":5.7,\"x2\":3.3},{\"x1\":5.7,\"x2\":3.2},{\"x1\":5.9,\"x2\":3.0},{\"x1\":5.6,\"x2\":3.4},{\"x1\":5.5,\"x2\":3.0},{\"x1\":5.1,\"x2\":3.0},{\"x1\":5.5,\"x2\":3.0},{\"x1\":5.7,\"x2\":3.3},{\"x1\":4.9,\"x2\":3.0},{\"x1\":6.1,\"x2\":3.0},{\"x1\":4.5,\"x2\":2.5},{\"x1\":5.1,\"x2\":2.7},{\"x1\":5.8,\"x2\":3.0},{\"x1\":5.6,\"x2\":2.6}],\"640aace0-cf1a-4a56-aa21-624681f63b5e\":[{\"x1\":1.6,\"x2\":3.1},{\"x1\":1.5,\"x2\":3.5},{\"x1\":1.5,\"x2\":3.4},{\"x1\":1.0,\"x2\":3.6},{\"x1\":1.3,\"x2\":3.5},{\"x1\":1.5,\"x2\":3.1},{\"x1\":1.5,\"x2\":3.7},{\"x1\":1.5,\"x2\":3.1},{\"x1\":1.5,\"x2\":3.4},{\"x1\":1.4,\"x2\":3.3},{\"x1\":1.4,\"x2\":3.4},{\"x1\":1.6,\"x2\":3.0},{\"x1\":1.6,\"x2\":3.2},{\"x1\":1.5,\"x2\":3.7},{\"x1\":1.4,\"x2\":3.0},{\"x1\":1.7,\"x2\":3.3},{\"x1\":1.3,\"x2\":3.9},{\"x1\":1.4,\"x2\":3.5},{\"x1\":1.9,\"x2\":3.8},{\"x1\":1.6,\"x2\":3.8},{\"x1\":1.4,\"x2\":2.9},{\"x1\":1.6,\"x2\":3.4},{\"x1\":1.7,\"x2\":3.9},{\"x1\":1.9,\"x2\":3.4},{\"x1\":1.3,\"x2\":3.0},{\"x1\":1.5,\"x2\":4.4},{\"x1\":1.6,\"x2\":3.4},{\"x1\":1.4,\"x2\":3.0},{\"x1\":1.6,\"x2\":3.5},{\"x1\":1.4,\"x2\":3.0},{\"x1\":1.5,\"x2\":3.7},{\"x1\":1.5,\"x2\":4.1},{\"x1\":1.5,\"x2\":3.1},{\"x1\":1.3,\"x2\":3.2},{\"x1\":1.1,\"x2\":3.0},{\"x1\":1.3,\"x2\":2.3},{\"x1\":1.4,\"x2\":4.2},{\"x1\":1.3,\"x2\":3.5},{\"x1\":1.7,\"x2\":3.8},{\"x1\":1.4,\"x2\":3.4},{\"x1\":1.4,\"x2\":3.6},{\"x1\":1.5,\"x2\":3.1},{\"x1\":1.3,\"x2\":3.2},{\"x1\":1.2,\"x2\":3.2},{\"x1\":1.4,\"x2\":3.2},{\"x1\":1.7,\"x2\":3.4},{\"x1\":1.2,\"x2\":4.0},{\"x1\":1.5,\"x2\":3.4},{\"x1\":1.5,\"x2\":3.8},{\"x1\":1.4,\"x2\":3.5}]},\"extension\":[]}\n",
       "        var id_name = '#vis-6675f18c-0193-4997-ad4f-340b33f4183e';\n",
       "        Nyaplot.core.parse(model, id_name);\n",
       "\n",
       "        require(['downloadable'], function(downloadable){\n",
       "          var svg = d3.select(id_name).select(\"svg\");\n",
       "\t  if(!svg.empty())\n",
       "\t    svg.call(downloadable().filename('fig'));\n",
       "\t});\n",
       "    };\n",
       "    if(window['Nyaplot']==undefined){\n",
       "        window.addEventListener('load_nyaplot', render, false);\n",
       "\treturn;\n",
       "    } else {\n",
       "       render();\n",
       "    }\n",
       "})();\n",
       "</script>\n"
      ],
      "text/plain": [
       "#<Nyaplot::Plot:0x0000000002986460 @properties={:diagrams=>[#<Nyaplot::Diagram:0x000000000291e090 @properties={:type=>:scatter, :options=>{:x=>:x1, :y=>:x2, :title=>1, :color=>\"rgb(127,201,127)\", :tooltip_contents=>[1, 1, 1, 1, 1, 1, 1, 1, 1, 1, 1, 1, 1, 1, 1, 1, 1, 1, 1, 1, 1, 1, 1, 1, 1, 1, 1, 1, 1, 1, 1, 1, 1, 1, 1, 1, 1, 1, 1, 1, 1, 1, 1, 1, 1, 1, 1, 1, 1, 1]}, :data=>\"12a4f2ff-d207-4673-89ec-6e9a07e7ccfa\"}, @xrange=[3.0, 5.1], @yrange=[2.0, 3.4]>, #<Nyaplot::Diagram:0x00000000028bc818 @properties={:type=>:scatter, :options=>{:x=>:x1, :y=>:x2, :title=>2, :color=>\"rgb(190,174,212)\", :tooltip_contents=>[2, 2, 2, 2, 2, 2, 2, 2, 2, 2, 2, 2, 2, 2, 2, 2, 2, 2, 2, 2, 2, 2, 2, 2, 2, 2, 2, 2, 2, 2, 2, 2, 2, 2, 2, 2, 2, 2, 2, 2, 2, 2, 2, 2, 2, 2, 2, 2, 2, 2]}, :data=>\"84d34f5f-68c5-465f-a864-369f35f46de5\"}, @xrange=[4.5, 6.9], @yrange=[2.2, 3.8]>, #<Nyaplot::Diagram:0x000000000285a668 @properties={:type=>:scatter, :options=>{:x=>:x1, :y=>:x2, :title=>0, :color=>\"rgb(253,192,134)\", :tooltip_contents=>[0, 0, 0, 0, 0, 0, 0, 0, 0, 0, 0, 0, 0, 0, 0, 0, 0, 0, 0, 0, 0, 0, 0, 0, 0, 0, 0, 0, 0, 0, 0, 0, 0, 0, 0, 0, 0, 0, 0, 0, 0, 0, 0, 0, 0, 0, 0, 0, 0, 0]}, :data=>\"640aace0-cf1a-4a56-aa21-624681f63b5e\"}, @xrange=[1.0, 1.9], @yrange=[2.3, 4.4]>], :options=>{:legend=>true, :x_label=>\"petal_length\", :y_label=>\"sepal_width\", :zoom=>true, :width=>800, :xrange=>[1.0, 6.9], :yrange=>[2.0, 4.4]}}>"
      ]
     },
     "execution_count": 10,
     "metadata": {},
     "output_type": "execute_result"
    }
   ],
   "source": [
    "d = iris[\"data\"]\n",
    "df = Daru::DataFrame.new({\n",
    "  x1: d.collect{|r| r[\"features\"][\"petal_length\"]}, \n",
    "  x2: d.collect{|r| r[\"features\"][\"sepal_width\"]}, \n",
    "  label: d.collect{|r| r[\"label\"]}\n",
    "}).to_category(:label).plot(type: :scatter, x: :x1, y: :x2, categorized: {by: :label, method: :color}) do |plot, diagram|\n",
    "  plot.x_label iris[\"features\"][2]\n",
    "  plot.y_label iris[\"features\"][1]\n",
    "  plot.legend true\n",
    "end"
   ]
  },
  {
   "cell_type": "code",
   "execution_count": 6,
   "metadata": {
    "deletable": false,
    "nbgrader": {
     "checksum": "117e7fa3accc6bfb6986392d0c0ca5cd",
     "grade": false,
     "grade_id": "cell-53b59f7169d52516",
     "locked": false,
     "schema_version": 1,
     "solution": true
    }
   },
   "outputs": [
    {
     "data": {
      "text/plain": [
       ":t4_best_split_for_petal_length_guess"
      ]
     },
     "execution_count": 6,
     "metadata": {},
     "output_type": "execute_result"
    }
   ],
   "source": [
    "## Make this function return a constant equal to your answer to the question above.\n",
    "def t4_best_split_for_petal_length_guess\n",
    "  # BEGIN YOUR CODE\n",
    "  iris = read_sparse_data_from_csv \"iris\"\n",
    "  ent = entropy(class_distribution(iris[\"data\"]))\n",
    "  \n",
    "  sp = [0.0, 0.0]\n",
    "  petal_length = 0.0\n",
    "  while petal_length <= 7.5\n",
    "    best_split = iris[\"data\"].group_by {|data| data[\"features\"][\"petal_length\"] < petal_length ? \"l\" : \"r\"}\n",
    "    ig = information_gain ent, best_split\n",
    "    if ig > sp[1]\n",
    "      sp[0] = petal_length\n",
    "      sp[1] = ig\n",
    "    end\n",
    "    petal_length += 0.01\n",
    "  end\n",
    "  return sp[0]\n",
    "  #END YOUR CODE\n",
    "end"
   ]
  },
  {
   "cell_type": "code",
   "execution_count": 7,
   "metadata": {
    "deletable": false,
    "editable": false,
    "nbgrader": {
     "checksum": "ea46911bd0e91b5cfa72da211a559fca",
     "grade": true,
     "grade_id": "cell-4bf4f45cb98ef86c",
     "locked": true,
     "points": 20,
     "schema_version": 1,
     "solution": false
    }
   },
   "outputs": [],
   "source": [
    "### TEST (Hidden) ###"
   ]
  },
  {
   "cell_type": "markdown",
   "metadata": {
    "deletable": false,
    "editable": false,
    "nbgrader": {
     "checksum": "1af2c23aea17b9de2d958a0720a04f1b",
     "grade": false,
     "grade_id": "cell-4283fab3ee1d4932",
     "locked": true,
     "schema_version": 1,
     "solution": false
    }
   },
   "source": [
    "## Question 5 (20 points)\n",
    "Implement a function which takes a feature name and a real-valued threshold and splits data into two groups: \n",
    "* Strictly less than the threshold\n",
    "* Greater than or equal to the threholds. \n",
    "\n",
    "This function returns a structure that can be used to calculate the information gain. An example is as follows:\n",
    "```\n",
    "{\"petal_length < X1\":[\n",
    "        {\"features\":{\"sepal_length\":4.8,\"sepal_width\":3.1,\"petal_length\":1.6,\"petal_width\":0.2},\"label\":0},\n",
    "],\"petal_length >= X1\":[\n",
    "        {\"features\":{\"sepal_length\":4.8,\"sepal_width\":3.1,\"petal_length\":1.6,\"petal_width\":0.2},\"label\":0},\n",
    "]}\n",
    "```"
   ]
  },
  {
   "cell_type": "code",
   "execution_count": 14,
   "metadata": {
    "deletable": false,
    "nbgrader": {
     "checksum": "2055329c09c32943fd87ca49f800e113",
     "grade": false,
     "grade_id": "cell-0a015dc7685dd60d",
     "locked": false,
     "schema_version": 1,
     "solution": true
    }
   },
   "outputs": [
    {
     "data": {
      "text/plain": [
       ":split_on_numeric_value"
      ]
     },
     "execution_count": 14,
     "metadata": {},
     "output_type": "execute_result"
    }
   ],
   "source": [
    "def split_on_numeric_value x, k, v\n",
    "  # BEGIN YOUR CODE\n",
    "  return x.group_by {|data| data[\"features\"][k].to_f < v ? \"l\" : \"r\"}\n",
    "  #END YOUR CODE\n",
    "end"
   ]
  },
  {
   "cell_type": "code",
   "execution_count": null,
   "metadata": {},
   "outputs": [],
   "source": []
  },
  {
   "cell_type": "code",
   "execution_count": null,
   "metadata": {
    "deletable": false,
    "editable": false,
    "nbgrader": {
     "checksum": "de9d1cb2d0e73658f6d6c6a65666fdaf",
     "grade": true,
     "grade_id": "cell-ee0152623e0d79f9",
     "locked": true,
     "points": 5,
     "schema_version": 1,
     "solution": false
    }
   },
   "outputs": [],
   "source": [
    "### TEST ###\n",
    "\n",
    "# Checks for the number of examples when split on petal_length = 1.7\n",
    "t5_iris_splits = split_on_numeric_value iris[\"data\"], \"petal_length\", 1.7\n",
    "t5_split_sizes = t5_iris_splits.values.collect {|v| v.size}.sort\n",
    "t5_num_splits = 2\n",
    "assert_equal t5_num_splits, t5_split_sizes.size\n",
    "assert_equal 44, t5_split_sizes[0]\n",
    "assert_equal 106, t5_split_sizes[1]"
   ]
  },
  {
   "cell_type": "code",
   "execution_count": null,
   "metadata": {
    "deletable": false,
    "editable": false,
    "nbgrader": {
     "checksum": "4a0e4ec86a22928c3196687c4ea5157f",
     "grade": true,
     "grade_id": "cell-977a7d0a41a9a921",
     "locked": true,
     "points": 5,
     "schema_version": 1,
     "solution": false
    }
   },
   "outputs": [],
   "source": [
    "### TEST ###\n",
    "\n",
    "# Checks the information gain for this split\n",
    "t5_iris_entropy = entropy(class_distribution(iris[\"data\"]))\n",
    "t5_iris_information_gain = information_gain t5_iris_entropy, t5_iris_splits\n",
    "assert_in_delta 0.48280104455013506, t5_iris_information_gain, 5e-2"
   ]
  },
  {
   "cell_type": "code",
   "execution_count": null,
   "metadata": {
    "deletable": false,
    "editable": false,
    "nbgrader": {
     "checksum": "426b29c72bc44b29ca2b08e3f0eb1484",
     "grade": true,
     "grade_id": "cell-9602959f3f1bea8d",
     "locked": true,
     "points": 5,
     "schema_version": 1,
     "solution": false
    }
   },
   "outputs": [],
   "source": [
    "### TEST ###\n",
    "\n",
    "# Checks the information gain for a split on the spambase dataset\n",
    "t5_spambase_splits = split_on_numeric_value spambase[\"data\"], \"char_freq_$\", 0.056\n",
    "t5_spambase_entropy = entropy(class_distribution(spambase[\"data\"]))\n",
    "t5_spambase_information_gain = information_gain t5_spambase_entropy, t5_spambase_splits\n",
    "assert_in_delta 0.17012249631509135, t5_spambase_information_gain, 5e-2"
   ]
  },
  {
   "cell_type": "code",
   "execution_count": 5,
   "metadata": {
    "deletable": false,
    "editable": false,
    "nbgrader": {
     "checksum": "fbffeefb751936788bd199cc08b300ea",
     "grade": true,
     "grade_id": "cell-f6432bb9ba83c17a",
     "locked": true,
     "points": 5,
     "schema_version": 1,
     "solution": false
    }
   },
   "outputs": [
    {
     "ename": "NoMethodError",
     "evalue": "undefined method `class_distribution' for main:Object",
     "output_type": "error",
     "traceback": [
      "\u001b[31mNoMethodError\u001b[0m: undefined method `class_distribution' for main:Object",
      "\u001b[37m<main>:7:in `<main>'\u001b[0m",
      "\u001b[37m/usr/local/rvm/gems/ruby-2.5.1/gems/iruby-0.3/lib/iruby/backend.rb:44:in `eval'\u001b[0m",
      "\u001b[37m/usr/local/rvm/gems/ruby-2.5.1/gems/iruby-0.3/lib/iruby/backend.rb:44:in `eval'\u001b[0m",
      "\u001b[37m/usr/local/rvm/gems/ruby-2.5.1/gems/iruby-0.3/lib/iruby/backend.rb:12:in `eval'\u001b[0m",
      "\u001b[37m/usr/local/rvm/gems/ruby-2.5.1/gems/iruby-0.3/lib/iruby/kernel.rb:87:in `execute_request'\u001b[0m",
      "\u001b[37m/usr/local/rvm/gems/ruby-2.5.1/gems/iruby-0.3/lib/iruby/kernel.rb:47:in `dispatch'\u001b[0m",
      "\u001b[37m/usr/local/rvm/gems/ruby-2.5.1/gems/iruby-0.3/lib/iruby/kernel.rb:37:in `run'\u001b[0m",
      "\u001b[37m/usr/local/rvm/gems/ruby-2.5.1/gems/iruby-0.3/lib/iruby/command.rb:70:in `run_kernel'\u001b[0m",
      "\u001b[37m/usr/local/rvm/gems/ruby-2.5.1/gems/iruby-0.3/lib/iruby/command.rb:34:in `run'\u001b[0m",
      "\u001b[37m/usr/local/rvm/gems/ruby-2.5.1/gems/iruby-0.3/bin/iruby:5:in `<top (required)>'\u001b[0m",
      "\u001b[37m/usr/local/rvm/gems/ruby-2.5.1/bin/iruby:23:in `load'\u001b[0m",
      "\u001b[37m/usr/local/rvm/gems/ruby-2.5.1/bin/iruby:23:in `<main>'\u001b[0m",
      "\u001b[37m/usr/local/rvm/gems/ruby-2.5.1/bin/ruby_executable_hooks:15:in `eval'\u001b[0m",
      "\u001b[37m/usr/local/rvm/gems/ruby-2.5.1/bin/ruby_executable_hooks:15:in `<main>'\u001b[0m"
     ]
    }
   ],
   "source": [
    "### TEST ###\n",
    "sorted_values = iris[\"data\"].collect {|r| r[\"features\"][\"petal_length\"]}.uniq.sort\n",
    "min_sl = sorted_values.first\n",
    "max_sl = sorted_values.last\n",
    "\n",
    "x = []\n",
    "y = []\n",
    "h0 = entropy(class_distribution(iris[\"data\"]))\n",
    "sorted_values.each do |t|\n",
    "  x << t\n",
    "  y << information_gain(h0, split_on_numeric_value(iris[\"data\"], \"petal_length\", t))\n",
    "end\n",
    "\n",
    "assert_equal 43, sorted_values.size\n",
    "Daru::DataFrame.new({x: x, y: y}).plot(type: :line, x: :x, y: :y) do |plot, diagram|\n",
    "  plot.x_label \"Petal Length Threshold\"\n",
    "  plot.y_label \"Information Gain\"\n",
    "  plot.xrange [min_sl,max_sl]\n",
    "end"
   ]
  },
  {
   "cell_type": "markdown",
   "metadata": {
    "deletable": false,
    "editable": false,
    "nbgrader": {
     "checksum": "8887c40c4980314e759a7c985781477c",
     "grade": false,
     "grade_id": "cell-3a51e33c9c02a0fd",
     "locked": true,
     "schema_version": 1,
     "solution": false
    }
   },
   "source": [
    "## Question 6 (10 points)\n",
    "Finding the best split value by calling ```split_on_numeric_value``` on each threshold is _very_ expensive. There is a better solution. The function should return an array consisting of the best threshold and the information gain of that threshold.\n",
    "\n",
    "\n",
    "In order to find the best split, we need to find $t^\\star$ defined as follows:\n",
    "\n",
    "$ t^\\star = \\arg \\max_{t} IG(x,V(t)) $\n",
    "\n",
    "Given that a threshold is a single real value, we can simply calculate the values $IG(x,V)$ for every value of $t$ _in order_, which leads allows us to save some work by calculating information incrementally. Notice that the split sets have a specialized form, which we can write as $V(t) = \\left\\{v_L(t), v_R(t)\\right\\}$ with $v_L(t) = \\left\\{x \\mid x < t \\right\\}$ and $v_R(t) = \\left\\{x \\mid x \\ge t \\right\\}$. \n",
    "\n",
    "As we sweep $t$ from minimum to maximum values, we note the following relations:\n",
    "\n",
    "$v_R(t + \\Delta_t) = v_R(t) - v_\\Delta$\n",
    "\n",
    "$v_L(t + \\Delta_t) = v_L(t) \\cup v_\\Delta$\n",
    "\n",
    "where $v_\\Delta = \\left\\{x \\mid t < x \\le t + \\Delta_t \\right\\}$\n",
    "\n",
    "What we add to $v_L$ is exactly what was removed from $v_R$, which means that we can easily recalculate the information gain by incrementing a class-specific counter for $v_L$ and decrementing a class-specific counter for $v_R$ as we sweep through the range of the threshold.\n"
   ]
  },
  {
   "cell_type": "code",
   "execution_count": 15,
   "metadata": {
    "deletable": false,
    "nbgrader": {
     "checksum": "037a80bd7065ccb928863287a1246ad6",
     "grade": false,
     "grade_id": "cell-080688f2e969fe61",
     "locked": false,
     "schema_version": 1,
     "solution": true
    }
   },
   "outputs": [
    {
     "data": {
      "text/plain": [
       ":find_split_point_numeric"
      ]
     },
     "execution_count": 15,
     "metadata": {},
     "output_type": "execute_result"
    }
   ],
   "source": [
    "def find_split_point_numeric x, h0, fname\n",
    "  # BEGIN YOUR CODE\n",
    "  values = x.collect {|data| data[\"features\"][fname]}.compact.uniq.sort\n",
    "  sValue = [0, 0]\n",
    "  \n",
    "  split = x.group_by do |data|\n",
    "    if data[\"features\"][fname] != nil\n",
    "      data[\"features\"][fname] < 0 ? \"l\" : \"r\"\n",
    "    end\n",
    "  end\n",
    "         \n",
    "  split[\"l\"] = []\n",
    "  \n",
    "  for v in values\n",
    "    ig = information_gain h0, split\n",
    "    if ig > sValue[1]\n",
    "      sValue[0] = v\n",
    "      sValue[1] = ig\n",
    "    end\n",
    "    \n",
    "    delta = []\n",
    "    \n",
    "    x.each do |data|\n",
    "      if data[\"features\"][fname].to_f == v\n",
    "        delta << data\n",
    "      end\n",
    "    end\n",
    "    \n",
    "    split[\"l\"] += delta\n",
    "    split[\"r\"] -= delta\n",
    "  end\n",
    "  return sValue\n",
    "  #END YOUR CODE\n",
    "end"
   ]
  },
  {
   "cell_type": "code",
   "execution_count": null,
   "metadata": {
    "deletable": false,
    "editable": false,
    "nbgrader": {
     "checksum": "f7b8a45c908e13b4096586f083f6bd92",
     "grade": true,
     "grade_id": "cell-2c420be7956a8e6a",
     "locked": true,
     "points": 2,
     "schema_version": 1,
     "solution": false
    }
   },
   "outputs": [],
   "source": [
    "### TEST ###\n",
    "t6_iris_entropy = entropy(class_distribution(iris[\"data\"]))\n",
    "t6_split_sepal_width = find_split_point_numeric iris[\"data\"], t6_iris_entropy, \"sepal_width\"\n",
    "assert_in_delta 3.4, t6_split_sepal_width[0], 1e-2"
   ]
  },
  {
   "cell_type": "code",
   "execution_count": null,
   "metadata": {
    "deletable": false,
    "editable": false,
    "nbgrader": {
     "checksum": "1fe196597c5120e85c53e89544ddc274",
     "grade": true,
     "grade_id": "cell-c8030984e5051641",
     "locked": true,
     "points": 2,
     "schema_version": 1,
     "solution": false
    }
   },
   "outputs": [],
   "source": [
    "### TEST ###\n",
    "assert_in_delta 0.18570201019349364, t6_split_sepal_width[1], 1e-2"
   ]
  },
  {
   "cell_type": "code",
   "execution_count": null,
   "metadata": {
    "deletable": false,
    "editable": false,
    "nbgrader": {
     "checksum": "325281f2354dec49fe87017de0740e35",
     "grade": true,
     "grade_id": "cell-7c70189b1104be3c",
     "locked": true,
     "points": 2,
     "schema_version": 1,
     "solution": false
    }
   },
   "outputs": [],
   "source": [
    "### TEST ###\n",
    "t6_spambase_entropy = entropy(class_distribution(spambase[\"data\"]))\n",
    "t6_split_dollar = find_split_point_numeric spambase[\"data\"], t6_spambase_entropy, \"char_freq_$\"\n",
    "assert_in_delta 0.056, t6_split_dollar[0], 1e-2"
   ]
  },
  {
   "cell_type": "code",
   "execution_count": null,
   "metadata": {
    "deletable": false,
    "editable": false,
    "nbgrader": {
     "checksum": "7e8a504e899944affe9fb7deb81648c8",
     "grade": true,
     "grade_id": "cell-c16470ca0986f6da",
     "locked": true,
     "points": 2,
     "schema_version": 1,
     "solution": false
    }
   },
   "outputs": [],
   "source": [
    "### TEST ###\n",
    "assert_in_delta 0.17012249631509135, t6_split_dollar[1], 1e-2"
   ]
  },
  {
   "cell_type": "code",
   "execution_count": null,
   "metadata": {
    "deletable": false,
    "editable": false,
    "nbgrader": {
     "checksum": "4e71217502cf32847dc00852a4c01c65",
     "grade": true,
     "grade_id": "cell-ae2486adb874eb71",
     "locked": true,
     "points": 2,
     "schema_version": 1,
     "solution": false
    }
   },
   "outputs": [],
   "source": [
    "### TEST: Produces same result as split_on_numeric_value ###\n",
    "t6_iris_expected_ig = information_gain(t6_iris_entropy, split_on_numeric_value(iris[\"data\"], \"sepal_width\", 3.4))\n",
    "assert_in_delta t6_iris_expected_ig, t6_split_sepal_width[1], 1e-2\n",
    "t6_spambase_expected_ig = information_gain(t6_spambase_entropy, split_on_numeric_value(spambase[\"data\"], \"char_freq_$\", 0.056))\n",
    "assert_in_delta t6_spambase_expected_ig, t6_split_dollar[1], 1e-2"
   ]
  }
 ],
 "metadata": {
  "kernelspec": {
   "display_name": "Ruby 2.5.1",
   "language": "ruby",
   "name": "ruby"
  },
  "language_info": {
   "file_extension": ".rb",
   "mimetype": "application/x-ruby",
   "name": "ruby",
   "version": "2.5.1"
  }
 },
 "nbformat": 4,
 "nbformat_minor": 2
}
