{
 "cells": [
  {
   "cell_type": "markdown",
   "metadata": {},
   "source": [
    "# CS6140 Assignments\n",
    "\n",
    "**Instructions**\n",
    "1. In each assignment cell, look for the block:\n",
    " ```\n",
    "  #BEGIN YOUR CODE\n",
    "  raise NotImplementedError.new()\n",
    "  #END YOUR CODE\n",
    " ```\n",
    "1. Replace this block with your solution.\n",
    "1. Test your solution by running the cells following your block (indicated by ##TEST##)\n",
    "1. Click the \"Validate\" button above to validate the work.\n",
    "\n",
    "**Notes**\n",
    "* You may add other cells and functions as needed\n",
    "* Keep all code in the same notebook\n",
    "* In order to receive credit, code must \"Validate\" on the JupyterHub server\n",
    "\n",
    "---"
   ]
  },
  {
   "cell_type": "code",
   "execution_count": null,
   "metadata": {},
   "outputs": [],
   "source": []
  },
  {
   "cell_type": "markdown",
   "metadata": {
    "deletable": false,
    "editable": false,
    "nbgrader": {
     "checksum": "c4c928542071745bbb1d772a275d6204",
     "grade": false,
     "grade_id": "cell-d6a8d32193c5cf65",
     "locked": true,
     "schema_version": 1,
     "solution": false
    }
   },
   "source": [
    "# Final Project: Part 1 - Exploratory Analysis\n",
    "\n",
    "\n",
    "We are going to do some exploratory analysis on the data to see what is available. This data is from a [Kaggle competition](https://www.kaggle.com/c/home-credit-default-risk/data). Although we are not going to be entering the competition, we will come up with something reasonable. See the associated Final Project note in the course OneNote on the acceptance criteria and requirements. \n",
    "\n",
    "The final project consists of three SQLite databases. The databases below are identical but sampled as needed. Note that databases are read-only so you should not try to create or alter the contents. You may create another database in your directory.\n",
    "\n",
    "* Train: Used for full model training, as needed.\n",
    "* Dev: Used for quick prototyping, validation, etc.\n",
    "* Test: Used to grade and evaluate your work (Note: Used when grading only).\n",
    "\n",
    "They all have the same schema, shown below. Note that there is no \"application_test\". \n",
    "\n",
    "![alt text](home_credit.png)\n"
   ]
  },
  {
   "cell_type": "code",
   "execution_count": 1,
   "metadata": {
    "deletable": false,
    "editable": false,
    "nbgrader": {
     "checksum": "110239b0956bd614205d11a2bbdfe8be",
     "grade": false,
     "grade_id": "cell-d549216699dc70dd",
     "locked": true,
     "schema_version": 1,
     "solution": false
    }
   },
   "outputs": [
    {
     "data": {
      "application/javascript": [
       "if(window['d3'] === undefined ||\n",
       "   window['Nyaplot'] === undefined){\n",
       "    var path = {\"d3\":\"https://cdnjs.cloudflare.com/ajax/libs/d3/3.5.5/d3.min\",\"downloadable\":\"http://cdn.rawgit.com/domitry/d3-downloadable/master/d3-downloadable\"};\n",
       "\n",
       "\n",
       "\n",
       "    var shim = {\"d3\":{\"exports\":\"d3\"},\"downloadable\":{\"exports\":\"downloadable\"}};\n",
       "\n",
       "    require.config({paths: path, shim:shim});\n",
       "\n",
       "\n",
       "require(['d3'], function(d3){window['d3']=d3;console.log('finished loading d3');require(['downloadable'], function(downloadable){window['downloadable']=downloadable;console.log('finished loading downloadable');\n",
       "\n",
       "\tvar script = d3.select(\"head\")\n",
       "\t    .append(\"script\")\n",
       "\t    .attr(\"src\", \"http://cdn.rawgit.com/domitry/Nyaplotjs/master/release/nyaplot.js\")\n",
       "\t    .attr(\"async\", true);\n",
       "\n",
       "\tscript[0][0].onload = script[0][0].onreadystatechange = function(){\n",
       "\n",
       "\n",
       "\t    var event = document.createEvent(\"HTMLEvents\");\n",
       "\t    event.initEvent(\"load_nyaplot\",false,false);\n",
       "\t    window.dispatchEvent(event);\n",
       "\t    console.log('Finished loading Nyaplotjs');\n",
       "\n",
       "\t};\n",
       "\n",
       "\n",
       "});});\n",
       "}\n"
      ],
      "text/plain": [
       "\"if(window['d3'] === undefined ||\\n   window['Nyaplot'] === undefined){\\n    var path = {\\\"d3\\\":\\\"https://cdnjs.cloudflare.com/ajax/libs/d3/3.5.5/d3.min\\\",\\\"downloadable\\\":\\\"http://cdn.rawgit.com/domitry/d3-downloadable/master/d3-downloadable\\\"};\\n\\n\\n\\n    var shim = {\\\"d3\\\":{\\\"exports\\\":\\\"d3\\\"},\\\"downloadable\\\":{\\\"exports\\\":\\\"downloadable\\\"}};\\n\\n    require.config({paths: path, shim:shim});\\n\\n\\nrequire(['d3'], function(d3){window['d3']=d3;console.log('finished loading d3');require(['downloadable'], function(downloadable){window['downloadable']=downloadable;console.log('finished loading downloadable');\\n\\n\\tvar script = d3.select(\\\"head\\\")\\n\\t    .append(\\\"script\\\")\\n\\t    .attr(\\\"src\\\", \\\"http://cdn.rawgit.com/domitry/Nyaplotjs/master/release/nyaplot.js\\\")\\n\\t    .attr(\\\"async\\\", true);\\n\\n\\tscript[0][0].onload = script[0][0].onreadystatechange = function(){\\n\\n\\n\\t    var event = document.createEvent(\\\"HTMLEvents\\\");\\n\\t    event.initEvent(\\\"load_nyaplot\\\",false,false);\\n\\t    window.dispatchEvent(event);\\n\\t    console.log('Finished loading Nyaplotjs');\\n\\n\\t};\\n\\n\\n});});\\n}\\n\""
      ]
     },
     "metadata": {},
     "output_type": "display_data"
    },
    {
     "data": {
      "text/plain": [
       "#<SQLite3::Database:0x0000000001b46d28 @tracefunc=nil, @authorizer=nil, @encoding=nil, @busy_handler=nil, @collations={}, @functions={}, @results_as_hash=true, @type_translation=nil, @readonly=true>"
      ]
     },
     "execution_count": 1,
     "metadata": {},
     "output_type": "execute_result"
    }
   ],
   "source": [
    "require './assignment_lib.rb'\n",
    "\n",
    "dir = \"/home/dataset\"\n",
    "$dev_db = SQLite3::Database.new \"#{dir}/credit_risk_data_dev.db\", results_as_hash: true, readonly: true\n",
    "$train_db = SQLite3::Database.new \"#{dir}/credit_risk_data_train.db\", results_as_hash: true, readonly: true"
   ]
  },
  {
   "cell_type": "markdown",
   "metadata": {},
   "source": [
    "## Getting to know the data\n",
    "Here are some sample queries to show the tables and columns for a table. You are encourages to play around with the data and export some data to your favorite data analysis system."
   ]
  },
  {
   "cell_type": "code",
   "execution_count": 4,
   "metadata": {},
   "outputs": [
    {
     "data": {
      "text/plain": [
       "[{\"name\"=>\"POS_CASH_balance\", 0=>\"POS_CASH_balance\"}, {\"name\"=>\"application_train\", 0=>\"application_train\"}, {\"name\"=>\"bureau\", 0=>\"bureau\"}, {\"name\"=>\"bureau_balance\", 0=>\"bureau_balance\"}, {\"name\"=>\"credit_card_balance\", 0=>\"credit_card_balance\"}, {\"name\"=>\"data_sample\", 0=>\"data_sample\"}, {\"name\"=>\"installments_payments\", 0=>\"installments_payments\"}, {\"name\"=>\"previous_application\", 0=>\"previous_application\"}]"
      ]
     },
     "execution_count": 4,
     "metadata": {},
     "output_type": "execute_result"
    }
   ],
   "source": [
    "sql = <<SQL\n",
    "SELECT name FROM sqlite_master\n",
    "            WHERE type='table'\n",
    "            ORDER BY name;\"\n",
    "SQL\n",
    "     \n",
    "\n",
    "$dev_db.execute(sql)"
   ]
  },
  {
   "cell_type": "code",
   "execution_count": 3,
   "metadata": {},
   "outputs": [
    {
     "data": {
      "text/plain": [
       "[\"SK_ID_CURR\", \"TARGET\", \"NAME_CONTRACT_TYPE\", \"CODE_GENDER\", \"FLAG_OWN_CAR\", \"FLAG_OWN_REALTY\", \"CNT_CHILDREN\", \"AMT_INCOME_TOTAL\", \"AMT_CREDIT\", \"AMT_ANNUITY\", \"AMT_GOODS_PRICE\", \"NAME_TYPE_SUITE\", \"NAME_INCOME_TYPE\", \"NAME_EDUCATION_TYPE\", \"NAME_FAMILY_STATUS\", \"NAME_HOUSING_TYPE\", \"REGION_POPULATION_RELATIVE\", \"DAYS_BIRTH\", \"DAYS_EMPLOYED\", \"DAYS_REGISTRATION\", \"DAYS_ID_PUBLISH\", \"OWN_CAR_AGE\", \"FLAG_MOBIL\", \"FLAG_EMP_PHONE\", \"FLAG_WORK_PHONE\", \"FLAG_CONT_MOBILE\", \"FLAG_PHONE\", \"FLAG_EMAIL\", \"OCCUPATION_TYPE\", \"CNT_FAM_MEMBERS\", \"REGION_RATING_CLIENT\", \"REGION_RATING_CLIENT_W_CITY\", \"WEEKDAY_APPR_PROCESS_START\", \"HOUR_APPR_PROCESS_START\", \"REG_REGION_NOT_LIVE_REGION\", \"REG_REGION_NOT_WORK_REGION\", \"LIVE_REGION_NOT_WORK_REGION\", \"REG_CITY_NOT_LIVE_CITY\", \"REG_CITY_NOT_WORK_CITY\", \"LIVE_CITY_NOT_WORK_CITY\", \"ORGANIZATION_TYPE\", \"EXT_SOURCE_1\", \"EXT_SOURCE_2\", \"EXT_SOURCE_3\", \"APARTMENTS_AVG\", \"BASEMENTAREA_AVG\", \"YEARS_BEGINEXPLUATATION_AVG\", \"YEARS_BUILD_AVG\", \"COMMONAREA_AVG\", \"ELEVATORS_AVG\", \"ENTRANCES_AVG\", \"FLOORSMAX_AVG\", \"FLOORSMIN_AVG\", \"LANDAREA_AVG\", \"LIVINGAPARTMENTS_AVG\", \"LIVINGAREA_AVG\", \"NONLIVINGAPARTMENTS_AVG\", \"NONLIVINGAREA_AVG\", \"APARTMENTS_MODE\", \"BASEMENTAREA_MODE\", \"YEARS_BEGINEXPLUATATION_MODE\", \"YEARS_BUILD_MODE\", \"COMMONAREA_MODE\", \"ELEVATORS_MODE\", \"ENTRANCES_MODE\", \"FLOORSMAX_MODE\", \"FLOORSMIN_MODE\", \"LANDAREA_MODE\", \"LIVINGAPARTMENTS_MODE\", \"LIVINGAREA_MODE\", \"NONLIVINGAPARTMENTS_MODE\", \"NONLIVINGAREA_MODE\", \"APARTMENTS_MEDI\", \"BASEMENTAREA_MEDI\", \"YEARS_BEGINEXPLUATATION_MEDI\", \"YEARS_BUILD_MEDI\", \"COMMONAREA_MEDI\", \"ELEVATORS_MEDI\", \"ENTRANCES_MEDI\", \"FLOORSMAX_MEDI\", \"FLOORSMIN_MEDI\", \"LANDAREA_MEDI\", \"LIVINGAPARTMENTS_MEDI\", \"LIVINGAREA_MEDI\", \"NONLIVINGAPARTMENTS_MEDI\", \"NONLIVINGAREA_MEDI\", \"FONDKAPREMONT_MODE\", \"HOUSETYPE_MODE\", \"TOTALAREA_MODE\", \"WALLSMATERIAL_MODE\", \"EMERGENCYSTATE_MODE\", \"OBS_30_CNT_SOCIAL_CIRCLE\", \"DEF_30_CNT_SOCIAL_CIRCLE\", \"OBS_60_CNT_SOCIAL_CIRCLE\", \"DEF_60_CNT_SOCIAL_CIRCLE\", \"DAYS_LAST_PHONE_CHANGE\", \"FLAG_DOCUMENT_2\", \"FLAG_DOCUMENT_3\", \"FLAG_DOCUMENT_4\", \"FLAG_DOCUMENT_5\", \"FLAG_DOCUMENT_6\", \"FLAG_DOCUMENT_7\", \"FLAG_DOCUMENT_8\", \"FLAG_DOCUMENT_9\", \"FLAG_DOCUMENT_10\", \"FLAG_DOCUMENT_11\", \"FLAG_DOCUMENT_12\", \"FLAG_DOCUMENT_13\", \"FLAG_DOCUMENT_14\", \"FLAG_DOCUMENT_15\", \"FLAG_DOCUMENT_16\", \"FLAG_DOCUMENT_17\", \"FLAG_DOCUMENT_18\", \"FLAG_DOCUMENT_19\", \"FLAG_DOCUMENT_20\", \"FLAG_DOCUMENT_21\", \"AMT_REQ_CREDIT_BUREAU_HOUR\", \"AMT_REQ_CREDIT_BUREAU_DAY\", \"AMT_REQ_CREDIT_BUREAU_WEEK\", \"AMT_REQ_CREDIT_BUREAU_MON\", \"AMT_REQ_CREDIT_BUREAU_QRT\", \"AMT_REQ_CREDIT_BUREAU_YEAR\"]"
      ]
     },
     "execution_count": 3,
     "metadata": {},
     "output_type": "execute_result"
    }
   ],
   "source": [
    "sql = \"select * from application_train\"\n",
    "$dev_db.prepare(sql).columns"
   ]
  },
  {
   "cell_type": "code",
   "execution_count": 9,
   "metadata": {},
   "outputs": [
    {
     "data": {
      "text/plain": [
       "[\"SK_ID_PREV\", \"SK_ID_CURR\", \"NAME_CONTRACT_TYPE\", \"AMT_ANNUITY\", \"AMT_APPLICATION\", \"AMT_CREDIT\", \"AMT_DOWN_PAYMENT\", \"AMT_GOODS_PRICE\", \"WEEKDAY_APPR_PROCESS_START\", \"HOUR_APPR_PROCESS_START\", \"FLAG_LAST_APPL_PER_CONTRACT\", \"NFLAG_LAST_APPL_IN_DAY\", \"RATE_DOWN_PAYMENT\", \"RATE_INTEREST_PRIMARY\", \"RATE_INTEREST_PRIVILEGED\", \"NAME_CASH_LOAN_PURPOSE\", \"NAME_CONTRACT_STATUS\", \"DAYS_DECISION\", \"NAME_PAYMENT_TYPE\", \"CODE_REJECT_REASON\", \"NAME_TYPE_SUITE\", \"NAME_CLIENT_TYPE\", \"NAME_GOODS_CATEGORY\", \"NAME_PORTFOLIO\", \"NAME_PRODUCT_TYPE\", \"CHANNEL_TYPE\", \"SELLERPLACE_AREA\", \"NAME_SELLER_INDUSTRY\", \"CNT_PAYMENT\", \"NAME_YIELD_GROUP\", \"PRODUCT_COMBINATION\", \"DAYS_FIRST_DRAWING\", \"DAYS_FIRST_DUE\", \"DAYS_LAST_DUE_1ST_VERSION\", \"DAYS_LAST_DUE\", \"DAYS_TERMINATION\", \"NFLAG_INSURED_ON_APPROVAL\"]"
      ]
     },
     "execution_count": 9,
     "metadata": {},
     "output_type": "execute_result"
    }
   ],
   "source": [
    "sql = \"select * from previous_application\"\n",
    "$dev_db.prepare(sql).columns"
   ]
  },
  {
   "cell_type": "markdown",
   "metadata": {},
   "source": [
    "## Question 1.1 (20 points)\n",
    "\n",
    "Getting familiar with SQL, try counting the number of rows in the dev database and the train database. Return a single number from an SQL query.\n",
    "\n",
    "Here is an example of how to run a query:\n",
    "\n",
    "```ruby\n",
    "def count_applications db\n",
    "    db.execute(\"select * from application_train limit 10\") do |row|\n",
    "        puts row[\"TARGET\"]\n",
    "    end\n",
    "end\n",
    "```"
   ]
  },
  {
   "cell_type": "code",
   "execution_count": 5,
   "metadata": {
    "deletable": false,
    "nbgrader": {
     "checksum": "79612a5cdb2833a43ec2f2631d25fe68",
     "grade": false,
     "grade_id": "cell-7cb4edc609624dcb",
     "locked": false,
     "schema_version": 1,
     "solution": true
    }
   },
   "outputs": [
    {
     "data": {
      "text/plain": [
       ":count_applications"
      ]
     },
     "execution_count": 5,
     "metadata": {},
     "output_type": "execute_result"
    }
   ],
   "source": [
    "def count_applications db\n",
    "  # BEGIN YOUR CODE\n",
    "  return db.execute(\"SELECT count(*) FROM application_train\")[0][\"count(*)\"]\n",
    "  #END YOUR CODE\n",
    "end"
   ]
  },
  {
   "cell_type": "code",
   "execution_count": 6,
   "metadata": {
    "deletable": false,
    "editable": false,
    "nbgrader": {
     "checksum": "cc2672566b89d5ea7b785fa9305035f6",
     "grade": true,
     "grade_id": "cell-13ea0f4ff3191c32",
     "locked": true,
     "points": 20,
     "schema_version": 1,
     "solution": false
    }
   },
   "outputs": [],
   "source": [
    "def test_11()\n",
    "  assert_equal 15334, count_applications($dev_db)\n",
    "  assert_equal 276667, count_applications($train_db)\n",
    "end\n",
    "\n",
    "test_11()"
   ]
  },
  {
   "cell_type": "markdown",
   "metadata": {},
   "source": [
    "## Begin Question 1.2 (10 points)\n",
    "\n",
    "This dataset presents a classification problem in which we seek to predict positive (target = 1) applications versus negative (target = 0) applications. Each application is identified by ```SK_ID_CURR``` in a record of the table ```application_train```. Other tables join on the ```SK_ID_CURR``` field. \n",
    "\n",
    "Return the number of applications with target value 0 and 1 as a hash. Name the counts as \"n\". "
   ]
  },
  {
   "cell_type": "code",
   "execution_count": 7,
   "metadata": {
    "deletable": false,
    "nbgrader": {
     "checksum": "93f695fedcb63a78204583bd71f6e9e4",
     "grade": false,
     "grade_id": "cell-25cbde3fc3d60ffa",
     "locked": false,
     "schema_version": 1,
     "solution": true
    }
   },
   "outputs": [
    {
     "data": {
      "text/plain": [
       ":target_distribution"
      ]
     },
     "execution_count": 7,
     "metadata": {},
     "output_type": "execute_result"
    }
   ],
   "source": [
    "def target_distribution(db)\n",
    "  # BEGIN YOUR CODE\n",
    "  distribution = Hash[0, 0, 1, 0]\n",
    "  db.execute(\"SELECT * FROM application_train\") do |row|\n",
    "    if(row[\"TARGET\"] == 0)\n",
    "      distribution[0] += 1\n",
    "    end\n",
    "    if(row[\"TARGET\"] == 1)\n",
    "      distribution[1] += 1\n",
    "    end\n",
    "  end    \n",
    "  #END YOUR CODE\n",
    "  return distribution\n",
    "end"
   ]
  },
  {
   "cell_type": "code",
   "execution_count": 8,
   "metadata": {
    "deletable": false,
    "editable": false,
    "nbgrader": {
     "checksum": "61277c6470336ce153ea805abf59e51a",
     "grade": true,
     "grade_id": "cell-17f586438787efee",
     "locked": true,
     "points": 10,
     "schema_version": 1,
     "solution": false
    }
   },
   "outputs": [],
   "source": [
    "# Tests for the counts\n",
    "def test_12()\n",
    "  dist = target_distribution($dev_db)\n",
    "  assert_equal 14101, dist[0]\n",
    "  assert_equal 1233, dist[1]\n",
    "end\n",
    "test_12()"
   ]
  },
  {
   "cell_type": "markdown",
   "metadata": {},
   "source": [
    "## Begin Question 1.3 (10 points)\n",
    "\n",
    "Write a function which, when provided a database and a name of a column with categorical values, returns a hash with the top 10 values, along with their counts. \n"
   ]
  },
  {
   "cell_type": "code",
   "execution_count": 9,
   "metadata": {
    "deletable": false,
    "nbgrader": {
     "checksum": "04bfa7e08b8941b3f3fcd8b5e7dfba7b",
     "grade": false,
     "grade_id": "cell-7465c3230afa04b6",
     "locked": false,
     "schema_version": 1,
     "solution": true
    }
   },
   "outputs": [
    {
     "data": {
      "text/plain": [
       ":feature_frequency"
      ]
     },
     "execution_count": 9,
     "metadata": {},
     "output_type": "execute_result"
    }
   ],
   "source": [
    "def feature_frequency db, fname\n",
    "  frequency = Hash.new\n",
    "  # BEGIN YOUR CODE\n",
    "  db.execute(\"SELECT * FROM application_train\") do |row|\n",
    "    if(frequency.has_key?(row[fname]))\n",
    "      frequency[row[fname]] += 1\n",
    "    else\n",
    "      frequency[row[fname]] = 1\n",
    "    end\n",
    "  end\n",
    "  #END YOUR CODE\n",
    "  return frequency\n",
    "end\n"
   ]
  },
  {
   "cell_type": "code",
   "execution_count": 10,
   "metadata": {
    "deletable": false,
    "editable": false,
    "nbgrader": {
     "checksum": "6526a5f161a82abc7f6a2e30ef415643",
     "grade": true,
     "grade_id": "cell-270d1b5d024a8839",
     "locked": true,
     "points": 10,
     "schema_version": 1,
     "solution": false
    }
   },
   "outputs": [],
   "source": [
    "def test_13\n",
    "  d_ct = feature_frequency $dev_db, \"NAME_CONTRACT_TYPE\"\n",
    "  assert_equal 2, d_ct.size\n",
    "  assert_equal 13867, d_ct[\"Cash loans\"]\n",
    "  assert_equal 1467, d_ct[\"Revolving loans\"]\n",
    "end\n",
    "\n",
    "test_13()"
   ]
  },
  {
   "cell_type": "code",
   "execution_count": null,
   "metadata": {
    "deletable": false,
    "editable": false,
    "nbgrader": {
     "checksum": "c757b67f1968f93f33d417be98ab92d6",
     "grade": true,
     "grade_id": "cell-127139949dd19368",
     "locked": true,
     "points": 10,
     "schema_version": 1,
     "solution": false
    }
   },
   "outputs": [],
   "source": []
  },
  {
   "cell_type": "code",
   "execution_count": null,
   "metadata": {
    "deletable": false,
    "editable": false,
    "nbgrader": {
     "checksum": "e3f9b74354df11031dff67073f56bf25",
     "grade": true,
     "grade_id": "cell-3f4e1b31ae120b89",
     "locked": true,
     "points": 10,
     "schema_version": 1,
     "solution": false
    }
   },
   "outputs": [],
   "source": []
  },
  {
   "cell_type": "code",
   "execution_count": null,
   "metadata": {
    "deletable": false,
    "editable": false,
    "nbgrader": {
     "checksum": "2db8dea401b66c5d9db57ed2947578ce",
     "grade": true,
     "grade_id": "cell-413ef7afec56ca4d",
     "locked": true,
     "points": 10,
     "schema_version": 1,
     "solution": false
    }
   },
   "outputs": [],
   "source": []
  },
  {
   "cell_type": "code",
   "execution_count": null,
   "metadata": {
    "deletable": false,
    "editable": false,
    "nbgrader": {
     "checksum": "59131dba96d173193b9fb071fb7bc103",
     "grade": true,
     "grade_id": "cell-fbfc310ae2bd1e32",
     "locked": true,
     "points": 10,
     "schema_version": 1,
     "solution": false
    }
   },
   "outputs": [],
   "source": []
  },
  {
   "cell_type": "markdown",
   "metadata": {},
   "source": [
    "## Begin Question 1.4 (10 points)\n",
    "\n",
    "Count the number of positive (target = 1) and negative (target = 0) applications from ```application_train``` with exactly 4 records in ```previous_application```."
   ]
  },
  {
   "cell_type": "code",
   "execution_count": 2,
   "metadata": {
    "deletable": false,
    "nbgrader": {
     "checksum": "cf72e6de3dec32e876fe864ca9851e8a",
     "grade": false,
     "grade_id": "cell-1c928944deb25f38",
     "locked": false,
     "schema_version": 1,
     "solution": true
    }
   },
   "outputs": [
    {
     "data": {
      "text/plain": [
       ":num_with_prev"
      ]
     },
     "execution_count": 2,
     "metadata": {},
     "output_type": "execute_result"
    }
   ],
   "source": [
    "def num_with_prev(db)\n",
    "  counts = Hash.new\n",
    "  # BEGIN YOUR CODE\n",
    "  sql = \"SELECT application_train.target, COUNT(application_train.target) FROM application_train\n",
    "         INNER JOIN (SELECT SK_ID_CURR, COUNT(SK_ID_CURR) AS count FROM previous_application\n",
    "          GROUP BY SK_ID_CURR HAVING count=4) AS G\n",
    "          ON application_train.SK_ID_CURR=G.SK_ID_CURR\n",
    "         GROUP BY application_train.target\"\n",
    "  db.execute(sql).each do |row|\n",
    "    counts[row[0]] = row[1]\n",
    "  end   \n",
    "  #END YOUR CODE\n",
    "  return counts\n",
    "end"
   ]
  },
  {
   "cell_type": "code",
   "execution_count": 12,
   "metadata": {},
   "outputs": [
    {
     "data": {
      "text/plain": [
       "[{\"SK_ID_CURR\"=>100002, \"TARGET\"=>1, \"NAME_CONTRACT_TYPE\"=>\"Cash loans\", \"CODE_GENDER\"=>\"M\", \"FLAG_OWN_CAR\"=>\"N\", \"FLAG_OWN_REALTY\"=>\"Y\", \"CNT_CHILDREN\"=>0, \"AMT_INCOME_TOTAL\"=>202500, \"AMT_CREDIT\"=>406597.5, \"AMT_ANNUITY\"=>24700.5, \"AMT_GOODS_PRICE\"=>351000, \"NAME_TYPE_SUITE\"=>\"Unaccompanied\", \"NAME_INCOME_TYPE\"=>\"Working\", \"NAME_EDUCATION_TYPE\"=>\"Secondary / secondary special\", \"NAME_FAMILY_STATUS\"=>\"Single / not married\", \"NAME_HOUSING_TYPE\"=>\"House / apartment\", \"REGION_POPULATION_RELATIVE\"=>0.018801, \"DAYS_BIRTH\"=>-9461, \"DAYS_EMPLOYED\"=>-637, \"DAYS_REGISTRATION\"=>-3648, \"DAYS_ID_PUBLISH\"=>-2120, \"OWN_CAR_AGE\"=>\"\", \"FLAG_MOBIL\"=>1, \"FLAG_EMP_PHONE\"=>1, \"FLAG_WORK_PHONE\"=>0, \"FLAG_CONT_MOBILE\"=>1, \"FLAG_PHONE\"=>1, \"FLAG_EMAIL\"=>0, \"OCCUPATION_TYPE\"=>\"Laborers\", \"CNT_FAM_MEMBERS\"=>1, \"REGION_RATING_CLIENT\"=>2, \"REGION_RATING_CLIENT_W_CITY\"=>2, \"WEEKDAY_APPR_PROCESS_START\"=>\"WEDNESDAY\", \"HOUR_APPR_PROCESS_START\"=>10, \"REG_REGION_NOT_LIVE_REGION\"=>0, \"REG_REGION_NOT_WORK_REGION\"=>0, \"LIVE_REGION_NOT_WORK_REGION\"=>0, \"REG_CITY_NOT_LIVE_CITY\"=>0, \"REG_CITY_NOT_WORK_CITY\"=>0, \"LIVE_CITY_NOT_WORK_CITY\"=>0, \"ORGANIZATION_TYPE\"=>\"Business Entity Type 3\", \"EXT_SOURCE_1\"=>0.08303696739132256, \"EXT_SOURCE_2\"=>0.2629485927471776, \"EXT_SOURCE_3\"=>0.13937578009978951, \"APARTMENTS_AVG\"=>0.0247, \"BASEMENTAREA_AVG\"=>0.0369, \"YEARS_BEGINEXPLUATATION_AVG\"=>0.9722, \"YEARS_BUILD_AVG\"=>0.6192, \"COMMONAREA_AVG\"=>0.0143, \"ELEVATORS_AVG\"=>0, \"ENTRANCES_AVG\"=>0.069, \"FLOORSMAX_AVG\"=>0.0833, \"FLOORSMIN_AVG\"=>0.125, \"LANDAREA_AVG\"=>0.0369, \"LIVINGAPARTMENTS_AVG\"=>0.0202, \"LIVINGAREA_AVG\"=>0.019, \"NONLIVINGAPARTMENTS_AVG\"=>0, \"NONLIVINGAREA_AVG\"=>0, \"APARTMENTS_MODE\"=>0.0252, \"BASEMENTAREA_MODE\"=>0.0383, \"YEARS_BEGINEXPLUATATION_MODE\"=>0.9722, \"YEARS_BUILD_MODE\"=>0.6341, \"COMMONAREA_MODE\"=>0.0144, \"ELEVATORS_MODE\"=>0, \"ENTRANCES_MODE\"=>0.069, \"FLOORSMAX_MODE\"=>0.0833, \"FLOORSMIN_MODE\"=>0.125, \"LANDAREA_MODE\"=>0.0377, \"LIVINGAPARTMENTS_MODE\"=>0.022, \"LIVINGAREA_MODE\"=>0.0198, \"NONLIVINGAPARTMENTS_MODE\"=>0, \"NONLIVINGAREA_MODE\"=>0, \"APARTMENTS_MEDI\"=>0.025, \"BASEMENTAREA_MEDI\"=>0.0369, \"YEARS_BEGINEXPLUATATION_MEDI\"=>0.9722, \"YEARS_BUILD_MEDI\"=>0.6243, \"COMMONAREA_MEDI\"=>0.0144, \"ELEVATORS_MEDI\"=>0, \"ENTRANCES_MEDI\"=>0.069, \"FLOORSMAX_MEDI\"=>0.0833, \"FLOORSMIN_MEDI\"=>0.125, \"LANDAREA_MEDI\"=>0.0375, \"LIVINGAPARTMENTS_MEDI\"=>0.0205, \"LIVINGAREA_MEDI\"=>0.0193, \"NONLIVINGAPARTMENTS_MEDI\"=>0, \"NONLIVINGAREA_MEDI\"=>0, \"FONDKAPREMONT_MODE\"=>\"reg oper account\", \"HOUSETYPE_MODE\"=>\"block of flats\", \"TOTALAREA_MODE\"=>0.0149, \"WALLSMATERIAL_MODE\"=>\"Stone, brick\", \"EMERGENCYSTATE_MODE\"=>\"No\", \"OBS_30_CNT_SOCIAL_CIRCLE\"=>\"2.0\", \"DEF_30_CNT_SOCIAL_CIRCLE\"=>\"2.0\", \"OBS_60_CNT_SOCIAL_CIRCLE\"=>\"2.0\", \"DEF_60_CNT_SOCIAL_CIRCLE\"=>\"2.0\", \"DAYS_LAST_PHONE_CHANGE\"=>-1134, \"FLAG_DOCUMENT_2\"=>0, \"FLAG_DOCUMENT_3\"=>1, \"FLAG_DOCUMENT_4\"=>0, \"FLAG_DOCUMENT_5\"=>0, \"FLAG_DOCUMENT_6\"=>0, \"FLAG_DOCUMENT_7\"=>0, \"FLAG_DOCUMENT_8\"=>0, \"FLAG_DOCUMENT_9\"=>0, \"FLAG_DOCUMENT_10\"=>0, \"FLAG_DOCUMENT_11\"=>0, \"FLAG_DOCUMENT_12\"=>0, \"FLAG_DOCUMENT_13\"=>0, \"FLAG_DOCUMENT_14\"=>0, \"FLAG_DOCUMENT_15\"=>0, \"FLAG_DOCUMENT_16\"=>0, \"FLAG_DOCUMENT_17\"=>0, \"FLAG_DOCUMENT_18\"=>0, \"FLAG_DOCUMENT_19\"=>0, \"FLAG_DOCUMENT_20\"=>0, \"FLAG_DOCUMENT_21\"=>0, \"AMT_REQ_CREDIT_BUREAU_HOUR\"=>0, \"AMT_REQ_CREDIT_BUREAU_DAY\"=>0, \"AMT_REQ_CREDIT_BUREAU_WEEK\"=>0, \"AMT_REQ_CREDIT_BUREAU_MON\"=>0, \"AMT_REQ_CREDIT_BUREAU_QRT\"=>0, \"AMT_REQ_CREDIT_BUREAU_YEAR\"=>1, 0=>100002, 1=>1, 2=>\"Cash loans\", 3=>\"M\", 4=>\"N\", 5=>\"Y\", 6=>0, 7=>202500, 8=>406597.5, 9=>24700.5, 10=>351000, 11=>\"Unaccompanied\", 12=>\"Working\", 13=>\"Secondary / secondary special\", 14=>\"Single / not married\", 15=>\"House / apartment\", 16=>0.018801, 17=>-9461, 18=>-637, 19=>-3648, 20=>-2120, 21=>\"\", 22=>1, 23=>1, 24=>0, 25=>1, 26=>1, 27=>0, 28=>\"Laborers\", 29=>1, 30=>2, 31=>2, 32=>\"WEDNESDAY\", 33=>10, 34=>0, 35=>0, 36=>0, 37=>0, 38=>0, 39=>0, 40=>\"Business Entity Type 3\", 41=>0.08303696739132256, 42=>0.2629485927471776, 43=>0.13937578009978951, 44=>0.0247, 45=>0.0369, 46=>0.9722, 47=>0.6192, 48=>0.0143, 49=>0, 50=>0.069, 51=>0.0833, 52=>0.125, 53=>0.0369, 54=>0.0202, 55=>0.019, 56=>0, 57=>0, 58=>0.0252, 59=>0.0383, 60=>0.9722, 61=>0.6341, 62=>0.0144, 63=>0, 64=>0.069, 65=>0.0833, 66=>0.125, 67=>0.0377, 68=>0.022, 69=>0.0198, 70=>0, 71=>0, 72=>0.025, 73=>0.0369, 74=>0.9722, 75=>0.6243, 76=>0.0144, 77=>0, 78=>0.069, 79=>0.0833, 80=>0.125, 81=>0.0375, 82=>0.0205, 83=>0.0193, 84=>0, 85=>0, 86=>\"reg oper account\", 87=>\"block of flats\", 88=>0.0149, 89=>\"Stone, brick\", 90=>\"No\", 91=>\"2.0\", 92=>\"2.0\", 93=>\"2.0\", 94=>\"2.0\", 95=>-1134, 96=>0, 97=>1, 98=>0, 99=>0, 100=>0, 101=>0, 102=>0, 103=>0, 104=>0, 105=>0, 106=>0, 107=>0, 108=>0, 109=>0, 110=>0, 111=>0, 112=>0, 113=>0, 114=>0, 115=>0, 116=>0, 117=>0, 118=>0, 119=>0, 120=>0, 121=>1}, {\"SK_ID_CURR\"=>100007, \"TARGET\"=>0, \"NAME_CONTRACT_TYPE\"=>\"Cash loans\", \"CODE_GENDER\"=>\"M\", \"FLAG_OWN_CAR\"=>\"N\", \"FLAG_OWN_REALTY\"=>\"Y\", \"CNT_CHILDREN\"=>0, \"AMT_INCOME_TOTAL\"=>121500, \"AMT_CREDIT\"=>513000, \"AMT_ANNUITY\"=>21865.5, \"AMT_GOODS_PRICE\"=>513000, \"NAME_TYPE_SUITE\"=>\"Unaccompanied\", \"NAME_INCOME_TYPE\"=>\"Working\", \"NAME_EDUCATION_TYPE\"=>\"Secondary / secondary special\", \"NAME_FAMILY_STATUS\"=>\"Single / not married\", \"NAME_HOUSING_TYPE\"=>\"House / apartment\", \"REGION_POPULATION_RELATIVE\"=>0.028663, \"DAYS_BIRTH\"=>-19932, \"DAYS_EMPLOYED\"=>-3038, \"DAYS_REGISTRATION\"=>-4311, \"DAYS_ID_PUBLISH\"=>-3458, \"OWN_CAR_AGE\"=>\"\", \"FLAG_MOBIL\"=>1, \"FLAG_EMP_PHONE\"=>1, \"FLAG_WORK_PHONE\"=>0, \"FLAG_CONT_MOBILE\"=>1, \"FLAG_PHONE\"=>0, \"FLAG_EMAIL\"=>0, \"OCCUPATION_TYPE\"=>\"Core staff\", \"CNT_FAM_MEMBERS\"=>1, \"REGION_RATING_CLIENT\"=>2, \"REGION_RATING_CLIENT_W_CITY\"=>2, \"WEEKDAY_APPR_PROCESS_START\"=>\"THURSDAY\", \"HOUR_APPR_PROCESS_START\"=>11, \"REG_REGION_NOT_LIVE_REGION\"=>0, \"REG_REGION_NOT_WORK_REGION\"=>0, \"LIVE_REGION_NOT_WORK_REGION\"=>0, \"REG_CITY_NOT_LIVE_CITY\"=>0, \"REG_CITY_NOT_WORK_CITY\"=>1, \"LIVE_CITY_NOT_WORK_CITY\"=>1, \"ORGANIZATION_TYPE\"=>\"Religion\", \"EXT_SOURCE_1\"=>\"\", \"EXT_SOURCE_2\"=>0.3227382869704046, \"EXT_SOURCE_3\"=>\"\", \"APARTMENTS_AVG\"=>\"\", \"BASEMENTAREA_AVG\"=>\"\", \"YEARS_BEGINEXPLUATATION_AVG\"=>\"\", \"YEARS_BUILD_AVG\"=>\"\", \"COMMONAREA_AVG\"=>\"\", \"ELEVATORS_AVG\"=>\"\", \"ENTRANCES_AVG\"=>\"\", \"FLOORSMAX_AVG\"=>\"\", \"FLOORSMIN_AVG\"=>\"\", \"LANDAREA_AVG\"=>\"\", \"LIVINGAPARTMENTS_AVG\"=>\"\", \"LIVINGAREA_AVG\"=>\"\", \"NONLIVINGAPARTMENTS_AVG\"=>\"\", \"NONLIVINGAREA_AVG\"=>\"\", \"APARTMENTS_MODE\"=>\"\", \"BASEMENTAREA_MODE\"=>\"\", \"YEARS_BEGINEXPLUATATION_MODE\"=>\"\", \"YEARS_BUILD_MODE\"=>\"\", \"COMMONAREA_MODE\"=>\"\", \"ELEVATORS_MODE\"=>\"\", \"ENTRANCES_MODE\"=>\"\", \"FLOORSMAX_MODE\"=>\"\", \"FLOORSMIN_MODE\"=>\"\", \"LANDAREA_MODE\"=>\"\", \"LIVINGAPARTMENTS_MODE\"=>\"\", \"LIVINGAREA_MODE\"=>\"\", \"NONLIVINGAPARTMENTS_MODE\"=>\"\", \"NONLIVINGAREA_MODE\"=>\"\", \"APARTMENTS_MEDI\"=>\"\", \"BASEMENTAREA_MEDI\"=>\"\", \"YEARS_BEGINEXPLUATATION_MEDI\"=>\"\", \"YEARS_BUILD_MEDI\"=>\"\", \"COMMONAREA_MEDI\"=>\"\", \"ELEVATORS_MEDI\"=>\"\", \"ENTRANCES_MEDI\"=>\"\", \"FLOORSMAX_MEDI\"=>\"\", \"FLOORSMIN_MEDI\"=>\"\", \"LANDAREA_MEDI\"=>\"\", \"LIVINGAPARTMENTS_MEDI\"=>\"\", \"LIVINGAREA_MEDI\"=>\"\", \"NONLIVINGAPARTMENTS_MEDI\"=>\"\", \"NONLIVINGAREA_MEDI\"=>\"\", \"FONDKAPREMONT_MODE\"=>\"\", \"HOUSETYPE_MODE\"=>\"\", \"TOTALAREA_MODE\"=>\"\", \"WALLSMATERIAL_MODE\"=>\"\", \"EMERGENCYSTATE_MODE\"=>\"\", \"OBS_30_CNT_SOCIAL_CIRCLE\"=>\"0.0\", \"DEF_30_CNT_SOCIAL_CIRCLE\"=>\"0.0\", \"OBS_60_CNT_SOCIAL_CIRCLE\"=>\"0.0\", \"DEF_60_CNT_SOCIAL_CIRCLE\"=>\"0.0\", \"DAYS_LAST_PHONE_CHANGE\"=>-1106, \"FLAG_DOCUMENT_2\"=>0, \"FLAG_DOCUMENT_3\"=>0, \"FLAG_DOCUMENT_4\"=>0, \"FLAG_DOCUMENT_5\"=>0, \"FLAG_DOCUMENT_6\"=>0, \"FLAG_DOCUMENT_7\"=>0, \"FLAG_DOCUMENT_8\"=>1, \"FLAG_DOCUMENT_9\"=>0, \"FLAG_DOCUMENT_10\"=>0, \"FLAG_DOCUMENT_11\"=>0, \"FLAG_DOCUMENT_12\"=>0, \"FLAG_DOCUMENT_13\"=>0, \"FLAG_DOCUMENT_14\"=>0, \"FLAG_DOCUMENT_15\"=>0, \"FLAG_DOCUMENT_16\"=>0, \"FLAG_DOCUMENT_17\"=>0, \"FLAG_DOCUMENT_18\"=>0, \"FLAG_DOCUMENT_19\"=>0, \"FLAG_DOCUMENT_20\"=>0, \"FLAG_DOCUMENT_21\"=>0, \"AMT_REQ_CREDIT_BUREAU_HOUR\"=>0, \"AMT_REQ_CREDIT_BUREAU_DAY\"=>0, \"AMT_REQ_CREDIT_BUREAU_WEEK\"=>0, \"AMT_REQ_CREDIT_BUREAU_MON\"=>0, \"AMT_REQ_CREDIT_BUREAU_QRT\"=>0, \"AMT_REQ_CREDIT_BUREAU_YEAR\"=>0, 0=>100007, 1=>0, 2=>\"Cash loans\", 3=>\"M\", 4=>\"N\", 5=>\"Y\", 6=>0, 7=>121500, 8=>513000, 9=>21865.5, 10=>513000, 11=>\"Unaccompanied\", 12=>\"Working\", 13=>\"Secondary / secondary special\", 14=>\"Single / not married\", 15=>\"House / apartment\", 16=>0.028663, 17=>-19932, 18=>-3038, 19=>-4311, 20=>-3458, 21=>\"\", 22=>1, 23=>1, 24=>0, 25=>1, 26=>0, 27=>0, 28=>\"Core staff\", 29=>1, 30=>2, 31=>2, 32=>\"THURSDAY\", 33=>11, 34=>0, 35=>0, 36=>0, 37=>0, 38=>1, 39=>1, 40=>\"Religion\", 41=>\"\", 42=>0.3227382869704046, 43=>\"\", 44=>\"\", 45=>\"\", 46=>\"\", 47=>\"\", 48=>\"\", 49=>\"\", 50=>\"\", 51=>\"\", 52=>\"\", 53=>\"\", 54=>\"\", 55=>\"\", 56=>\"\", 57=>\"\", 58=>\"\", 59=>\"\", 60=>\"\", 61=>\"\", 62=>\"\", 63=>\"\", 64=>\"\", 65=>\"\", 66=>\"\", 67=>\"\", 68=>\"\", 69=>\"\", 70=>\"\", 71=>\"\", 72=>\"\", 73=>\"\", 74=>\"\", 75=>\"\", 76=>\"\", 77=>\"\", 78=>\"\", 79=>\"\", 80=>\"\", 81=>\"\", 82=>\"\", 83=>\"\", 84=>\"\", 85=>\"\", 86=>\"\", 87=>\"\", 88=>\"\", 89=>\"\", 90=>\"\", 91=>\"0.0\", 92=>\"0.0\", 93=>\"0.0\", 94=>\"0.0\", 95=>-1106, 96=>0, 97=>0, 98=>0, 99=>0, 100=>0, 101=>0, 102=>1, 103=>0, 104=>0, 105=>0, 106=>0, 107=>0, 108=>0, 109=>0, 110=>0, 111=>0, 112=>0, 113=>0, 114=>0, 115=>0, 116=>0, 117=>0, 118=>0, 119=>0, 120=>0, 121=>0}]"
      ]
     },
     "execution_count": 12,
     "metadata": {},
     "output_type": "execute_result"
    }
   ],
   "source": [
    "$dev_db.execute(\"SELECT * FROM application_train limit 2\")"
   ]
  },
  {
   "cell_type": "code",
   "execution_count": 11,
   "metadata": {},
   "outputs": [
    {
     "data": {
      "text/plain": [
       "[{\"SK_ID_PREV\"=>1397919, \"SK_ID_CURR\"=>321676, \"NAME_CONTRACT_TYPE\"=>\"Consumer loans\", \"AMT_ANNUITY\"=>7654.86, \"AMT_APPLICATION\"=>53779.5, \"AMT_CREDIT\"=>57564, \"AMT_DOWN_PAYMENT\"=>0, \"AMT_GOODS_PRICE\"=>53779.5, \"WEEKDAY_APPR_PROCESS_START\"=>\"SUNDAY\", \"HOUR_APPR_PROCESS_START\"=>15, \"FLAG_LAST_APPL_PER_CONTRACT\"=>\"Y\", \"NFLAG_LAST_APPL_IN_DAY\"=>1, \"RATE_DOWN_PAYMENT\"=>0, \"RATE_INTEREST_PRIMARY\"=>\"\", \"RATE_INTEREST_PRIVILEGED\"=>\"\", \"NAME_CASH_LOAN_PURPOSE\"=>\"XAP\", \"NAME_CONTRACT_STATUS\"=>\"Approved\", \"DAYS_DECISION\"=>-408, \"NAME_PAYMENT_TYPE\"=>\"Cash through the bank\", \"CODE_REJECT_REASON\"=>\"XAP\", \"NAME_TYPE_SUITE\"=>\"Unaccompanied\", \"NAME_CLIENT_TYPE\"=>\"New\", \"NAME_GOODS_CATEGORY\"=>\"Consumer Electronics\", \"NAME_PORTFOLIO\"=>\"POS\", \"NAME_PRODUCT_TYPE\"=>\"XNA\", \"CHANNEL_TYPE\"=>\"Country-wide\", \"SELLERPLACE_AREA\"=>\"200\", \"NAME_SELLER_INDUSTRY\"=>\"Consumer electronics\", \"CNT_PAYMENT\"=>8, \"NAME_YIELD_GROUP\"=>\"low_action\", \"PRODUCT_COMBINATION\"=>\"POS household without interest\", \"DAYS_FIRST_DRAWING\"=>365243, \"DAYS_FIRST_DUE\"=>-378, \"DAYS_LAST_DUE_1ST_VERSION\"=>-168, \"DAYS_LAST_DUE\"=>-168, \"DAYS_TERMINATION\"=>-163, \"NFLAG_INSURED_ON_APPROVAL\"=>1, 0=>1397919, 1=>321676, 2=>\"Consumer loans\", 3=>7654.86, 4=>53779.5, 5=>57564, 6=>0, 7=>53779.5, 8=>\"SUNDAY\", 9=>15, 10=>\"Y\", 11=>1, 12=>0, 13=>\"\", 14=>\"\", 15=>\"XAP\", 16=>\"Approved\", 17=>-408, 18=>\"Cash through the bank\", 19=>\"XAP\", 20=>\"Unaccompanied\", 21=>\"New\", 22=>\"Consumer Electronics\", 23=>\"POS\", 24=>\"XNA\", 25=>\"Country-wide\", 26=>\"200\", 27=>\"Consumer electronics\", 28=>8, 29=>\"low_action\", 30=>\"POS household without interest\", 31=>365243, 32=>-378, 33=>-168, 34=>-168, 35=>-163, 36=>1}, {\"SK_ID_PREV\"=>2273188, \"SK_ID_CURR\"=>270658, \"NAME_CONTRACT_TYPE\"=>\"Consumer loans\", \"AMT_ANNUITY\"=>9644.22, \"AMT_APPLICATION\"=>26550, \"AMT_CREDIT\"=>27252, \"AMT_DOWN_PAYMENT\"=>0, \"AMT_GOODS_PRICE\"=>26550, \"WEEKDAY_APPR_PROCESS_START\"=>\"SATURDAY\", \"HOUR_APPR_PROCESS_START\"=>10, \"FLAG_LAST_APPL_PER_CONTRACT\"=>\"Y\", \"NFLAG_LAST_APPL_IN_DAY\"=>1, \"RATE_DOWN_PAYMENT\"=>0, \"RATE_INTEREST_PRIMARY\"=>\"\", \"RATE_INTEREST_PRIVILEGED\"=>\"\", \"NAME_CASH_LOAN_PURPOSE\"=>\"XAP\", \"NAME_CONTRACT_STATUS\"=>\"Approved\", \"DAYS_DECISION\"=>-726, \"NAME_PAYMENT_TYPE\"=>\"Cash through the bank\", \"CODE_REJECT_REASON\"=>\"XAP\", \"NAME_TYPE_SUITE\"=>\"\", \"NAME_CLIENT_TYPE\"=>\"New\", \"NAME_GOODS_CATEGORY\"=>\"Construction Materials\", \"NAME_PORTFOLIO\"=>\"POS\", \"NAME_PRODUCT_TYPE\"=>\"XNA\", \"CHANNEL_TYPE\"=>\"Stone\", \"SELLERPLACE_AREA\"=>\"83\", \"NAME_SELLER_INDUSTRY\"=>\"Consumer electronics\", \"CNT_PAYMENT\"=>3, \"NAME_YIELD_GROUP\"=>\"middle\", \"PRODUCT_COMBINATION\"=>\"POS household with interest\", \"DAYS_FIRST_DRAWING\"=>365243, \"DAYS_FIRST_DUE\"=>-693, \"DAYS_LAST_DUE_1ST_VERSION\"=>-633, \"DAYS_LAST_DUE\"=>-633, \"DAYS_TERMINATION\"=>-627, \"NFLAG_INSURED_ON_APPROVAL\"=>0, 0=>2273188, 1=>270658, 2=>\"Consumer loans\", 3=>9644.22, 4=>26550, 5=>27252, 6=>0, 7=>26550, 8=>\"SATURDAY\", 9=>10, 10=>\"Y\", 11=>1, 12=>0, 13=>\"\", 14=>\"\", 15=>\"XAP\", 16=>\"Approved\", 17=>-726, 18=>\"Cash through the bank\", 19=>\"XAP\", 20=>\"\", 21=>\"New\", 22=>\"Construction Materials\", 23=>\"POS\", 24=>\"XNA\", 25=>\"Stone\", 26=>\"83\", 27=>\"Consumer electronics\", 28=>3, 29=>\"middle\", 30=>\"POS household with interest\", 31=>365243, 32=>-693, 33=>-633, 34=>-633, 35=>-627, 36=>0}]"
      ]
     },
     "execution_count": 11,
     "metadata": {},
     "output_type": "execute_result"
    }
   ],
   "source": [
    "$dev_db.execute(\"SELECT * FROM previous_application limit 2\")"
   ]
  },
  {
   "cell_type": "code",
   "execution_count": 3,
   "metadata": {
    "deletable": false,
    "editable": false,
    "nbgrader": {
     "checksum": "4ec644c871067488a647b0e456cc1d1f",
     "grade": true,
     "grade_id": "cell-3d564de824595d29",
     "locked": true,
     "points": 20,
     "schema_version": 1,
     "solution": false
    }
   },
   "outputs": [],
   "source": [
    "def test_14()\n",
    "  t = num_with_prev($dev_db)\n",
    "  assert_true(t.has_key? 0)\n",
    "  assert_true(t.has_key? 1)\n",
    "end\n",
    "\n",
    "test_14()"
   ]
  },
  {
   "cell_type": "code",
   "execution_count": null,
   "metadata": {},
   "outputs": [],
   "source": []
  },
  {
   "cell_type": "code",
   "execution_count": null,
   "metadata": {},
   "outputs": [],
   "source": []
  }
 ],
 "metadata": {
  "kernelspec": {
   "display_name": "Ruby 2.5.1",
   "language": "ruby",
   "name": "ruby"
  },
  "language_info": {
   "file_extension": ".rb",
   "mimetype": "application/x-ruby",
   "name": "ruby",
   "version": "2.5.1"
  }
 },
 "nbformat": 4,
 "nbformat_minor": 2
}
