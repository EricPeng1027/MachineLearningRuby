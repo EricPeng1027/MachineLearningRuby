{
 "cells": [
  {
   "cell_type": "markdown",
   "metadata": {},
   "source": [
    "# CS6140 Assignments\n",
    "\n",
    "**Instructions**\n",
    "1. In each assignment cell, look for the block:\n",
    " ```\n",
    "  #BEGIN YOUR CODE\n",
    "  raise NotImplementedError.new()\n",
    "  #END YOUR CODE\n",
    " ```\n",
    "1. Replace this block with your solution.\n",
    "1. Test your solution by running the cells following your block (indicated by ##TEST##)\n",
    "1. Click the \"Validate\" button above to validate the work.\n",
    "\n",
    "**Notes**\n",
    "* You may add other cells and functions as needed\n",
    "* Keep all code in the same notebook\n",
    "* In order to receive credit, code must \"Validate\" on the JupyterHub server\n",
    "\n",
    "---"
   ]
  },
  {
   "cell_type": "code",
   "execution_count": null,
   "metadata": {},
   "outputs": [],
   "source": []
  },
  {
   "cell_type": "markdown",
   "metadata": {
    "deletable": false,
    "editable": false,
    "nbgrader": {
     "checksum": "1a3f9dfb4cb872b812d639c5bfaf406f",
     "grade": false,
     "grade_id": "cell-364148038b9bfb4c",
     "locked": true,
     "schema_version": 1,
     "solution": false
    }
   },
   "source": [
    "# Assignment 7: Kernels\n"
   ]
  },
  {
   "cell_type": "code",
   "execution_count": 87,
   "metadata": {
    "deletable": false,
    "editable": false,
    "nbgrader": {
     "checksum": "27898d8cd3420ad27f7b948d66cbffc6",
     "grade": false,
     "grade_id": "cell-ea19a6dbe645de78",
     "locked": true,
     "schema_version": 1,
     "solution": false
    }
   },
   "outputs": [
    {
     "data": {
      "text/plain": [
       "false"
      ]
     },
     "execution_count": 87,
     "metadata": {},
     "output_type": "execute_result"
    }
   ],
   "source": [
    "require './assignment_lib'"
   ]
  },
  {
   "cell_type": "markdown",
   "metadata": {},
   "source": [
    "## Question 1.1: Prepare Dataset (1 points)\n",
    "\n",
    "We will generate and plot a synthetic dataset to illustrate Kernel learning. Here is a pre-defined dataset for us to use in this exercise. Paste **your** dot and norm function in the cell below."
   ]
  },
  {
   "cell_type": "code",
   "execution_count": 88,
   "metadata": {
    "deletable": false,
    "editable": false,
    "nbgrader": {
     "checksum": "7f2e2a127b57ad19573b5a5609e6f9b4",
     "grade": false,
     "grade_id": "cell-826c4bf3ceb5974f",
     "locked": true,
     "schema_version": 1,
     "solution": false
    }
   },
   "outputs": [
    {
     "data": {
      "text/html": [
       "<div id='vis-8bf90836-7bf4-468a-8fe8-88fd8c559c7f'></div>\n",
       "<script>\n",
       "(function(){\n",
       "    var render = function(){\n",
       "        var model = {\"panes\":[{\"diagrams\":[{\"type\":\"scatter\",\"options\":{\"x\":\"x1\",\"y\":\"x2\",\"title\":1.0,\"color\":\"rgb(228,26,28)\",\"tooltip_contents\":[1.0,1.0,1.0,1.0,1.0,1.0,1.0,1.0,1.0,1.0,1.0,1.0,1.0,1.0,1.0,1.0,1.0,1.0,1.0,1.0,1.0,1.0,1.0,1.0,1.0,1.0,1.0,1.0,1.0,1.0,1.0,1.0,1.0,1.0,1.0,1.0,1.0,1.0,1.0,1.0,1.0,1.0,1.0,1.0,1.0,1.0,1.0,1.0,1.0,1.0,1.0,1.0,1.0,1.0,1.0,1.0,1.0,1.0,1.0,1.0,1.0,1.0,1.0,1.0,1.0,1.0,1.0,1.0,1.0,1.0,1.0,1.0,1.0,1.0,1.0,1.0,1.0,1.0,1.0,1.0,1.0,1.0,1.0,1.0,1.0,1.0,1.0,1.0,1.0,1.0,1.0,1.0,1.0,1.0,1.0,1.0,1.0]},\"data\":\"32fd3177-c5f0-4dee-aa10-73e00406d8b5\"},{\"type\":\"scatter\",\"options\":{\"x\":\"x1\",\"y\":\"x2\",\"title\":0.0,\"color\":\"rgb(55,126,184)\",\"tooltip_contents\":[0.0,0.0,0.0,0.0,0.0,0.0,0.0,0.0,0.0,0.0,0.0,0.0,0.0,0.0,0.0,0.0,0.0,0.0,0.0,0.0,0.0,0.0,0.0,0.0,0.0,0.0,0.0,0.0,0.0,0.0,0.0,0.0,0.0,0.0,0.0,0.0,0.0,0.0,0.0,0.0,0.0,0.0,0.0,0.0,0.0,0.0,0.0,0.0,0.0,0.0,0.0,0.0,0.0,0.0,0.0,0.0,0.0,0.0,0.0,0.0,0.0,0.0,0.0,0.0,0.0,0.0,0.0,0.0,0.0,0.0,0.0,0.0,0.0,0.0,0.0,0.0,0.0,0.0,0.0,0.0,0.0,0.0,0.0,0.0,0.0,0.0,0.0,0.0,0.0,0.0,0.0,0.0,0.0,0.0,0.0,0.0,0.0]},\"data\":\"bc0d2931-bbe9-410f-8069-562337cf1988\"}],\"options\":{\"legend\":false,\"xrange\":[-8,8],\"x_label\":\"X1\",\"yrange\":[-8,8],\"y_label\":\"X2\",\"zoom\":true,\"width\":700}}],\"data\":{\"32fd3177-c5f0-4dee-aa10-73e00406d8b5\":[{\"x1\":0.0,\"x2\":6.5},{\"x1\":1.2558939479788256,\"x2\":6.313805242595796},{\"x1\":2.4396068813274474,\"x2\":5.889732019759453},{\"x1\":3.507037095936239,\"x2\":5.248651927659817},{\"x1\":4.419417382415921,\"x2\":4.419417382415922},{\"x1\":5.144718226121999,\"x2\":3.437590816808789},{\"x1\":5.658762136631632,\"x2\":2.3439360232361754},{\"x1\":5.946010762444584,\"x2\":1.182735077222778},{\"x1\":6.0,\"x2\":3.6739403974420594e-16},{\"x1\":5.823412602394181,\"x2\":-1.1583487869707612},{\"x1\":5.427792253503809,\"x2\":-2.248265165144902},{\"x1\":4.832917121508546,\"x2\":-3.2292519794264365},{\"x1\":4.065863991822648,\"x2\":-4.065863991822648},{\"x1\":3.159805700298987,\"x2\":-4.728983419970727},{\"x1\":2.1525943070536306,\"x2\":-5.196822370375988},{\"x1\":1.0851899162147154,\"x2\":-5.455618122242969},{\"x1\":6.735557395310443e-16,\"x2\":-5.5},{\"x1\":-1.060803625962698,\"x2\":-5.333019962192566},{\"x1\":-2.056923448962357,\"x2\":-4.965852487248167},{\"x1\":-2.9514668629166354,\"x2\":-4.417182315357273},{\"x1\":-3.7123106012293743,\"x2\":-3.712310601229375},{\"x1\":-4.313248613819454,\"x2\":-2.882020583789186},{\"x1\":-4.734882604120344,\"x2\":-1.961252590871088},{\"x1\":-4.965225482041354,\"x2\":-0.9876447552066514},{\"x1\":-5.0,\"x2\":-9.184850993605148e-16},{\"x1\":-4.842627321990951,\"x2\":0.9632584649546335},{\"x1\":-4.503912720992522,\"x2\":1.8655817327798139},{\"x1\":-4.001447509206,\"x2\":2.673681746406834},{\"x1\":-3.3587572106361017,\"x2\":3.3587572106361},{\"x1\":-2.604235467279385,\"x2\":3.897513807668181},{\"x1\":-1.769910874688543,\"x2\":4.2729428378647},{\"x1\":-0.8900995941985873,\"x2\":4.4748328418397385},{\"x1\":-1.102182119232618e-15,\"x2\":4.5},{\"x1\":0.8657133039465691,\"x2\":4.352234681789335},{\"x1\":1.6742400165972686,\"x2\":4.041972954736879},{\"x1\":2.395896629897033,\"x2\":3.5857127030547273},{\"x1\":3.0052038200428264,\"x2\":3.0052038200428277},{\"x1\":3.4817790015169083,\"x2\":2.3264503507695844},{\"x1\":3.811003071609057,\"x2\":1.578569158505998},{\"x1\":3.9844402016381233,\"x2\":0.7925544331905231},{\"x1\":4.0,\"x2\":1.2246467991473533e-15},{\"x1\":3.8618420415877206,\"x2\":-0.7681681429385012},{\"x1\":3.580033188481236,\"x2\":-1.4828983004147234},{\"x1\":3.169977896903455,\"x2\":-2.1181115133872317},{\"x1\":2.6516504294495564,\"x2\":-2.65165042944955},{\"x1\":2.0486652342597833,\"x2\":-3.066044195365635},{\"x1\":1.3872274423234532,\"x2\":-3.3490633053534133},{\"x1\":0.6950092721824559,\"x2\":-3.494047561436509},{\"x1\":1.2858791391047208e-15,\"x2\":-3.5},{\"x1\":-0.6706229819304375,\"x2\":-3.3714494013861054},{\"x1\":-1.2915565842321781,\"x2\":-3.1180934222255927},{\"x1\":-1.8403263968774308,\"x2\":-2.754243090752182},{\"x1\":-2.2980970388562807,\"x2\":-2.298097038856278},{\"x1\":-2.6503093892143625,\"x2\":-1.7708801177499827},{\"x1\":-2.88712353909777,\"x2\":-1.195885726140908},{\"x1\":-3.0036549212348937,\"x2\":-0.5974641111743921},{\"x1\":-3.0,\"x2\":-1.2858791391047208e-15},{\"x1\":-2.88105676118449,\"x2\":0.5730778209223736},{\"x1\":-2.6561536559699492,\"x2\":1.100214868049633},{\"x1\":-2.3385082846009095,\"x2\":1.5625412803676295},{\"x1\":-1.9445436482630083,\"x2\":1.9445436482630032},{\"x1\":-1.4930950012401814,\"x2\":2.23457458306309},{\"x1\":-1.004544009958363,\"x2\":2.425183772842127},{\"x1\":-0.4999189501663282,\"x2\":2.513262281033278},{\"x1\":-1.2246467991473533e-15,\"x2\":2.5},{\"x1\":0.4755326599143099,\"x2\":2.3906641209828745},{\"x1\":0.9088731518670881,\"x2\":2.194213889714306},{\"x1\":1.2847561638578286,\"x2\":1.9227734784496369},{\"x1\":1.5909902576697326,\"x2\":1.5909902576697312},{\"x1\":1.8188397769118172,\"x2\":1.2153098847303805},{\"x1\":1.9632440065864836,\"x2\":0.8132022937758177},{\"x1\":2.022869640831663,\"x2\":0.4023737891582643},{\"x1\":2.0,\"x2\":1.102182119232618e-15},{\"x1\":1.9002714807812593,\"x2\":-0.37798749890624617},{\"x1\":1.732274123458663,\"x2\":-0.7175314356845431},{\"x1\":1.507038672298364,\"x2\":-1.0069710473480278},{\"x1\":1.23743686707646,\"x2\":-1.2374368670764564},{\"x1\":0.9375247682205793,\"x2\":-1.4031049707605447},{\"x1\":0.6218605775932724,\"x2\":-1.5013042403308403},{\"x1\":0.30482862815020034,\"x2\":-1.5324770006300477},{\"x1\":9.18485099360515e-16,\"x2\":-1.5},{\"x1\":-0.28044233789818257,\"x2\":-1.409878840579644},{\"x1\":-0.5261897195019959,\"x2\":-1.2703343572030203},{\"x1\":-0.7291859308382289,\"x2\":-1.09130386614709},{\"x1\":-0.8838834764831847,\"x2\":-0.8838834764831842},{\"x1\":-0.9873701646092722,\"x2\":-0.6597396517107781},{\"x1\":-1.039364474075197,\"x2\":-0.43051886141072715},{\"x1\":-1.042084360428432,\"x2\":-0.20728346714213813},{\"x1\":-1.0,\"x2\":-2.4499125789312946e-15},{\"x1\":-0.9194862003780284,\"x2\":0.18289717689012064},{\"x1\":-0.808394590947376,\"x2\":0.33484800331945336},{\"x1\":-0.6755690599958184,\"x2\":0.4514008143284262},{\"x1\":-0.5303300858899115,\"x2\":0.5303300858899098},{\"x1\":-0.3819545352009778,\"x2\":0.571635358457999},{\"x1\":-0.23917714522818076,\"x2\":0.5774247078195544},{\"x1\":-0.10973830613407219,\"x2\":0.5516917202268171},{\"x1\":-3.6739403974420594e-16,\"x2\":0.5}],\"bc0d2931-bbe9-410f-8069-562337cf1988\":[{\"x1\":-0.0,\"x2\":-6.5},{\"x1\":-1.2558939479788256,\"x2\":-6.313805242595796},{\"x1\":-2.4396068813274474,\"x2\":-5.889732019759453},{\"x1\":-3.507037095936239,\"x2\":-5.248651927659817},{\"x1\":-4.419417382415921,\"x2\":-4.419417382415922},{\"x1\":-5.144718226121999,\"x2\":-3.437590816808789},{\"x1\":-5.658762136631632,\"x2\":-2.3439360232361754},{\"x1\":-5.946010762444584,\"x2\":-1.182735077222778},{\"x1\":-6.0,\"x2\":-3.6739403974420594e-16},{\"x1\":-5.823412602394181,\"x2\":1.1583487869707612},{\"x1\":-5.427792253503809,\"x2\":2.248265165144902},{\"x1\":-4.832917121508546,\"x2\":3.2292519794264365},{\"x1\":-4.065863991822648,\"x2\":4.065863991822648},{\"x1\":-3.159805700298987,\"x2\":4.728983419970727},{\"x1\":-2.1525943070536306,\"x2\":5.196822370375988},{\"x1\":-1.0851899162147154,\"x2\":5.455618122242969},{\"x1\":-6.735557395310443e-16,\"x2\":5.5},{\"x1\":1.060803625962698,\"x2\":5.333019962192566},{\"x1\":2.056923448962357,\"x2\":4.965852487248167},{\"x1\":2.9514668629166354,\"x2\":4.417182315357273},{\"x1\":3.7123106012293743,\"x2\":3.712310601229375},{\"x1\":4.313248613819454,\"x2\":2.882020583789186},{\"x1\":4.734882604120344,\"x2\":1.961252590871088},{\"x1\":4.965225482041354,\"x2\":0.9876447552066514},{\"x1\":5.0,\"x2\":9.184850993605148e-16},{\"x1\":4.842627321990951,\"x2\":-0.9632584649546335},{\"x1\":4.503912720992522,\"x2\":-1.8655817327798139},{\"x1\":4.001447509206,\"x2\":-2.673681746406834},{\"x1\":3.3587572106361017,\"x2\":-3.3587572106361},{\"x1\":2.604235467279385,\"x2\":-3.897513807668181},{\"x1\":1.769910874688543,\"x2\":-4.2729428378647},{\"x1\":0.8900995941985873,\"x2\":-4.4748328418397385},{\"x1\":1.102182119232618e-15,\"x2\":-4.5},{\"x1\":-0.8657133039465691,\"x2\":-4.352234681789335},{\"x1\":-1.6742400165972686,\"x2\":-4.041972954736879},{\"x1\":-2.395896629897033,\"x2\":-3.5857127030547273},{\"x1\":-3.0052038200428264,\"x2\":-3.0052038200428277},{\"x1\":-3.4817790015169083,\"x2\":-2.3264503507695844},{\"x1\":-3.811003071609057,\"x2\":-1.578569158505998},{\"x1\":-3.9844402016381233,\"x2\":-0.7925544331905231},{\"x1\":-4.0,\"x2\":-1.2246467991473533e-15},{\"x1\":-3.8618420415877206,\"x2\":0.7681681429385012},{\"x1\":-3.580033188481236,\"x2\":1.4828983004147234},{\"x1\":-3.169977896903455,\"x2\":2.1181115133872317},{\"x1\":-2.6516504294495564,\"x2\":2.65165042944955},{\"x1\":-2.0486652342597833,\"x2\":3.066044195365635},{\"x1\":-1.3872274423234532,\"x2\":3.3490633053534133},{\"x1\":-0.6950092721824559,\"x2\":3.494047561436509},{\"x1\":-1.2858791391047208e-15,\"x2\":3.5},{\"x1\":0.6706229819304375,\"x2\":3.3714494013861054},{\"x1\":1.2915565842321781,\"x2\":3.1180934222255927},{\"x1\":1.8403263968774308,\"x2\":2.754243090752182},{\"x1\":2.2980970388562807,\"x2\":2.298097038856278},{\"x1\":2.6503093892143625,\"x2\":1.7708801177499827},{\"x1\":2.88712353909777,\"x2\":1.195885726140908},{\"x1\":3.0036549212348937,\"x2\":0.5974641111743921},{\"x1\":3.0,\"x2\":1.2858791391047208e-15},{\"x1\":2.88105676118449,\"x2\":-0.5730778209223736},{\"x1\":2.6561536559699492,\"x2\":-1.100214868049633},{\"x1\":2.3385082846009095,\"x2\":-1.5625412803676295},{\"x1\":1.9445436482630083,\"x2\":-1.9445436482630032},{\"x1\":1.4930950012401814,\"x2\":-2.23457458306309},{\"x1\":1.004544009958363,\"x2\":-2.425183772842127},{\"x1\":0.4999189501663282,\"x2\":-2.513262281033278},{\"x1\":1.2246467991473533e-15,\"x2\":-2.5},{\"x1\":-0.4755326599143099,\"x2\":-2.3906641209828745},{\"x1\":-0.9088731518670881,\"x2\":-2.194213889714306},{\"x1\":-1.2847561638578286,\"x2\":-1.9227734784496369},{\"x1\":-1.5909902576697326,\"x2\":-1.5909902576697312},{\"x1\":-1.8188397769118172,\"x2\":-1.2153098847303805},{\"x1\":-1.9632440065864836,\"x2\":-0.8132022937758177},{\"x1\":-2.022869640831663,\"x2\":-0.4023737891582643},{\"x1\":-2.0,\"x2\":-1.102182119232618e-15},{\"x1\":-1.9002714807812593,\"x2\":0.37798749890624617},{\"x1\":-1.732274123458663,\"x2\":0.7175314356845431},{\"x1\":-1.507038672298364,\"x2\":1.0069710473480278},{\"x1\":-1.23743686707646,\"x2\":1.2374368670764564},{\"x1\":-0.9375247682205793,\"x2\":1.4031049707605447},{\"x1\":-0.6218605775932724,\"x2\":1.5013042403308403},{\"x1\":-0.30482862815020034,\"x2\":1.5324770006300477},{\"x1\":-9.18485099360515e-16,\"x2\":1.5},{\"x1\":0.28044233789818257,\"x2\":1.409878840579644},{\"x1\":0.5261897195019959,\"x2\":1.2703343572030203},{\"x1\":0.7291859308382289,\"x2\":1.09130386614709},{\"x1\":0.8838834764831847,\"x2\":0.8838834764831842},{\"x1\":0.9873701646092722,\"x2\":0.6597396517107781},{\"x1\":1.039364474075197,\"x2\":0.43051886141072715},{\"x1\":1.042084360428432,\"x2\":0.20728346714213813},{\"x1\":1.0,\"x2\":2.4499125789312946e-15},{\"x1\":0.9194862003780284,\"x2\":-0.18289717689012064},{\"x1\":0.808394590947376,\"x2\":-0.33484800331945336},{\"x1\":0.6755690599958184,\"x2\":-0.4514008143284262},{\"x1\":0.5303300858899115,\"x2\":-0.5303300858899098},{\"x1\":0.3819545352009778,\"x2\":-0.571635358457999},{\"x1\":0.23917714522818076,\"x2\":-0.5774247078195544},{\"x1\":0.10973830613407219,\"x2\":-0.5516917202268171},{\"x1\":3.6739403974420594e-16,\"x2\":-0.5}]},\"extension\":[]}\n",
       "        var id_name = '#vis-8bf90836-7bf4-468a-8fe8-88fd8c559c7f';\n",
       "        Nyaplot.core.parse(model, id_name);\n",
       "\n",
       "        require(['downloadable'], function(downloadable){\n",
       "          var svg = d3.select(id_name).select(\"svg\");\n",
       "\t  if(!svg.empty())\n",
       "\t    svg.call(downloadable().filename('fig'));\n",
       "\t});\n",
       "    };\n",
       "    if(window['Nyaplot']==undefined){\n",
       "        window.addEventListener('load_nyaplot', render, false);\n",
       "\treturn;\n",
       "    } else {\n",
       "       render();\n",
       "    }\n",
       "})();\n",
       "</script>\n"
      ],
      "text/plain": [
       "#<Nyaplot::Plot:0x0000000002310c48 @properties={:diagrams=>[#<Nyaplot::Diagram:0x0000000003c79d10 @properties={:type=>:scatter, :options=>{:x=>:x1, :y=>:x2, :title=>1.0, :color=>\"rgb(228,26,28)\", :tooltip_contents=>[1.0, 1.0, 1.0, 1.0, 1.0, 1.0, 1.0, 1.0, 1.0, 1.0, 1.0, 1.0, 1.0, 1.0, 1.0, 1.0, 1.0, 1.0, 1.0, 1.0, 1.0, 1.0, 1.0, 1.0, 1.0, 1.0, 1.0, 1.0, 1.0, 1.0, 1.0, 1.0, 1.0, 1.0, 1.0, 1.0, 1.0, 1.0, 1.0, 1.0, 1.0, 1.0, 1.0, 1.0, 1.0, 1.0, 1.0, 1.0, 1.0, 1.0, 1.0, 1.0, 1.0, 1.0, 1.0, 1.0, 1.0, 1.0, 1.0, 1.0, 1.0, 1.0, 1.0, 1.0, 1.0, 1.0, 1.0, 1.0, 1.0, 1.0, 1.0, 1.0, 1.0, 1.0, 1.0, 1.0, 1.0, 1.0, 1.0, 1.0, 1.0, 1.0, 1.0, 1.0, 1.0, 1.0, 1.0, 1.0, 1.0, 1.0, 1.0, 1.0, 1.0, 1.0, 1.0, 1.0, 1.0]}, :data=>\"32fd3177-c5f0-4dee-aa10-73e00406d8b5\"}, @xrange=[-5.0, 6.0], @yrange=[-5.5, 6.5]>, #<Nyaplot::Diagram:0x0000000003bba708 @properties={:type=>:scatter, :options=>{:x=>:x1, :y=>:x2, :title=>0.0, :color=>\"rgb(55,126,184)\", :tooltip_contents=>[0.0, 0.0, 0.0, 0.0, 0.0, 0.0, 0.0, 0.0, 0.0, 0.0, 0.0, 0.0, 0.0, 0.0, 0.0, 0.0, 0.0, 0.0, 0.0, 0.0, 0.0, 0.0, 0.0, 0.0, 0.0, 0.0, 0.0, 0.0, 0.0, 0.0, 0.0, 0.0, 0.0, 0.0, 0.0, 0.0, 0.0, 0.0, 0.0, 0.0, 0.0, 0.0, 0.0, 0.0, 0.0, 0.0, 0.0, 0.0, 0.0, 0.0, 0.0, 0.0, 0.0, 0.0, 0.0, 0.0, 0.0, 0.0, 0.0, 0.0, 0.0, 0.0, 0.0, 0.0, 0.0, 0.0, 0.0, 0.0, 0.0, 0.0, 0.0, 0.0, 0.0, 0.0, 0.0, 0.0, 0.0, 0.0, 0.0, 0.0, 0.0, 0.0, 0.0, 0.0, 0.0, 0.0, 0.0, 0.0, 0.0, 0.0, 0.0, 0.0, 0.0, 0.0, 0.0, 0.0, 0.0]}, :data=>\"bc0d2931-bbe9-410f-8069-562337cf1988\"}, @xrange=[-6.0, 5.0], @yrange=[-6.5, 5.5]>], :options=>{:legend=>false, :xrange=>[-8, 8], :x_label=>\"X1\", :yrange=>[-8, 8], :y_label=>\"X2\", :zoom=>true, :width=>700}}>"
      ]
     },
     "execution_count": 88,
     "metadata": {},
     "output_type": "execute_result"
    }
   ],
   "source": [
    "def plot_spiral_dataset()\n",
    "  spiral = spiral_dataset()[\"data\"]\n",
    "  x1 = spiral.map {|r| r[\"features\"][\"x1\"]}\n",
    "  x2 = spiral.map {|r| r[\"features\"][\"x2\"]}\n",
    "  target = spiral.map {|r| r[\"label\"]}\n",
    "  target.size  \n",
    "  df = Daru::DataFrame.new({x1: x1, x2: x2, target: target})\n",
    "  df.to_category :target\n",
    "  df.plot(type: :scatter, x: :x1, y: :x2, categorized: {by: :target, method: :color}) do |plot, diagram|\n",
    "    plot.xrange [-8,8]\n",
    "    plot.x_label \"X1\"\n",
    "    plot.yrange [-8,8]  \n",
    "    plot.y_label \"X2\"\n",
    "    plot.legend false\n",
    "  end\n",
    "end\n",
    "\n",
    "plot_spiral_dataset()"
   ]
  },
  {
   "cell_type": "code",
   "execution_count": 89,
   "metadata": {
    "deletable": false,
    "nbgrader": {
     "checksum": "1802983cc1aaf590249e66fbd0eb8b80",
     "grade": false,
     "grade_id": "cell-ff4b2c6b485a3e03",
     "locked": false,
     "schema_version": 1,
     "solution": true
    }
   },
   "outputs": [
    {
     "data": {
      "text/plain": [
       ":norm"
      ]
     },
     "execution_count": 89,
     "metadata": {},
     "output_type": "execute_result"
    }
   ],
   "source": [
    "# BEGIN YOUR CODE\n",
    "#Implement the error function given a weight vector, w\n",
    "def dot x, w\n",
    "  # BEGIN YOUR CODE\n",
    "  sum = 0.0\n",
    "    \n",
    "    if !(x.empty? or w.empty?)\n",
    "      x.each do |k, v|\n",
    "          if w.has_key?(k)\n",
    "              sum += v * w[k]\n",
    "          end\n",
    "      end\n",
    "    end\n",
    "    \n",
    "    return sum\n",
    "  #END YOUR CODE  \n",
    "end\n",
    "\n",
    "def norm w\n",
    "  # BEGIN YOUR CODE\n",
    "  return Math.sqrt(dot(w, w))\n",
    "  #END YOUR CODE\n",
    "end\n",
    "#END YOUR CODE"
   ]
  },
  {
   "cell_type": "code",
   "execution_count": 90,
   "metadata": {
    "deletable": false,
    "editable": false,
    "nbgrader": {
     "checksum": "288510bef8afc90e75e33cd7cb868849",
     "grade": true,
     "grade_id": "cell-aabc301bebd79fdd",
     "locked": true,
     "points": 1,
     "schema_version": 1,
     "solution": false
    }
   },
   "outputs": [],
   "source": [
    "def test_11()\n",
    "  assert_in_delta 2.0, norm({\"a\" => 1.41421, \"b\" => 1.41421}), 1e-2\n",
    "  assert_in_delta 2.0, norm({\"a\" => -1.41421, \"b\" => 1.41421}), 1e-2\n",
    "  assert_in_delta 0.0, norm({}), 1e-2\n",
    "\n",
    "  assert_in_delta 6.0, dot({\"a\" => 2.0}, {\"a\" => 3.0}), 1e-6\n",
    "  assert_in_delta 6.0, dot({\"a\" => 2.0}, {\"a\" => 3.0, \"b\" => 4.0}), 1e-6\n",
    "  assert_equal 0.0, dot({}, {})\n",
    "  assert_equal 0.0, dot({\"a\" => 1.0}, {\"b\" => 1.0})\n",
    "end\n",
    "\n",
    "test_11()"
   ]
  },
  {
   "cell_type": "markdown",
   "metadata": {},
   "source": [
    "## Question 1.2 (1 Point)\n",
    "Copy **YOUR** implementation of ```StochasticGradientDescent``` from [Assignment 5](../assignment-5/assignment-5.ipynb) into the following cell."
   ]
  },
  {
   "cell_type": "code",
   "execution_count": 91,
   "metadata": {
    "deletable": false,
    "nbgrader": {
     "checksum": "4c39d35784c122c47dee018e77740c2f",
     "grade": false,
     "grade_id": "cell-512b41c089c45d6b",
     "locked": false,
     "schema_version": 1,
     "solution": true
    }
   },
   "outputs": [
    {
     "data": {
      "text/plain": [
       ":update"
      ]
     },
     "execution_count": 91,
     "metadata": {},
     "output_type": "execute_result"
    }
   ],
   "source": [
    "# BEGIN YOUR CODE\n",
    "class StochasticGradientDescent\n",
    "  attr_reader :weights\n",
    "  attr_reader :objective\n",
    "  def initialize obj, w_0, lr = 0.01\n",
    "    @objective = obj\n",
    "    @weights = w_0\n",
    "    @n = 1.0\n",
    "    @lr = lr\n",
    "  end\n",
    "  def update x\n",
    "    # BEGIN YOUR CODE\n",
    "    g = @objective.grad(x, @weights)\n",
    "    learning_rate = @lr / Math.sqrt(@n)\n",
    "    @weights.each do |k, v|\n",
    "      @weights[k] -= g[k] * learning_rate\n",
    "    end\n",
    "    @n += 1.0\n",
    "    #END YOUR CODE\n",
    "  end\n",
    "end\n",
    "#END YOUR CODE"
   ]
  },
  {
   "cell_type": "code",
   "execution_count": 92,
   "metadata": {
    "deletable": false,
    "editable": false,
    "nbgrader": {
     "checksum": "dacc71e40cf674fe2b717e958cd0acf4",
     "grade": true,
     "grade_id": "cell-decbf7a78199df43",
     "locked": true,
     "points": 1,
     "schema_version": 1,
     "solution": false
    }
   },
   "outputs": [],
   "source": [
    "### Hidden Test (See Test 1.1 from Assignment 5) ###\n",
    "assert_not_nil(StochasticGradientDescent.class)"
   ]
  },
  {
   "cell_type": "markdown",
   "metadata": {
    "deletable": false,
    "editable": false,
    "nbgrader": {
     "checksum": "d91884f430f4d0bd55a42af3d7ed8cf7",
     "grade": false,
     "grade_id": "cell-0977fedc17687770",
     "locked": true,
     "schema_version": 1,
     "solution": false
    }
   },
   "source": [
    "## Question 1.3 (5 Points)\n",
    "\n",
    "\n",
    "Refactor **your** implementation of the AUC metric to return the false positive, true positive values for all scores in addition to the AUC. We will use these to plot the ROC curve."
   ]
  },
  {
   "cell_type": "code",
   "execution_count": 93,
   "metadata": {},
   "outputs": [
    {
     "data": {
      "text/plain": [
       ":cal_area"
      ]
     },
     "execution_count": 93,
     "metadata": {},
     "output_type": "execute_result"
    }
   ],
   "source": [
    "def cal_area (fp_rate, tp_rate)\n",
    "  area = 0.0\n",
    "  \n",
    "  x_prev = 0.0\n",
    "  y_prev = 0.0\n",
    "  fp_rate.length.times do |i|\n",
    "    x = fp_rate[i]\n",
    "    y = tp_rate[i]\n",
    "    area += (y + y_prev) * (x - x_prev) / 2.0\n",
    "    x_prev = x\n",
    "    y_prev = y\n",
    "  end\n",
    "  return area\n",
    "end"
   ]
  },
  {
   "cell_type": "code",
   "execution_count": 94,
   "metadata": {
    "deletable": false,
    "nbgrader": {
     "checksum": "f9339ec233aae0d34824c9a0a05d30c4",
     "grade": false,
     "grade_id": "cell-b97ece98e0d680af",
     "locked": false,
     "schema_version": 1,
     "solution": true
    }
   },
   "outputs": [
    {
     "data": {
      "text/plain": [
       ":roc_curve"
      ]
     },
     "execution_count": 94,
     "metadata": {},
     "output_type": "execute_result"
    }
   ],
   "source": [
    "def roc_curve(scores)\n",
    "  # BEGIN YOUR CODE\n",
    "  sorted_scores = scores.sort { |a,b| a[0] <=> b[0] }\n",
    "  sorted_label = sorted_scores.collect { |s| s[1] }\n",
    "  sorted_y_hat = sorted_scores.collect { |s| s[0] }\n",
    "  positive = sorted_label.count { |l| l == 1 }.to_f\n",
    "  negative = sorted_label.count { |l| l < 1 }.to_f\n",
    "  \n",
    "  res = []\n",
    "  res << [0, 0, 0]\n",
    "  tp = 0\n",
    "  fp = 0\n",
    "  (sorted_label.length - 1).downto(0) do |i|\n",
    "    threshold = sorted_y_hat[i]\n",
    "    if sorted_label[i] > 0\n",
    "      tp += 1\n",
    "    else\n",
    "      fp += 1\n",
    "    end\n",
    "    fp_rate = negative == 0.0 ? 0.0 : fp / negative;\n",
    "    tp_rate = positive == 0.0 ? 0.0 : tp / positive;\n",
    "    res << [fp_rate, tp_rate, threshold]\n",
    "  end\n",
    "  curve_x = res.collect{ |r| r[0] }\n",
    "  curve_y = res.collect{ |r| r[1] }\n",
    "  auc = cal_area(curve_x, curve_y)\n",
    "  #END YOUR CODE\n",
    "  return [res[0], res[1], auc]\n",
    "end\n"
   ]
  },
  {
   "cell_type": "code",
   "execution_count": 95,
   "metadata": {},
   "outputs": [
    {
     "data": {
      "text/plain": [
       "[[0, 0, 0], [0.0, 0.25, 0.9], 0.9]"
      ]
     },
     "execution_count": 95,
     "metadata": {},
     "output_type": "execute_result"
    }
   ],
   "source": [
    "  good_model = [[0.9, 1], [0.89, 1], [0.7, 0], [0.8, 1], [0.8, 0], [0.7, 1], [0.6, 0], [0.5, 0], [0.1, 0]]\n",
    "  assert_true(roc_curve(good_model).last > 0.8)\n",
    "  assert_true(roc_curve(good_model).last < 1)\n",
    "  \n",
    "  srand(777)\n",
    "  ok_model = Array.new(100) {|i| [100 - i, (rand < (100 - i) / 100.0) ? 1 : 0] }\n",
    "  ok_auc = roc_curve(ok_model).last\n",
    "  assert_in_delta(0.8631239935587761, ok_auc, 1e-3)\n",
    "  \n",
    "  bad_model = Array.new(1000) {|i| [1000 - i, rand < 0.5 ? 1 : 0] }\n",
    "  bad_auc = roc_curve(bad_model).last\n",
    "  assert_in_delta(0.5, bad_auc, 5e-2)\n",
    "  \n",
    "  fp, tp, auc = roc_curve(good_model)"
   ]
  },
  {
   "cell_type": "code",
   "execution_count": 96,
   "metadata": {
    "deletable": false,
    "editable": false,
    "nbgrader": {
     "checksum": "ffbb51881401b19ef8140bd00d59ec29",
     "grade": true,
     "grade_id": "cell-bce19441b35b0abd",
     "locked": true,
     "points": 5,
     "schema_version": 1,
     "solution": false
    }
   },
   "outputs": [
    {
     "data": {
      "text/html": [
       "<div id='vis-045f75cf-600e-49d9-a8d1-e63fc6e0d2bc'></div>\n",
       "<script>\n",
       "(function(){\n",
       "    var render = function(){\n",
       "        var model = {\"panes\":[{\"diagrams\":[{\"type\":\"line\",\"options\":{\"x\":\"x\",\"y\":\"y\",\"title\":\"Good Model (AUC > 0.8)\"},\"data\":\"cf9f0bfb-8d8b-485d-8a89-79dcb1f7dc2d\"},{\"type\":\"line\",\"options\":{\"x\":\"data0\",\"y\":\"data1\",\"color\":\"red\",\"title\":\"Bad Model (AUC = 0.5)\"},\"data\":\"32439938-45f8-49ca-8c34-35c65e47acb4\"}],\"options\":{\"x_label\":\"False Positive Rate\",\"y_label\":\"True Positive Rate\",\"legend\":true,\"zoom\":true,\"width\":800,\"xrange\":[0,0],\"yrange\":[0.0,1000]}}],\"data\":{\"cf9f0bfb-8d8b-485d-8a89-79dcb1f7dc2d\":[{\"x\":0,\"y\":0.0},{\"x\":0,\"y\":0.25},{\"x\":0,\"y\":0.9}],\"32439938-45f8-49ca-8c34-35c65e47acb4\":[{\"data0\":0,\"data1\":0.0019723865877712033},{\"data0\":0,\"data1\":0.0},{\"data0\":0,\"data1\":1000}]},\"extension\":[]}\n",
       "        var id_name = '#vis-045f75cf-600e-49d9-a8d1-e63fc6e0d2bc';\n",
       "        Nyaplot.core.parse(model, id_name);\n",
       "\n",
       "        require(['downloadable'], function(downloadable){\n",
       "          var svg = d3.select(id_name).select(\"svg\");\n",
       "\t  if(!svg.empty())\n",
       "\t    svg.call(downloadable().filename('fig'));\n",
       "\t});\n",
       "    };\n",
       "    if(window['Nyaplot']==undefined){\n",
       "        window.addEventListener('load_nyaplot', render, false);\n",
       "\treturn;\n",
       "    } else {\n",
       "       render();\n",
       "    }\n",
       "})();\n",
       "</script>\n"
      ],
      "text/plain": [
       "#<Nyaplot::Frame:0x0000000003a9c830 @properties={:panes=>[#<Nyaplot::Plot:0x0000000003acc850 @properties={:diagrams=>[#<Nyaplot::Diagram:0x0000000003aca0c8 @properties={:type=>:line, :options=>{:x=>:x, :y=>:y, :title=>\"Good Model (AUC > 0.8)\"}, :data=>\"cf9f0bfb-8d8b-485d-8a89-79dcb1f7dc2d\"}, @xrange=[0, 0], @yrange=[0.0, 0.9]>, #<Nyaplot::Diagram:0x0000000003a9d0a0 @properties={:type=>:line, :options=>{:x=>\"data0\", :y=>\"data1\", :color=>\"red\", :title=>\"Bad Model (AUC = 0.5)\"}, :data=>\"32439938-45f8-49ca-8c34-35c65e47acb4\"}, @xrange=[0, 0], @yrange=[0.0, 1000]>], :options=>{:x_label=>\"False Positive Rate\", :y_label=>\"True Positive Rate\", :legend=>true, :zoom=>true, :width=>800, :xrange=>[0, 0], :yrange=>[0.0, 1000]}}>], :data=>{\"cf9f0bfb-8d8b-485d-8a89-79dcb1f7dc2d\"=>#<Nyaplot::DataFrame:0x0000000003aca4d8 @name=\"cf9f0bfb-8d8b-485d-8a89-79dcb1f7dc2d\", @rows=[{:x=>0, :y=>0.0}, {:x=>0, :y=>0.25}, {:x=>0, :y=>0.9}]>, \"32439938-45f8-49ca-8c34-35c65e47acb4\"=>#<Nyaplot::DataFrame:0x0000000003a9d820 @name=\"32439938-45f8-49ca-8c34-35c65e47acb4\", @rows=[{:data0=>0, :data1=>0.0019723865877712033}, {:data0=>0, :data1=>0.0}, {:data0=>0, :data1=>1000}]>}, :extension=>[]}>"
      ]
     },
     "metadata": {},
     "output_type": "display_data"
    }
   ],
   "source": [
    "def test_13()\n",
    "  good_model = [[0.9, 1], [0.89, 1], [0.7, 0], [0.8, 1], [0.8, 0], [0.7, 1], [0.6, 0], [0.5, 0], [0.1, 0]]\n",
    "  assert_true(roc_curve(good_model).last > 0.8)\n",
    "  assert_true(roc_curve(good_model).last < 1)\n",
    "  \n",
    "  srand(777)\n",
    "  ok_model = Array.new(100) {|i| [100 - i, (rand < (100 - i) / 100.0) ? 1 : 0] }\n",
    "  ok_auc = roc_curve(ok_model).last\n",
    "  assert_in_delta(0.8631239935587761, ok_auc, 1e-3)\n",
    "  \n",
    "  bad_model = Array.new(1000) {|i| [1000 - i, rand < 0.5 ? 1 : 0] }\n",
    "  bad_auc = roc_curve(bad_model).last\n",
    "  assert_in_delta(0.5, bad_auc, 5e-2)\n",
    "  \n",
    "  fp, tp, auc = roc_curve(good_model)\n",
    "  \n",
    "  plot = Daru::DataFrame.new({x: fp, y: tp}).plot(type: :line, x: :x, y: :y) do |plot, diagram|\n",
    "    plot.x_label \"False Positive Rate\"\n",
    "    plot.y_label \"True Positive Rate\"\n",
    "    diagram.title(\"Good Model (AUC > 0.8)\")\n",
    "    plot.legend(true)\n",
    "  end\n",
    "  \n",
    "  fp, tp, auc = roc_curve(bad_model)\n",
    "  plot.add(:line, fp, tp).color(\"red\").title(\"Bad Model (AUC = 0.5)\")\n",
    "  \n",
    "  plot.show()\n",
    "end\n",
    "\n",
    "test_13()"
   ]
  },
  {
   "cell_type": "markdown",
   "metadata": {
    "deletable": false,
    "editable": false,
    "nbgrader": {
     "checksum": "dc86a90ef02cf182f35e3f14297f8a0a",
     "grade": false,
     "grade_id": "cell-b1441dad2c4d33bc",
     "locked": true,
     "schema_version": 1,
     "solution": false
    }
   },
   "source": [
    "##  Question 2.1 (10 Points)\n",
    "\n",
    "Implement the Hinge Loss regularized linear model. The prediction function is the same as linear regression"
   ]
  },
  {
   "cell_type": "code",
   "execution_count": 97,
   "metadata": {
    "deletable": false,
    "nbgrader": {
     "checksum": "ee79db0eb81cfc1955666ab681530b37",
     "grade": false,
     "grade_id": "cell-2f4f3a643f0b678c",
     "locked": false,
     "schema_version": 1,
     "solution": true
    }
   },
   "outputs": [
    {
     "data": {
      "text/plain": [
       ":adjust"
      ]
     },
     "execution_count": 97,
     "metadata": {},
     "output_type": "execute_result"
    }
   ],
   "source": [
    "class HingeLossClassifier\n",
    "  def initialize reg\n",
    "    @reg_param = reg\n",
    "  end\n",
    "  \n",
    "  def predict row, w\n",
    "    # BEGIN YOUR CODE\n",
    "    x = row[\"features\"]    \n",
    "    yhat = dot(w, x)\n",
    "    #END YOUR CODE\n",
    "  end\n",
    "  \n",
    "  def adjust w\n",
    "  end\n",
    "end"
   ]
  },
  {
   "cell_type": "code",
   "execution_count": 98,
   "metadata": {
    "deletable": false,
    "editable": false,
    "nbgrader": {
     "checksum": "8789cdb05407bbb157fdfd93028cef3b",
     "grade": true,
     "grade_id": "cell-67fe4fb894a07ef0",
     "locked": true,
     "points": 10,
     "schema_version": 1,
     "solution": false
    }
   },
   "outputs": [],
   "source": [
    "## Tests predict function\n",
    "def test_21()\n",
    "  t_loss = HingeLossClassifier.new 0.0\n",
    "  assert_equal(1.0, t_loss.predict({\"features\" => {\"x1\" => 1.0}}, {\"x1\" => 1.0}))\n",
    "  assert_equal(-1.0, t_loss.predict({\"features\" => {\"x1\" => -1.0}}, {\"x1\" => 1.0}))\n",
    "  assert_equal(-14.0, t_loss.predict({\"features\" => {\"x1\" => 2.0}}, {\"x1\" => -7.0}))\n",
    "end\n",
    "\n",
    "test_21()"
   ]
  },
  {
   "cell_type": "markdown",
   "metadata": {},
   "source": [
    "## Question 2.2 (10 Points)\n",
    "\n",
    "Implement the objective function, which is defined as follows for a mini-batch of $n$ examples:\n",
    "\n",
    "# $L(w,X) = \\frac{\\lambda}{2} \\left\\lVert w \\right\\rVert ^ 2 + \\frac{1}{n} \\sum_{i} \\max \\left[ 0, 1 - y_i \\widehat{y}_i\\right]$\n",
    "\n",
    "where ```@reg_param``` is the value $\\lambda$.\n",
    "\n",
    "Remember that for hinge loss, the label must be $y = \\pm 1$."
   ]
  },
  {
   "cell_type": "code",
   "execution_count": 119,
   "metadata": {
    "deletable": false,
    "nbgrader": {
     "checksum": "da9f01630067e1bf5179e7bd975fb8c0",
     "grade": false,
     "grade_id": "cell-92a64a66671de794",
     "locked": false,
     "schema_version": 1,
     "solution": true
    }
   },
   "outputs": [
    {
     "data": {
      "text/plain": [
       ":func"
      ]
     },
     "execution_count": 119,
     "metadata": {},
     "output_type": "execute_result"
    }
   ],
   "source": [
    "class HingeLossClassifier\n",
    "  def func data, w\n",
    "    # BEGIN YOUR CODE\n",
    "    l = 0.0\n",
    "    data.each do |x|\n",
    "      l += [0, 1 - predict(x, w) * (x[\"label\"] > 0? 1 : -1)].max\n",
    "    end\n",
    "    obj = 0.5 * @reg_param * dot(w, w) + l / data.size\n",
    "    #END YOUR CODE\n",
    "    return obj\n",
    "  end\n",
    "end"
   ]
  },
  {
   "cell_type": "code",
   "execution_count": 120,
   "metadata": {
    "deletable": false,
    "editable": false,
    "nbgrader": {
     "checksum": "75831f12634d94c3e4c6ce61bfc89963",
     "grade": true,
     "grade_id": "cell-2dbf2caa8b69e62c",
     "locked": true,
     "points": 10,
     "schema_version": 1,
     "solution": false
    }
   },
   "outputs": [],
   "source": [
    "def test_22()\n",
    "  ## Tests objective function\n",
    "  t_loss = HingeLossClassifier.new 0.0\n",
    "  t_data = [{\"features\" => {\"x1\" => 1.0}, \"label\" => 1.0}]\n",
    "  assert_equal(0.0, t_loss.func(t_data, {\"x1\" => 1.0}), \"1\")\n",
    "  assert_equal(2.0, t_loss.func(t_data, {\"x1\" => -1.0}), \"2\")\n",
    "  assert_equal(1.0, t_loss.func(t_data, {\"x1\" => 0.0}), \"3\")\n",
    "\n",
    "  t_data += [{\"features\" => {\"x1\" => 1.0}, \"label\" => 0.0}]\n",
    "  assert_equal(1.0, t_loss.func(t_data, {\"x1\" => 1.0}), \"4\")\n",
    "  assert_equal(1.0, t_loss.func(t_data, {\"x1\" => -1.0}), \"5\")\n",
    "  assert_equal(1.0, t_loss.func(t_data, {\"x1\" => 0.0}), \"6\")\n",
    "\n",
    "  t_loss = HingeLossClassifier.new 27.0\n",
    "  t_data = [{\"features\" => {\"x1\" => 1.0}, \"label\" => 1.0}]\n",
    "  assert_in_delta(675.0, t_loss.func(t_data, {\"x1\" => 1.0, \"x2\" => 7.0}), 1e-2, \"7\")\n",
    "  assert_in_delta(677.0, t_loss.func(t_data, {\"x1\" => -1.0, \"x2\" => -7.0}), 1e-2, \"8\")\n",
    "end\n",
    "test_22()"
   ]
  },
  {
   "cell_type": "markdown",
   "metadata": {},
   "source": [
    "## Question 2.3 (10 Points)\n",
    "\n",
    "Implement the Hinge Loss classifier gradient method.\n"
   ]
  },
  {
   "cell_type": "code",
   "execution_count": 125,
   "metadata": {
    "deletable": false,
    "nbgrader": {
     "checksum": "04c34ba9c6679c9be2418e2740cef5d6",
     "grade": false,
     "grade_id": "cell-31495bf0a5d226c2",
     "locked": false,
     "schema_version": 1,
     "solution": true
    }
   },
   "outputs": [
    {
     "data": {
      "text/plain": [
       ":grad"
      ]
     },
     "execution_count": 125,
     "metadata": {},
     "output_type": "execute_result"
    }
   ],
   "source": [
    "class HingeLossClassifier\n",
    "  def grad data, w\n",
    "    g = Hash.new {|h,k| h[k] = 0.0}\n",
    "    # BEGIN YOUR CODE\n",
    "    w.each_key do |key|\n",
    "      g[key]\n",
    "    end\n",
    "    data.each do |x|\n",
    "      y = x[\"label\"] > 0 ? 1.0 : -1.0\n",
    "      if y * predict(x, w) < 1\n",
    "        x[\"features\"].each_key do |f|\n",
    "          g[f] -= (x[\"features\"][f] * y)\n",
    "        end\n",
    "      end\n",
    "    end\n",
    "    g.each_key do |key|\n",
    "      g[key] /= data.size\n",
    "      g[key] += @reg_param * w[key]\n",
    "    end\n",
    "    #END YOUR CODE\n",
    "    return g\n",
    "  end\n",
    "end"
   ]
  },
  {
   "cell_type": "code",
   "execution_count": 126,
   "metadata": {
    "deletable": false,
    "editable": false,
    "nbgrader": {
     "checksum": "bc7166c9ee36295e1d47baf7cf65142c",
     "grade": true,
     "grade_id": "cell-ce1477dcf71b4fbe",
     "locked": true,
     "points": 10,
     "schema_version": 1,
     "solution": false
    }
   },
   "outputs": [],
   "source": [
    "def test_33()\n",
    "  t_loss = HingeLossClassifier.new 0.0\n",
    "  t_data = [{\"features\" => {\"x1\" => 1.0}, \"label\" => 1.0}]\n",
    "  assert_equal({\"x1\" => 0.0}, t_loss.grad(t_data, {\"x1\" => 1.0}), \"1\")\n",
    "  assert_equal({\"x1\" => -1.0}, t_loss.grad(t_data, {\"x1\" => -1.0}), \"2\")\n",
    "  assert_equal({\"x1\" => -1.0}, t_loss.grad(t_data, {\"x1\" => 0.0}), \"3\")\n",
    "\n",
    "  t_data += [{\"features\" => {\"x1\" => 1.0}, \"label\" => 0.0}]\n",
    "  assert_equal({\"x1\" => 0.5}, t_loss.grad(t_data, {\"x1\" => 1.0}), \"4\")\n",
    "  assert_equal({\"x1\" => -0.5}, t_loss.grad(t_data, {\"x1\" => -1.0}), \"5\")\n",
    "  assert_equal({\"x1\" => 0.0}, t_loss.grad(t_data, {\"x1\" => 0.0}), \"6\")\n",
    "\n",
    "  t_loss = HingeLossClassifier.new 11.7\n",
    "  t_data = [{\"features\" => {\"x1\" => 1.0}, \"label\" => 0.0}]\n",
    "  assert_in_delta(12.7, t_loss.grad(t_data, {\"x1\" => 1.0})[\"x1\"], 1e-2, \"7\")\n",
    "  assert_in_delta(-11.7, t_loss.grad(t_data, {\"x1\" => -1.0})[\"x1\"], 1e-2, \"8\")\n",
    "  assert_in_delta(1.0, t_loss.grad(t_data, {\"x1\" => 0.0})[\"x1\"], 1e-2, \"9\")\n",
    "\n",
    "end\n",
    "test_33()"
   ]
  },
  {
   "cell_type": "markdown",
   "metadata": {},
   "source": [
    "## Question 2.4 (10 Points)\n",
    "\n",
    "Train and test the Hinge Loss classifier on the same (training) sprial dataset. Return an array or (score, label) pairs. Try different learning rates, epochs, batch sizes, and regularization parameters. "
   ]
  },
  {
   "cell_type": "code",
   "execution_count": 159,
   "metadata": {},
   "outputs": [
    {
     "data": {
      "text/plain": [
       ":binary_classification"
      ]
     },
     "execution_count": 159,
     "metadata": {},
     "output_type": "execute_result"
    }
   ],
   "source": [
    "def binary_classification(data, weights, model)\n",
    "  score = Array.new (data.size) {Array.new(2, 0)}\n",
    "  i = 0\n",
    "  data.each do |x|\n",
    "    pair = Array.new (2)\n",
    "    y_hat = model.predict(x, weights)\n",
    "    pair[0] = y_hat\n",
    "    pair[1] = x[\"label\"]\n",
    "    score[i] = pair\n",
    "    i += 1\n",
    "  end\n",
    "  return score\n",
    "end"
   ]
  },
  {
   "cell_type": "code",
   "execution_count": 160,
   "metadata": {
    "deletable": false,
    "nbgrader": {
     "checksum": "ca01b3a4320e9a81f3c28c5a5bb5cfda",
     "grade": false,
     "grade_id": "cell-e4ab95acd13266d2",
     "locked": false,
     "schema_version": 1,
     "solution": true
    }
   },
   "outputs": [
    {
     "data": {
      "text/plain": [
       ":train_linear_hinge"
      ]
     },
     "execution_count": 160,
     "metadata": {},
     "output_type": "execute_result"
    }
   ],
   "source": [
    "def train_linear_hinge(dataset)\n",
    "  lr = HingeLossClassifier.new 0.1\n",
    "  w = Hash.new {|h,k| h[k] = (rand * 0.1) - 0.05}\n",
    "  \n",
    "  # BEGIN YOUR CODE\n",
    "  sgd = StochasticGradientDescent.new lr, w, 0.3\n",
    "  50.times do |t|\n",
    "    sgd.update dataset[\"data\"].sample(20)\n",
    "  end\n",
    "  scores = binary_classification(dataset[\"data\"],w,lr)\n",
    "  return scores \n",
    "  #END YOUR CODE\n",
    "end"
   ]
  },
  {
   "cell_type": "code",
   "execution_count": 161,
   "metadata": {
    "deletable": false,
    "editable": false,
    "nbgrader": {
     "checksum": "66869d2b5c6ca3e0ef89ceedf1cca8c4",
     "grade": true,
     "grade_id": "cell-57a39fde4daf78e8",
     "locked": true,
     "points": 10,
     "schema_version": 1,
     "solution": false
    }
   },
   "outputs": [
    {
     "name": "stdout",
     "output_type": "stream",
     "text": [
      "0.5543628440854502\n"
     ]
    },
    {
     "data": {
      "text/html": [
       "<div id='vis-b84fc9ed-78f2-420f-887a-547da3ea0bd8'></div>\n",
       "<script>\n",
       "(function(){\n",
       "    var render = function(){\n",
       "        var model = {\"panes\":[{\"diagrams\":[{\"type\":\"line\",\"options\":{\"x\":\"x\",\"y\":\"y\"},\"data\":\"fc8d361d-9291-4912-b2ba-e258574cff14\"},{\"type\":\"line\",\"options\":{\"x\":\"data0\",\"y\":\"data1\",\"color\":\"gray\"},\"data\":\"3ceed11a-3684-4d1d-b58f-c8074276a849\"}],\"options\":{\"x_label\":\"False Positive Rate\",\"y_label\":\"True Positive Rate\",\"zoom\":true,\"width\":700,\"xrange\":[0,1],\"yrange\":[0.0,1.4000122625885827]}}],\"data\":{\"fc8d361d-9291-4912-b2ba-e258574cff14\":[{\"x\":0,\"y\":0.0},{\"x\":0,\"y\":0.010309278350515464},{\"x\":0,\"y\":1.4000122625885827}],\"3ceed11a-3684-4d1d-b58f-c8074276a849\":[{\"data0\":0,\"data1\":0},{\"data0\":1,\"data1\":1}]},\"extension\":[]}\n",
       "        var id_name = '#vis-b84fc9ed-78f2-420f-887a-547da3ea0bd8';\n",
       "        Nyaplot.core.parse(model, id_name);\n",
       "\n",
       "        require(['downloadable'], function(downloadable){\n",
       "          var svg = d3.select(id_name).select(\"svg\");\n",
       "\t  if(!svg.empty())\n",
       "\t    svg.call(downloadable().filename('fig'));\n",
       "\t});\n",
       "    };\n",
       "    if(window['Nyaplot']==undefined){\n",
       "        window.addEventListener('load_nyaplot', render, false);\n",
       "\treturn;\n",
       "    } else {\n",
       "       render();\n",
       "    }\n",
       "})();\n",
       "</script>\n"
      ],
      "text/plain": [
       "#<Nyaplot::Frame:0x00000000034c2360 @properties={:panes=>[#<Nyaplot::Plot:0x00000000034f5738 @properties={:diagrams=>[#<Nyaplot::Diagram:0x00000000034d06e0 @properties={:type=>:line, :options=>{:x=>:x, :y=>:y}, :data=>\"fc8d361d-9291-4912-b2ba-e258574cff14\"}, @xrange=[0, 0], @yrange=[0.0, 1.4000122625885827]>, #<Nyaplot::Diagram:0x00000000034c2b58 @properties={:type=>:line, :options=>{:x=>\"data0\", :y=>\"data1\", :color=>:gray}, :data=>\"3ceed11a-3684-4d1d-b58f-c8074276a849\"}, @xrange=[0, 1], @yrange=[0, 1]>], :options=>{:x_label=>\"False Positive Rate\", :y_label=>\"True Positive Rate\", :zoom=>true, :width=>700, :xrange=>[0, 1], :yrange=>[0.0, 1.4000122625885827]}}>], :data=>{\"fc8d361d-9291-4912-b2ba-e258574cff14\"=>#<Nyaplot::DataFrame:0x00000000034d0d20 @name=\"fc8d361d-9291-4912-b2ba-e258574cff14\", @rows=[{:x=>0, :y=>0.0}, {:x=>0, :y=>0.010309278350515464}, {:x=>0, :y=>1.4000122625885827}]>, \"3ceed11a-3684-4d1d-b58f-c8074276a849\"=>#<Nyaplot::DataFrame:0x00000000034c3350 @name=\"3ceed11a-3684-4d1d-b58f-c8074276a849\", @rows=[{:data0=>0, :data1=>0}, {:data0=>1, :data1=>1}]>}, :extension=>[]}>"
      ]
     },
     "metadata": {},
     "output_type": "display_data"
    }
   ],
   "source": [
    "def test_24()\n",
    "  spiral = spiral_dataset()\n",
    "  scores = train_linear_hinge(spiral)\n",
    "  fp, tp, auc = roc_curve(scores)\n",
    "  puts auc\n",
    "\n",
    "  assert_true(auc > 0.5, \"AUC > 0.5\")\n",
    "  assert_true(auc > 0.52, \"AUC > 0.52\")  \n",
    "  assert_true(auc < 0.7, \"AUC < 0.7\")    \n",
    "\n",
    "  plot = Daru::DataFrame.new({x: fp, y: tp}).plot(type: :line, x: :x, y: :y) do |plot, diagram|\n",
    "    plot.x_label \"False Positive Rate\"\n",
    "    plot.y_label \"True Positive Rate\"\n",
    "  end\n",
    "  plot.add(:line, [0,1], [0,1]).color(:gray)\n",
    "  plot.show()\n",
    "end\n",
    "\n",
    "test_24()"
   ]
  },
  {
   "cell_type": "markdown",
   "metadata": {},
   "source": [
    "## Question 3.1 (10 Points)\n",
    "\n",
    "Implement the linear kernel where $x_i$ and $x_j$ are rows in a dataset."
   ]
  },
  {
   "cell_type": "code",
   "execution_count": 127,
   "metadata": {
    "deletable": false,
    "nbgrader": {
     "checksum": "d6c80b8f4776cf7e9f28e16c37b52608",
     "grade": false,
     "grade_id": "cell-fcf79802d7f8c72d",
     "locked": false,
     "schema_version": 1,
     "solution": true
    }
   },
   "outputs": [
    {
     "data": {
      "text/plain": [
       ":func"
      ]
     },
     "execution_count": 127,
     "metadata": {},
     "output_type": "execute_result"
    }
   ],
   "source": [
    "class LinearKernel\n",
    "  def func x_i, x_j\n",
    "    # BEGIN YOUR CODE\n",
    "    return dot(x_i[\"features\"], x_j[\"features\"])\n",
    "    #END YOUR CODE\n",
    "  end\n",
    "end"
   ]
  },
  {
   "cell_type": "code",
   "execution_count": 128,
   "metadata": {
    "deletable": false,
    "editable": false,
    "nbgrader": {
     "checksum": "b59e27ef10f525e6c0eaa5447c8e35c9",
     "grade": true,
     "grade_id": "cell-3342f2f3fed428da",
     "locked": true,
     "points": 5,
     "schema_version": 1,
     "solution": false
    }
   },
   "outputs": [],
   "source": [
    "def test_31()\n",
    "  linear = LinearKernel.new\n",
    "  \n",
    "  kij = linear.func({\"features\" => {\"a\" => 2, \"b\" => 3}}, {\"features\" => {\"b\" => 7, \"c\" => 1}})  \n",
    "  assert_in_delta 21, kij, 1e-2, \"1\"\n",
    "  \n",
    "  kij = linear.func({\"features\" => {\"a\" => 2, \"b\" => 3}}, {\"features\" => {\"a\" => -5, \"b\" => 2}})  \n",
    "  assert_in_delta -4, kij, 1e-2, \"1\"\n",
    "end\n",
    "\n",
    "test_31()"
   ]
  },
  {
   "cell_type": "markdown",
   "metadata": {},
   "source": [
    "## Question 3.2 (10 Points)\n",
    "\n",
    "Implement the Gaussian Kernel, taking a bandwidth parameter $\\sigma$. "
   ]
  },
  {
   "cell_type": "code",
   "execution_count": 129,
   "metadata": {
    "deletable": false,
    "nbgrader": {
     "checksum": "fd12d2bfc13c89c7b6d32cfc43cf652b",
     "grade": false,
     "grade_id": "cell-bd59856809fb8bc2",
     "locked": false,
     "schema_version": 1,
     "solution": true
    }
   },
   "outputs": [
    {
     "data": {
      "text/plain": [
       ":func"
      ]
     },
     "execution_count": 129,
     "metadata": {},
     "output_type": "execute_result"
    }
   ],
   "source": [
    "class GaussianKernel\n",
    "  def initialize width\n",
    "    @width = width\n",
    "  end\n",
    "  def func x_i, x_j\n",
    "    # BEGIN YOUR CODE\n",
    "    diff = Hash.new{|h,k| h[k] = 0.0}\n",
    "    x_i[\"features\"].each_key do |key|\n",
    "      if x_j[\"features\"].has_key?(key)\n",
    "        diff[key] = x_i[\"features\"][key] - x_j[\"features\"][key]\n",
    "      end\n",
    "    end\n",
    "    return Math.exp(-@width * dot(diff, diff))\n",
    "    #END YOUR CODE\n",
    "  end\n",
    "end"
   ]
  },
  {
   "cell_type": "code",
   "execution_count": 130,
   "metadata": {
    "deletable": false,
    "editable": false,
    "nbgrader": {
     "checksum": "5ef132a2cf2776c0a995966fb585462d",
     "grade": true,
     "grade_id": "cell-ec6c13625f9e6801",
     "locked": true,
     "points": 10,
     "schema_version": 1,
     "solution": false
    }
   },
   "outputs": [],
   "source": [
    "def test_32()\n",
    "  spiral = spiral_dataset()\n",
    "  kernel = GaussianKernel.new 1.0\n",
    "  \n",
    "  test_v = kernel.func spiral[\"data\"][0], spiral[\"data\"][2]\n",
    "  assert_true(test_v > 0.19, \"1\")\n",
    "  assert_true(test_v < 0.25, \"2\")\n",
    "end\n",
    "\n",
    "test_32()"
   ]
  },
  {
   "cell_type": "markdown",
   "metadata": {},
   "source": [
    "## Question 3.3 (10 Points): Gram Matrix\n",
    "\n",
    "Implement the Gram Matrix as a preprocessing step which is first trained and then used to transform a dataset. Given a training set $x_i \\in X$ and a kernel function $k$ the Gram Matrix is defined as:\n",
    "\n",
    "# $G_{i,j} = k(x_i, x_j)$\n",
    "\n",
    "For any new datapoint z, the _Gram vector_ is defined as follows:\n",
    "\n",
    "# $g(z) = \\left( k(z, x_i), \\dots, k(z, x_n) \\right)$\n",
    "\n",
    "Note that on the training $g(x_i) = G_{i,\\cdot}$. \n",
    "\n",
    "1. Implement a ```train``` method that caches data for evaluation. \n",
    "1. Implement the ```func``` method that takes a single row and the gram vector as a row "
   ]
  },
  {
   "cell_type": "code",
   "execution_count": 133,
   "metadata": {
    "deletable": false,
    "nbgrader": {
     "checksum": "78e2cc767df90e73a3eb5ad935e668e4",
     "grade": false,
     "grade_id": "cell-6dec8ec0ea6c2f66",
     "locked": false,
     "schema_version": 1,
     "solution": true
    }
   },
   "outputs": [
    {
     "data": {
      "text/plain": [
       ":transform"
      ]
     },
     "execution_count": 133,
     "metadata": {},
     "output_type": "execute_result"
    }
   ],
   "source": [
    "class GramMatrix\n",
    "  def initialize kernel\n",
    "    @kernel = kernel\n",
    "    @data = Array.new\n",
    "  end\n",
    "  \n",
    "  def train data\n",
    "    # BEGIN YOUR CODE\n",
    "    @data = data.clone\n",
    "    @data = data.collect do |r|\n",
    "      u = r.clone\n",
    "      u[\"features\"] = r[\"features\"].clone\n",
    "      u\n",
    "    end\n",
    "    return @data\n",
    "    #END YOUR CODE\n",
    "  end\n",
    "  \n",
    "  def transform z\n",
    "    # BEGIN YOUR CODE\n",
    "    gd = Hash.new {|h, k| h[k] = 0.0}\n",
    "    gd[\"label\"] = z[\"label\"]\n",
    "    gd[\"features\"] = Hash.new {|h, k| h[k] = 0.0}\n",
    "    n = @data.size\n",
    "    n.times do |i|\n",
    "      x = \"k_\" + i.to_s\n",
    "      gd[\"features\"][x] = @kernel.func(@data[i],z)\n",
    "    end\n",
    "    return gd\n",
    "    #END YOUR CODE\n",
    "  end\n",
    "end"
   ]
  },
  {
   "cell_type": "code",
   "execution_count": 134,
   "metadata": {
    "deletable": false,
    "editable": false,
    "nbgrader": {
     "checksum": "3f21a95c7fe163108aa5252cc4298d2b",
     "grade": true,
     "grade_id": "cell-f9dc67d1e3802453",
     "locked": true,
     "points": 10,
     "schema_version": 1,
     "solution": false
    }
   },
   "outputs": [],
   "source": [
    "def test_33()\n",
    "  lin = LinearKernel.new\n",
    "  data =  [\n",
    "    {\"features\" => {\"a\" => 2, \"b\" => 3}, \"label\" => 1}, \n",
    "    {\"features\" => {\"b\" => 7, \"c\" => 1}, \"label\" => 7},\n",
    "    {\"features\" => {\"a\" => 2, \"b\" => 3}, \"label\" => 2}\n",
    "  ]\n",
    "  \n",
    "  z = {\"features\" => {\"a\" => -5, \"b\" => 2}} \n",
    "\n",
    "  gmat = GramMatrix.new lin\n",
    "  gmat.train data\n",
    "\n",
    "  k_x1 = gmat.transform data[1]\n",
    "  assert_equal 3, k_x1[\"features\"].size, \"1\"\n",
    "  assert_equal 7, k_x1[\"label\"], \"2\"\n",
    "  assert_equal dot(data[1][\"features\"], data[1][\"features\"]), k_x1[\"features\"][\"k_1\"], \"3\"\n",
    "  assert_equal 21, k_x1[\"features\"][\"k_0\"], \"4\"\n",
    "  k_x2 = gmat.transform z\n",
    "  assert_equal 3, k_x1[\"features\"].size, \"5\"\n",
    "  assert_in_delta -4, k_x2[\"features\"][\"k_0\"], \"6\"\n",
    "end\n",
    "\n",
    "test_33()"
   ]
  },
  {
   "cell_type": "markdown",
   "metadata": {},
   "source": [
    "## Question 4.1 (10 Points)\n",
    "\n",
    "Test the Hinge Loss with Linear Kernel on the spiral dataset, return the false positive, true positive, and auc values. Do you see any improvements with this kernelized version? "
   ]
  },
  {
   "cell_type": "code",
   "execution_count": 155,
   "metadata": {
    "deletable": false,
    "nbgrader": {
     "checksum": "1204ad54ecd4576c53e6f5801c80d344",
     "grade": true,
     "grade_id": "cell-6f585f8a01072b23",
     "locked": false,
     "points": 1,
     "schema_version": 1,
     "solution": true
    }
   },
   "outputs": [
    {
     "data": {
      "text/plain": [
       ":train_linear_kernel_hinge"
      ]
     },
     "execution_count": 155,
     "metadata": {},
     "output_type": "execute_result"
    }
   ],
   "source": [
    "def train_linear_kernel_hinge(dataset)\n",
    "  lr = HingeLossClassifier.new 0.1\n",
    "  w = Hash.new {|h,k| h[k] = (rand * 0.1) - 0.05}\n",
    "  \n",
    "  # BEGIN YOUR CODE\n",
    "  lk = LinearKernel.new\n",
    "  gm = GramMatrix.new lk\n",
    "  gm.train dataset[\"data\"]\n",
    "  data = dataset[\"data\"].clone\n",
    "  data = dataset[\"data\"].collect do |x|\n",
    "    {\"features\" => (gm.transform x)[\"features\"], \"label\" => x[\"label\"]}\n",
    "  end\n",
    "\n",
    "  sgd = StochasticGradientDescent.new lr, w, 0.1\n",
    "  50.times do |t|\n",
    "    sgd.update data.sample(20)\n",
    "  end\n",
    "  scores = binary_classification(data, w, lr)\n",
    "  return scores \n",
    "  #END YOUR CODE\n",
    "end"
   ]
  },
  {
   "cell_type": "code",
   "execution_count": 156,
   "metadata": {
    "deletable": false,
    "editable": false,
    "nbgrader": {
     "checksum": "fe18549dc07ca64a6f76afa7b9c967fc",
     "grade": true,
     "grade_id": "cell-444aa68056e01128",
     "locked": true,
     "points": 10,
     "schema_version": 1,
     "solution": false
    }
   },
   "outputs": [
    {
     "name": "stdout",
     "output_type": "stream",
     "text": [
      "0.555106812626209\n"
     ]
    },
    {
     "data": {
      "text/html": [
       "<div id='vis-53405469-02f6-4ec8-bec1-cf1a97f9a44d'></div>\n",
       "<script>\n",
       "(function(){\n",
       "    var render = function(){\n",
       "        var model = {\"panes\":[{\"diagrams\":[{\"type\":\"line\",\"options\":{\"x\":\"x\",\"y\":\"y\"},\"data\":\"fc7d00c9-12f5-4d89-b7cc-a614eb1e0c04\"},{\"type\":\"line\",\"options\":{\"x\":\"data0\",\"y\":\"data1\",\"color\":\"gray\"},\"data\":\"1cbb9110-e32a-477e-b102-cf487630022e\"}],\"options\":{\"x_label\":\"False Positive Rate\",\"y_label\":\"True Positive Rate\",\"zoom\":true,\"width\":700,\"xrange\":[0,1],\"yrange\":[0.0,91.18039060582247]}}],\"data\":{\"fc7d00c9-12f5-4d89-b7cc-a614eb1e0c04\":[{\"x\":0,\"y\":0.0},{\"x\":0,\"y\":0.010309278350515464},{\"x\":0,\"y\":91.18039060582247}],\"1cbb9110-e32a-477e-b102-cf487630022e\":[{\"data0\":0,\"data1\":0},{\"data0\":1,\"data1\":1}]},\"extension\":[]}\n",
       "        var id_name = '#vis-53405469-02f6-4ec8-bec1-cf1a97f9a44d';\n",
       "        Nyaplot.core.parse(model, id_name);\n",
       "\n",
       "        require(['downloadable'], function(downloadable){\n",
       "          var svg = d3.select(id_name).select(\"svg\");\n",
       "\t  if(!svg.empty())\n",
       "\t    svg.call(downloadable().filename('fig'));\n",
       "\t});\n",
       "    };\n",
       "    if(window['Nyaplot']==undefined){\n",
       "        window.addEventListener('load_nyaplot', render, false);\n",
       "\treturn;\n",
       "    } else {\n",
       "       render();\n",
       "    }\n",
       "})();\n",
       "</script>\n"
      ],
      "text/plain": [
       "#<Nyaplot::Frame:0x0000000003fafc50 @properties={:panes=>[#<Nyaplot::Plot:0x0000000003fb5b28 @properties={:diagrams=>[#<Nyaplot::Diagram:0x0000000003fb1be0 @properties={:type=>:line, :options=>{:x=>:x, :y=>:y}, :data=>\"fc7d00c9-12f5-4d89-b7cc-a614eb1e0c04\"}, @xrange=[0, 0], @yrange=[0.0, 91.18039060582247]>, #<Nyaplot::Diagram:0x0000000003fb0510 @properties={:type=>:line, :options=>{:x=>\"data0\", :y=>\"data1\", :color=>:gray}, :data=>\"1cbb9110-e32a-477e-b102-cf487630022e\"}, @xrange=[0, 1], @yrange=[0, 1]>], :options=>{:x_label=>\"False Positive Rate\", :y_label=>\"True Positive Rate\", :zoom=>true, :width=>700, :xrange=>[0, 1], :yrange=>[0.0, 91.18039060582247]}}>], :data=>{\"fc7d00c9-12f5-4d89-b7cc-a614eb1e0c04\"=>#<Nyaplot::DataFrame:0x0000000003fb2518 @name=\"fc7d00c9-12f5-4d89-b7cc-a614eb1e0c04\", @rows=[{:x=>0, :y=>0.0}, {:x=>0, :y=>0.010309278350515464}, {:x=>0, :y=>91.18039060582247}]>, \"1cbb9110-e32a-477e-b102-cf487630022e\"=>#<Nyaplot::DataFrame:0x0000000003fb0d58 @name=\"1cbb9110-e32a-477e-b102-cf487630022e\", @rows=[{:data0=>0, :data1=>0}, {:data0=>1, :data1=>1}]>}, :extension=>[]}>"
      ]
     },
     "metadata": {},
     "output_type": "display_data"
    }
   ],
   "source": [
    "def test_41()\n",
    "  spiral = spiral_dataset()\n",
    "  scores = train_linear_kernel_hinge(spiral)\n",
    "  fp, tp, auc = roc_curve(scores)\n",
    "  puts auc\n",
    "\n",
    "  assert_true(auc > 0.45, \"AUC > 0.45\")\n",
    "  assert_true(auc < 0.7, \"AUC < 0.7\")    \n",
    "\n",
    "  plot = Daru::DataFrame.new({x: fp, y: tp}).plot(type: :line, x: :x, y: :y) do |plot, diagram|\n",
    "    plot.x_label \"False Positive Rate\"\n",
    "    plot.y_label \"True Positive Rate\"\n",
    "  end\n",
    "  plot.add(:line, [0,1], [0,1]).color(:gray)\n",
    "  plot.show()\n",
    "end\n",
    "\n",
    "test_41()"
   ]
  },
  {
   "cell_type": "markdown",
   "metadata": {},
   "source": [
    "## Question 3.3 (5 points)\n",
    "\n",
    "Is the AUC for Linear Kernel much better than before? Why or Why not?"
   ]
  },
  {
   "cell_type": "code",
   "execution_count": 157,
   "metadata": {
    "deletable": false,
    "nbgrader": {
     "checksum": "51a1cbba63178986279d1bfbe16cab94",
     "grade": false,
     "grade_id": "cell-6cf57bec611f2fa2",
     "locked": false,
     "schema_version": 1,
     "solution": true
    }
   },
   "outputs": [
    {
     "data": {
      "text/plain": [
       ":train_gaussian_kernel_hinge"
      ]
     },
     "execution_count": 157,
     "metadata": {},
     "output_type": "execute_result"
    }
   ],
   "source": [
    "def train_gaussian_kernel_hinge(dataset)\n",
    "  lr = HingeLossClassifier.new 0.1\n",
    "  w = Hash.new {|h,k| h[k] = (rand * 0.1) - 0.05}\n",
    "  \n",
    "  # BEGIN YOUR CODE\n",
    "  kernel = GaussianKernel.new 1.3\n",
    "  gm = GramMatrix.new kernel\n",
    "  gm.train dataset[\"data\"]\n",
    "  data = dataset[\"data\"].clone\n",
    "  data = dataset[\"data\"].collect do |x|\n",
    "    {\"features\" => (gm.transform x)[\"features\"], \"label\" => x[\"label\"]}\n",
    "  end\n",
    "\n",
    "  sgd = StochasticGradientDescent.new lr, w, 1.0\n",
    "  50.times do |t|\n",
    "    sgd.update data.sample(20)\n",
    "  end\n",
    "  scores = binary_classification(data, w, lr)\n",
    "  return scores \n",
    "  #END YOUR CODE\n",
    "end"
   ]
  },
  {
   "cell_type": "code",
   "execution_count": 158,
   "metadata": {
    "deletable": false,
    "editable": false,
    "nbgrader": {
     "checksum": "e97e5c5602a02a32e0dacd860e6f2075",
     "grade": true,
     "grade_id": "cell-e94797f3c52a8594",
     "locked": true,
     "points": 10,
     "schema_version": 1,
     "solution": false
    }
   },
   "outputs": [
    {
     "name": "stdout",
     "output_type": "stream",
     "text": [
      "0.8872356254649806\n"
     ]
    },
    {
     "data": {
      "text/html": [
       "<div id='vis-6c73b5c8-86a7-47dd-8b6a-b5f96d221e62'></div>\n",
       "<script>\n",
       "(function(){\n",
       "    var render = function(){\n",
       "        var model = {\"panes\":[{\"diagrams\":[{\"type\":\"line\",\"options\":{\"x\":\"x\",\"y\":\"y\"},\"data\":\"2c09eb7d-f1c9-4536-848e-5d80299705a5\"},{\"type\":\"line\",\"options\":{\"x\":\"data0\",\"y\":\"data1\",\"color\":\"gray\"},\"data\":\"aaa1ec8d-6f5b-4d5c-9a55-d36d6ec07290\"}],\"options\":{\"x_label\":\"False Positive Rate\",\"y_label\":\"True Positive Rate\",\"zoom\":true,\"width\":700,\"xrange\":[0,1],\"yrange\":[0.0,1.0334493851344864]}}],\"data\":{\"2c09eb7d-f1c9-4536-848e-5d80299705a5\":[{\"x\":0,\"y\":0.0},{\"x\":0,\"y\":0.010309278350515464},{\"x\":0,\"y\":1.0334493851344864}],\"aaa1ec8d-6f5b-4d5c-9a55-d36d6ec07290\":[{\"data0\":0,\"data1\":0},{\"data0\":1,\"data1\":1}]},\"extension\":[]}\n",
       "        var id_name = '#vis-6c73b5c8-86a7-47dd-8b6a-b5f96d221e62';\n",
       "        Nyaplot.core.parse(model, id_name);\n",
       "\n",
       "        require(['downloadable'], function(downloadable){\n",
       "          var svg = d3.select(id_name).select(\"svg\");\n",
       "\t  if(!svg.empty())\n",
       "\t    svg.call(downloadable().filename('fig'));\n",
       "\t});\n",
       "    };\n",
       "    if(window['Nyaplot']==undefined){\n",
       "        window.addEventListener('load_nyaplot', render, false);\n",
       "\treturn;\n",
       "    } else {\n",
       "       render();\n",
       "    }\n",
       "})();\n",
       "</script>\n"
      ],
      "text/plain": [
       "#<Nyaplot::Frame:0x0000000003ab8580 @properties={:panes=>[#<Nyaplot::Plot:0x0000000003acaaa0 @properties={:diagrams=>[#<Nyaplot::Diagram:0x0000000003aba920 @properties={:type=>:line, :options=>{:x=>:x, :y=>:y}, :data=>\"2c09eb7d-f1c9-4536-848e-5d80299705a5\"}, @xrange=[0, 0], @yrange=[0.0, 1.0334493851344864]>, #<Nyaplot::Diagram:0x0000000003ab8d28 @properties={:type=>:line, :options=>{:x=>\"data0\", :y=>\"data1\", :color=>:gray}, :data=>\"aaa1ec8d-6f5b-4d5c-9a55-d36d6ec07290\"}, @xrange=[0, 1], @yrange=[0, 1]>], :options=>{:x_label=>\"False Positive Rate\", :y_label=>\"True Positive Rate\", :zoom=>true, :width=>700, :xrange=>[0, 1], :yrange=>[0.0, 1.0334493851344864]}}>], :data=>{\"2c09eb7d-f1c9-4536-848e-5d80299705a5\"=>#<Nyaplot::DataFrame:0x0000000003abb3c0 @name=\"2c09eb7d-f1c9-4536-848e-5d80299705a5\", @rows=[{:x=>0, :y=>0.0}, {:x=>0, :y=>0.010309278350515464}, {:x=>0, :y=>1.0334493851344864}]>, \"aaa1ec8d-6f5b-4d5c-9a55-d36d6ec07290\"=>#<Nyaplot::DataFrame:0x0000000003ab9598 @name=\"aaa1ec8d-6f5b-4d5c-9a55-d36d6ec07290\", @rows=[{:data0=>0, :data1=>0}, {:data0=>1, :data1=>1}]>}, :extension=>[]}>"
      ]
     },
     "metadata": {},
     "output_type": "display_data"
    }
   ],
   "source": [
    "def test_42()\n",
    "  spiral = spiral_dataset()\n",
    "  scores = train_gaussian_kernel_hinge(spiral)\n",
    "  fp, tp, auc = roc_curve(scores)\n",
    "  puts auc\n",
    "\n",
    "  assert_true(auc > 0.5, \"AUC > 0.5\")\n",
    "  assert_true(auc > 0.6, \"AUC > 0.6\")  \n",
    "  assert_true(auc > 0.7, \"AUC > 0.7\")    \n",
    "  assert_true(auc > 0.8, \"AUC > 0.8\")    \n",
    "  assert_true(auc < 1.0, \"AUC < 1.0\")    \n",
    "\n",
    "  plot = Daru::DataFrame.new({x: fp, y: tp}).plot(type: :line, x: :x, y: :y) do |plot, diagram|\n",
    "    plot.x_label \"False Positive Rate\"\n",
    "    plot.y_label \"True Positive Rate\"\n",
    "  end\n",
    "  plot.add(:line, [0,1], [0,1]).color(:gray)\n",
    "  plot.show()\n",
    "end\n",
    "\n",
    "test_42()"
   ]
  },
  {
   "cell_type": "markdown",
   "metadata": {},
   "source": [
    "## Question 5.1 (7 Points)\n",
    "\n",
    "Compare the un-kernelized version, linear kernel, and Gaussian kernels on this dataset. Provide answers to the following questions as an array below:\n",
    "\n",
    "1. Which model had the best performance as measured by AUC\n",
    " * (A) Linear Kernel\n",
    " * (B) Gaussian Kernel\n",
    " * (C) Non-Kernel\n",
    " * (D) They were the same\n",
    "1. If there are $N$ examples in the training set, what is the size of the Gram matrix during training?\n",
    " * (A) $O(N)$\n",
    " * (B) $O(N \\log N)$\n",
    " * (C) $O(1)$\n",
    " * (D) $O(N^2)$\n",
    "1. For linear classifier, if there are $N$ examples with $d$ features in the training set, what is the time complexity of scoring one example?\n",
    " * (A) $O(d)$\n",
    " * (B) $O(N^2)$\n",
    " * (C) $O(Nd)$\n",
    " * (D) $O(N \\log d)$\n",
    "1. For kernelized classifier, if there are $N$ examples with $d$ features in the training set, what is the time complexity of scoring one example?\n",
    " * (A) $O(N \\log d)$\n",
    " * (B) $O(d)$\n",
    " * (C) $O(N^2)$\n",
    " * (D) $O(Nd)$\n",
    "1. Why do you think the Gaussian kernel would have better performance for the spiral dataset?\n",
    " * (A) Hinge loss causes the linear kernel to overfit, but the Gaussian kernel is very smooth and therefore less prone to overfitting.\n",
    " * (B) Gaussian kernel did not perform better than anything else.\n",
    " * (C) The spiral dataset is non-linear and the Gaussian kernel can learn non-linear boundaries.\n",
    " * (D) The data follows a Gaussian distribution therefore Gaussian kernels should fit the best. \n",
    " \n",
    " \n",
    "If your answers were all A, A, A, A, A, then write the following:\n",
    "\n",
    "```ruby\n",
    "def answer_51()\n",
    "  answers = [\"A\", \"A\", \"A\", \"A\", \"A\"]\n",
    "  return answers\n",
    "end\n",
    "```"
   ]
  },
  {
   "cell_type": "code",
   "execution_count": 144,
   "metadata": {
    "deletable": false,
    "nbgrader": {
     "checksum": "1521c81ffe5c3205e136d67945c7b8b0",
     "grade": false,
     "grade_id": "cell-0e8a77df1540314c",
     "locked": false,
     "schema_version": 1,
     "solution": true
    }
   },
   "outputs": [
    {
     "data": {
      "text/plain": [
       ":answer_51"
      ]
     },
     "execution_count": 144,
     "metadata": {},
     "output_type": "execute_result"
    }
   ],
   "source": [
    "def answer_51()\n",
    "  # BEGIN YOUR CODE\n",
    "  answers = [\"B\", \"D\", \"C\", \"D\", \"C\"]\n",
    "  #END YOUR CODE\n",
    "  return answers\n",
    "end"
   ]
  },
  {
   "cell_type": "code",
   "execution_count": 145,
   "metadata": {
    "deletable": false,
    "editable": false,
    "nbgrader": {
     "checksum": "41bff9336970f71ffd171536b3d98090",
     "grade": true,
     "grade_id": "cell-f64f4eb643d0d952",
     "locked": true,
     "points": 7,
     "schema_version": 1,
     "solution": false
    }
   },
   "outputs": [],
   "source": [
    "t51_answers = answer_51()\n",
    "\n",
    "assert_not_nil t51_answers, \"1\"\n",
    "assert_true(t51_answers.is_a?(Array))\n",
    "assert_equal(5, t51_answers.size)\n",
    "assert_true(t51_answers.any? {|a| a.size == 1 and a =~ /[A-Z]/})\n"
   ]
  },
  {
   "cell_type": "code",
   "execution_count": null,
   "metadata": {},
   "outputs": [],
   "source": []
  }
 ],
 "metadata": {
  "kernelspec": {
   "display_name": "Ruby 2.5.1",
   "language": "ruby",
   "name": "ruby"
  },
  "language_info": {
   "file_extension": ".rb",
   "mimetype": "application/x-ruby",
   "name": "ruby",
   "version": "2.5.1"
  }
 },
 "nbformat": 4,
 "nbformat_minor": 2
}
