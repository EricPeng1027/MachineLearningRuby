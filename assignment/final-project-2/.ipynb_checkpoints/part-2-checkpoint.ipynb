{
 "cells": [
  {
   "cell_type": "markdown",
   "metadata": {},
   "source": [
    "# CS6140 Assignments\n",
    "\n",
    "**Instructions**\n",
    "1. In each assignment cell, look for the block:\n",
    " ```\n",
    "  #BEGIN YOUR CODE\n",
    "  raise NotImplementedError.new()\n",
    "  #END YOUR CODE\n",
    " ```\n",
    "1. Replace this block with your solution.\n",
    "1. Test your solution by running the cells following your block (indicated by ##TEST##)\n",
    "1. Click the \"Validate\" button above to validate the work.\n",
    "\n",
    "**Notes**\n",
    "* You may add other cells and functions as needed\n",
    "* Keep all code in the same notebook\n",
    "* In order to receive credit, code must \"Validate\" on the JupyterHub server\n",
    "\n",
    "---"
   ]
  },
  {
   "cell_type": "code",
   "execution_count": null,
   "metadata": {},
   "outputs": [],
   "source": []
  },
  {
   "cell_type": "markdown",
   "metadata": {
    "deletable": false,
    "editable": false,
    "nbgrader": {
     "checksum": "b9045008c32b5d644d863fe7f99e1a58",
     "grade": false,
     "grade_id": "cell-2db1ec9fd61f5d6b",
     "locked": true,
     "schema_version": 1,
     "solution": false
    }
   },
   "source": [
    "# Final Project: Part 2 - Feature Extraction\n",
    "\n",
    "\n",
    "In any practical machine learning problem, the data preparation and feature extraction stages are the most important and time-consuming. The final project exposes you to a real-world dataset. In this part of the final project, you are responsible to creating features that will be meaningful for prediction. Features are evaluated based on Information Gain, which you implemented in [Assignment 2](../assignment-2/assignment-2.ipynb).\n",
    "\n",
    "Here is what will work well in this project:\n",
    "\n",
    "* Extract some sample data, load it in [R](https://www.r-project.org), and do some intial analysis. Feel free to build models there to get a feel for the best features.\n",
    "* Join the different tables--they are there for a reason. \n",
    "* Get creative.\n",
    "* Read some of the Kaggle competition forums and kernels. \n",
    "\n",
    "Here is what will NOT work:\n",
    "\n",
    "* Do not use only the features as provided in application_train.\n",
    "* Do not try implementing new learning algorithm in order to generate features. If you find something that works, investigate what features were helpful and add the features. \n",
    "* Do not build lookup tables \"embeddings\" or other things you might have read about but were not covered in class. \n",
    "* Do not try to build a kernel matrix on all pairs. Re-evaluate the kernel instead."
   ]
  },
  {
   "cell_type": "code",
   "execution_count": 1,
   "metadata": {
    "deletable": false,
    "editable": false,
    "nbgrader": {
     "checksum": "9ca0d151ba43bb4deb857d7f8c49f505",
     "grade": false,
     "grade_id": "cell-af1d85683fc29192",
     "locked": true,
     "schema_version": 1,
     "solution": false
    }
   },
   "outputs": [
    {
     "data": {
      "application/javascript": [
       "if(window['d3'] === undefined ||\n",
       "   window['Nyaplot'] === undefined){\n",
       "    var path = {\"d3\":\"https://cdnjs.cloudflare.com/ajax/libs/d3/3.5.5/d3.min\",\"downloadable\":\"http://cdn.rawgit.com/domitry/d3-downloadable/master/d3-downloadable\"};\n",
       "\n",
       "\n",
       "\n",
       "    var shim = {\"d3\":{\"exports\":\"d3\"},\"downloadable\":{\"exports\":\"downloadable\"}};\n",
       "\n",
       "    require.config({paths: path, shim:shim});\n",
       "\n",
       "\n",
       "require(['d3'], function(d3){window['d3']=d3;console.log('finished loading d3');require(['downloadable'], function(downloadable){window['downloadable']=downloadable;console.log('finished loading downloadable');\n",
       "\n",
       "\tvar script = d3.select(\"head\")\n",
       "\t    .append(\"script\")\n",
       "\t    .attr(\"src\", \"http://cdn.rawgit.com/domitry/Nyaplotjs/master/release/nyaplot.js\")\n",
       "\t    .attr(\"async\", true);\n",
       "\n",
       "\tscript[0][0].onload = script[0][0].onreadystatechange = function(){\n",
       "\n",
       "\n",
       "\t    var event = document.createEvent(\"HTMLEvents\");\n",
       "\t    event.initEvent(\"load_nyaplot\",false,false);\n",
       "\t    window.dispatchEvent(event);\n",
       "\t    console.log('Finished loading Nyaplotjs');\n",
       "\n",
       "\t};\n",
       "\n",
       "\n",
       "});});\n",
       "}\n"
      ],
      "text/plain": [
       "\"if(window['d3'] === undefined ||\\n   window['Nyaplot'] === undefined){\\n    var path = {\\\"d3\\\":\\\"https://cdnjs.cloudflare.com/ajax/libs/d3/3.5.5/d3.min\\\",\\\"downloadable\\\":\\\"http://cdn.rawgit.com/domitry/d3-downloadable/master/d3-downloadable\\\"};\\n\\n\\n\\n    var shim = {\\\"d3\\\":{\\\"exports\\\":\\\"d3\\\"},\\\"downloadable\\\":{\\\"exports\\\":\\\"downloadable\\\"}};\\n\\n    require.config({paths: path, shim:shim});\\n\\n\\nrequire(['d3'], function(d3){window['d3']=d3;console.log('finished loading d3');require(['downloadable'], function(downloadable){window['downloadable']=downloadable;console.log('finished loading downloadable');\\n\\n\\tvar script = d3.select(\\\"head\\\")\\n\\t    .append(\\\"script\\\")\\n\\t    .attr(\\\"src\\\", \\\"http://cdn.rawgit.com/domitry/Nyaplotjs/master/release/nyaplot.js\\\")\\n\\t    .attr(\\\"async\\\", true);\\n\\n\\tscript[0][0].onload = script[0][0].onreadystatechange = function(){\\n\\n\\n\\t    var event = document.createEvent(\\\"HTMLEvents\\\");\\n\\t    event.initEvent(\\\"load_nyaplot\\\",false,false);\\n\\t    window.dispatchEvent(event);\\n\\t    console.log('Finished loading Nyaplotjs');\\n\\n\\t};\\n\\n\\n});});\\n}\\n\""
      ]
     },
     "metadata": {},
     "output_type": "display_data"
    },
    {
     "data": {
      "text/plain": [
       "true"
      ]
     },
     "execution_count": 1,
     "metadata": {},
     "output_type": "execute_result"
    }
   ],
   "source": [
    "require './assignment_lib'"
   ]
  },
  {
   "cell_type": "code",
   "execution_count": 2,
   "metadata": {
    "deletable": false,
    "editable": false,
    "nbgrader": {
     "checksum": "79a9a43fb01aab13fbfdc805c3c72da2",
     "grade": false,
     "grade_id": "cell-99c6b85b81c0c166",
     "locked": true,
     "schema_version": 1,
     "solution": false
    }
   },
   "outputs": [
    {
     "data": {
      "text/plain": [
       "#<SQLite3::Database:0x0000000002d0bbd0 @tracefunc=nil, @authorizer=nil, @encoding=nil, @busy_handler=nil, @collations={}, @functions={}, @results_as_hash=true, @type_translation=nil, @readonly=true>"
      ]
     },
     "execution_count": 2,
     "metadata": {},
     "output_type": "execute_result"
    }
   ],
   "source": [
    "dir = \"/home/dataset\"\n",
    "$dev_db = SQLite3::Database.new \"#{dir}/credit_risk_data_dev.db\", results_as_hash: true, readonly: true"
   ]
  },
  {
   "cell_type": "markdown",
   "metadata": {},
   "source": [
    "## Question 1.1 (10 Points)\n",
    "\n",
    "Implement ```create_dataset``` which runs an SQL query on a database and constructs a dataset like those we have used in this course. Add an ```id``` field for the ```SK_ID_CURR``` and store the ```TARGET``` in ```label```. \n",
    "\n",
    "If the query is:\n",
    "```sql\n",
    "select sk_id_curr, target, ext_source_1 from application_train  where ext_source_1 <> '' order by sk_id_curr;\n",
    "```\n",
    "\n",
    "then the result is:\n",
    "\n",
    "```json\n",
    "[\n",
    "    {\"label\":1,\"id\":100002,\"features\":{\"ext_source_1\":0.08303696739132256}},\n",
    "    {\"label\":0,\"id\":100015,\"features\":{\"ext_source_1\":0.7220444501416448}}\n",
    "]\n",
    "...\n",
    "```\n",
    "Note the features should not include the ID or Label. Feature keys should be lowercase and only contain keys fo which ```key.is_a? String``` returns true.\n",
    "\n"
   ]
  },
  {
   "cell_type": "code",
   "execution_count": 3,
   "metadata": {
    "deletable": false,
    "nbgrader": {
     "checksum": "3ad691ec475c4e6aa27160dbd7794be6",
     "grade": false,
     "grade_id": "cell-0a24a7c1d58b392f",
     "locked": false,
     "schema_version": 1,
     "solution": true
    }
   },
   "outputs": [
    {
     "data": {
      "text/plain": [
       ":create_dataset"
      ]
     },
     "execution_count": 3,
     "metadata": {},
     "output_type": "execute_result"
    }
   ],
   "source": [
    "def create_dataset db, sql\n",
    "  dataset = []\n",
    "  db.execute sql do |row|\n",
    "    # BEGIN YOUR CODE\n",
    "    raise NotImplementedError.new()\n",
    "    #END YOUR CODE\n",
    "  end\n",
    "  return dataset\n",
    "end"
   ]
  },
  {
   "cell_type": "code",
   "execution_count": 4,
   "metadata": {
    "deletable": false,
    "editable": false,
    "nbgrader": {
     "checksum": "fc808c2af502b0b9896f6aa8f645f05d",
     "grade": true,
     "grade_id": "cell-8688ed35b3c26d22",
     "locked": true,
     "points": 10,
     "schema_version": 1,
     "solution": false
    }
   },
   "outputs": [
    {
     "ename": "NotImplementedError",
     "evalue": "NotImplementedError",
     "output_type": "error",
     "traceback": [
      "\u001b[31mNotImplementedError\u001b[0m: NotImplementedError",
      "\u001b[37m<main>:4:in `block in create_dataset'\u001b[0m",
      "\u001b[37m/usr/local/rvm/gems/ruby-2.5.1/gems/sqlite3-1.3.13/lib/sqlite3/database.rb:145:in `block (2 levels) in execute'\u001b[0m",
      "\u001b[37m/usr/local/rvm/gems/ruby-2.5.1/gems/sqlite3-1.3.13/lib/sqlite3/statement.rb:110:in `block in each'\u001b[0m",
      "\u001b[37m/usr/local/rvm/gems/ruby-2.5.1/gems/sqlite3-1.3.13/lib/sqlite3/statement.rb:107:in `loop'\u001b[0m",
      "\u001b[37m/usr/local/rvm/gems/ruby-2.5.1/gems/sqlite3-1.3.13/lib/sqlite3/statement.rb:107:in `each'\u001b[0m",
      "\u001b[37m/usr/local/rvm/gems/ruby-2.5.1/gems/sqlite3-1.3.13/lib/sqlite3/database.rb:143:in `block in execute'\u001b[0m",
      "\u001b[37m/usr/local/rvm/gems/ruby-2.5.1/gems/sqlite3-1.3.13/lib/sqlite3/database.rb:95:in `prepare'\u001b[0m",
      "\u001b[37m/usr/local/rvm/gems/ruby-2.5.1/gems/sqlite3-1.3.13/lib/sqlite3/database.rb:137:in `execute'\u001b[0m",
      "\u001b[37m<main>:2:in `create_dataset'\u001b[0m",
      "\u001b[37m<main>:1:in `test_11'\u001b[0m",
      "\u001b[37m<main>:11:in `<main>'\u001b[0m",
      "\u001b[37m/usr/local/rvm/gems/ruby-2.5.1/gems/iruby-0.3/lib/iruby/backend.rb:44:in `eval'\u001b[0m",
      "\u001b[37m/usr/local/rvm/gems/ruby-2.5.1/gems/iruby-0.3/lib/iruby/backend.rb:44:in `eval'\u001b[0m",
      "\u001b[37m/usr/local/rvm/gems/ruby-2.5.1/gems/iruby-0.3/lib/iruby/backend.rb:12:in `eval'\u001b[0m",
      "\u001b[37m/usr/local/rvm/gems/ruby-2.5.1/gems/iruby-0.3/lib/iruby/kernel.rb:87:in `execute_request'\u001b[0m",
      "\u001b[37m/usr/local/rvm/gems/ruby-2.5.1/gems/iruby-0.3/lib/iruby/kernel.rb:47:in `dispatch'\u001b[0m",
      "\u001b[37m/usr/local/rvm/gems/ruby-2.5.1/gems/iruby-0.3/lib/iruby/kernel.rb:37:in `run'\u001b[0m",
      "\u001b[37m/usr/local/rvm/gems/ruby-2.5.1/gems/iruby-0.3/lib/iruby/command.rb:70:in `run_kernel'\u001b[0m",
      "\u001b[37m/usr/local/rvm/gems/ruby-2.5.1/gems/iruby-0.3/lib/iruby/command.rb:34:in `run'\u001b[0m",
      "\u001b[37m/usr/local/rvm/gems/ruby-2.5.1/gems/iruby-0.3/bin/iruby:5:in `<top (required)>'\u001b[0m",
      "\u001b[37m/usr/local/rvm/gems/ruby-2.5.1/bin/iruby:23:in `load'\u001b[0m",
      "\u001b[37m/usr/local/rvm/gems/ruby-2.5.1/bin/iruby:23:in `<main>'\u001b[0m",
      "\u001b[37m/usr/local/rvm/gems/ruby-2.5.1/bin/ruby_executable_hooks:15:in `eval'\u001b[0m",
      "\u001b[37m/usr/local/rvm/gems/ruby-2.5.1/bin/ruby_executable_hooks:15:in `<main>'\u001b[0m"
     ]
    }
   ],
   "source": [
    "def test_11()\n",
    "  dataset = create_dataset $dev_db, \"select sk_id_curr, target, ext_source_1 from application_train where ext_source_1 <> '' \n",
    "order by sk_id_curr limit 37\"\n",
    "  assert_equal 37, dataset.size\n",
    "  assert_true(dataset[0][\"features\"].has_key? \"ext_source_1\")\n",
    "  assert_equal(1, dataset[0][\"features\"].size)\n",
    "  assert_equal(100002, dataset[0][\"id\"])  \n",
    "  assert_in_delta(0.08303696, dataset[0][\"features\"][\"ext_source_1\"], 1e-4)\n",
    "  assert_equal(1, dataset[0][\"label\"])    \n",
    "end\n",
    "\n",
    "test_11()"
   ]
  },
  {
   "cell_type": "markdown",
   "metadata": {},
   "source": [
    "## Question 1.1 (20 points)\n",
    "\n",
    "Copy and revise **your** information gain calculation for numeric and categorical features, from [Assignment 2](../assignment-2/assignment-2.ipynb). Copy the following implementations\n",
    "\n",
    "* Class Distribution\n",
    "* Entropy\n",
    "* Information Gain after splitting\n",
    "* Information gain for numerical features (fast version)\n"
   ]
  },
  {
   "cell_type": "code",
   "execution_count": 5,
   "metadata": {
    "deletable": false,
    "nbgrader": {
     "checksum": "75bc54085b65d0a1164a7d8d030f55e6",
     "grade": false,
     "grade_id": "cell-b4fe1101959cb84a",
     "locked": false,
     "schema_version": 1,
     "solution": true
    }
   },
   "outputs": [
    {
     "data": {
      "text/plain": [
       ":class_distribution"
      ]
     },
     "execution_count": 5,
     "metadata": {},
     "output_type": "execute_result"
    }
   ],
   "source": [
    "def class_distribution dataset\n",
    "  # BEGIN YOUR CODE\n",
    "  output = Hash.new {|h,k| h[k] = 0}\n",
    "  \n",
    "  for data in dataset\n",
    "    output[data[\"label\"]] += 1\n",
    "  end\n",
    "\n",
    "  sum = 0.0\n",
    "  \n",
    "  output.each_value do |v|\n",
    "    sum += v\n",
    "  end\n",
    "  \n",
    "  output.each {|k,v| output[k] = v /sum}\n",
    "  \n",
    "  return output  \n",
    "  #END YOUR CODE\n",
    "end"
   ]
  },
  {
   "cell_type": "code",
   "execution_count": 6,
   "metadata": {
    "deletable": false,
    "nbgrader": {
     "checksum": "4194853bca117dcb4696ac0ba1f37872",
     "grade": false,
     "grade_id": "cell-a956fb8dfa56395e",
     "locked": false,
     "schema_version": 1,
     "solution": true
    }
   },
   "outputs": [
    {
     "data": {
      "text/plain": [
       ":entropy"
      ]
     },
     "execution_count": 6,
     "metadata": {},
     "output_type": "execute_result"
    }
   ],
   "source": [
    "def entropy dist\n",
    "  # BEGIN YOUR CODE\n",
    "  cEnt = 0.0\n",
    "  sum = 0.0\n",
    "  \n",
    "  dist.each_value do |v|\n",
    "    sum += v\n",
    "  end\n",
    "  \n",
    "  if sum == 0.0\n",
    "    return 0\n",
    "  end\n",
    "  \n",
    "  dist.each_value do |v|\n",
    "    prob = v/sum\n",
    "    if prob < 1e-5\n",
    "      next\n",
    "    else\n",
    "      cEnt -= prob*Math.log(prob)\n",
    "    end\n",
    "  end\n",
    "  \n",
    "  return cEnt\n",
    "  #END YOUR CODE\n",
    "end"
   ]
  },
  {
   "cell_type": "code",
   "execution_count": 7,
   "metadata": {
    "deletable": false,
    "editable": false,
    "nbgrader": {
     "checksum": "b58a0a60ccd14c67c0e858cec1e2fe53",
     "grade": true,
     "grade_id": "cell-fe1d965fe70ab0a7",
     "locked": true,
     "points": 5,
     "schema_version": 1,
     "solution": false
    }
   },
   "outputs": [
    {
     "ename": "NotImplementedError",
     "evalue": "NotImplementedError",
     "output_type": "error",
     "traceback": [
      "\u001b[31mNotImplementedError\u001b[0m: NotImplementedError",
      "\u001b[37m<main>:4:in `block in create_dataset'\u001b[0m",
      "\u001b[37m/usr/local/rvm/gems/ruby-2.5.1/gems/sqlite3-1.3.13/lib/sqlite3/database.rb:145:in `block (2 levels) in execute'\u001b[0m",
      "\u001b[37m/usr/local/rvm/gems/ruby-2.5.1/gems/sqlite3-1.3.13/lib/sqlite3/statement.rb:110:in `block in each'\u001b[0m",
      "\u001b[37m/usr/local/rvm/gems/ruby-2.5.1/gems/sqlite3-1.3.13/lib/sqlite3/statement.rb:107:in `loop'\u001b[0m",
      "\u001b[37m/usr/local/rvm/gems/ruby-2.5.1/gems/sqlite3-1.3.13/lib/sqlite3/statement.rb:107:in `each'\u001b[0m",
      "\u001b[37m/usr/local/rvm/gems/ruby-2.5.1/gems/sqlite3-1.3.13/lib/sqlite3/database.rb:143:in `block in execute'\u001b[0m",
      "\u001b[37m/usr/local/rvm/gems/ruby-2.5.1/gems/sqlite3-1.3.13/lib/sqlite3/database.rb:95:in `prepare'\u001b[0m",
      "\u001b[37m/usr/local/rvm/gems/ruby-2.5.1/gems/sqlite3-1.3.13/lib/sqlite3/database.rb:137:in `execute'\u001b[0m",
      "\u001b[37m<main>:2:in `create_dataset'\u001b[0m",
      "\u001b[37m<main>:2:in `test_12_1'\u001b[0m",
      "\u001b[37m<main>:8:in `<main>'\u001b[0m",
      "\u001b[37m/usr/local/rvm/gems/ruby-2.5.1/gems/iruby-0.3/lib/iruby/backend.rb:44:in `eval'\u001b[0m",
      "\u001b[37m/usr/local/rvm/gems/ruby-2.5.1/gems/iruby-0.3/lib/iruby/backend.rb:44:in `eval'\u001b[0m",
      "\u001b[37m/usr/local/rvm/gems/ruby-2.5.1/gems/iruby-0.3/lib/iruby/backend.rb:12:in `eval'\u001b[0m",
      "\u001b[37m/usr/local/rvm/gems/ruby-2.5.1/gems/iruby-0.3/lib/iruby/kernel.rb:87:in `execute_request'\u001b[0m",
      "\u001b[37m/usr/local/rvm/gems/ruby-2.5.1/gems/iruby-0.3/lib/iruby/kernel.rb:47:in `dispatch'\u001b[0m",
      "\u001b[37m/usr/local/rvm/gems/ruby-2.5.1/gems/iruby-0.3/lib/iruby/kernel.rb:37:in `run'\u001b[0m",
      "\u001b[37m/usr/local/rvm/gems/ruby-2.5.1/gems/iruby-0.3/lib/iruby/command.rb:70:in `run_kernel'\u001b[0m",
      "\u001b[37m/usr/local/rvm/gems/ruby-2.5.1/gems/iruby-0.3/lib/iruby/command.rb:34:in `run'\u001b[0m",
      "\u001b[37m/usr/local/rvm/gems/ruby-2.5.1/gems/iruby-0.3/bin/iruby:5:in `<top (required)>'\u001b[0m",
      "\u001b[37m/usr/local/rvm/gems/ruby-2.5.1/bin/iruby:23:in `load'\u001b[0m",
      "\u001b[37m/usr/local/rvm/gems/ruby-2.5.1/bin/iruby:23:in `<main>'\u001b[0m",
      "\u001b[37m/usr/local/rvm/gems/ruby-2.5.1/bin/ruby_executable_hooks:15:in `eval'\u001b[0m",
      "\u001b[37m/usr/local/rvm/gems/ruby-2.5.1/bin/ruby_executable_hooks:15:in `<main>'\u001b[0m"
     ]
    }
   ],
   "source": [
    "def test_12_1()\n",
    "  # Check that there are three classes\n",
    "  dataset = create_dataset $dev_db, \"select target, sk_id_curr, ext_source_1, flag_own_car from application_train where ext_source_1 <> ''\"\n",
    "  dist = class_distribution dataset\n",
    "  h0 = entropy dist\n",
    "  assert_in_delta(0.2686201883261589, h0, 1e-3)\n",
    "end\n",
    "\n",
    "test_12_1()"
   ]
  },
  {
   "cell_type": "code",
   "execution_count": null,
   "metadata": {
    "deletable": false,
    "nbgrader": {
     "checksum": "ba92a5dee595dfa52d2ab80cb6ac9caa",
     "grade": false,
     "grade_id": "cell-9b94563fe65d0166",
     "locked": false,
     "schema_version": 1,
     "solution": true
    }
   },
   "outputs": [],
   "source": [
    "def information_gain h0, splits\n",
    "  # BEGIN YOUR CODE\n",
    "  sum = 0\n",
    "  ig = h0\n",
    "  \n",
    "  splits.each_value do |v|\n",
    "    sum += v.length\n",
    "  end\n",
    "  \n",
    "  splits.each_value do |v|\n",
    "    ig -= (entropy(class_distribution(v))) * v.length / sum\n",
    "  end\n",
    "  return ig\n",
    "  #END YOUR CODE\n",
    "end"
   ]
  },
  {
   "cell_type": "code",
   "execution_count": null,
   "metadata": {
    "deletable": false,
    "editable": false,
    "nbgrader": {
     "checksum": "7422895df5de3984725cbc2d5aa2a276",
     "grade": true,
     "grade_id": "cell-d88cded139a1edfd",
     "locked": true,
     "points": 5,
     "schema_version": 1,
     "solution": false
    }
   },
   "outputs": [],
   "source": [
    "def test_12_2()\n",
    "  # Check that there are three classes\n",
    "  dataset = create_dataset $dev_db, \"select target, sk_id_curr, ext_source_1, flag_own_car from application_train where ext_source_1 <> ''\"\n",
    "  dist = class_distribution dataset\n",
    "  h0 = entropy dist\n",
    "  \n",
    "  splits = dataset.group_by {|row| row[\"features\"][\"flag_own_car\"]}\n",
    "  ig = information_gain h0, splits\n",
    "  assert_in_delta(0.0002206258541794237, ig, 1e-4)\n",
    "end\n",
    "\n",
    "test_12_2()"
   ]
  },
  {
   "cell_type": "code",
   "execution_count": null,
   "metadata": {
    "deletable": false,
    "nbgrader": {
     "checksum": "868e0a218c238e6c5c0e2a5fe4750a4c",
     "grade": false,
     "grade_id": "cell-05b14b2b932b0030",
     "locked": false,
     "schema_version": 1,
     "solution": true
    }
   },
   "outputs": [],
   "source": [
    "def find_split_point_numeric x, h0, fname\n",
    "  # BEGIN YOUR CODE\n",
    "  values = x.collect {|data| data[\"features\"][fname]}.compact.uniq.sort\n",
    "  sValue = [0, 0]\n",
    "  \n",
    "  split = x.group_by do |data|\n",
    "    if data[\"features\"][fname] != nil\n",
    "      data[\"features\"][fname] < 0 ? \"l\" : \"r\"\n",
    "    end\n",
    "  end\n",
    "         \n",
    "  split[\"l\"] = []\n",
    "  \n",
    "  for v in values\n",
    "    ig = information_gain h0, split\n",
    "    if ig > sValue[1]\n",
    "      sValue[0] = v\n",
    "      sValue[1] = ig\n",
    "    end\n",
    "    \n",
    "    delta = []\n",
    "    \n",
    "    x.each do |data|\n",
    "      if data[\"features\"][fname].to_f == v\n",
    "        delta << data\n",
    "      end\n",
    "    end\n",
    "    \n",
    "    split[\"l\"] += delta\n",
    "    split[\"r\"] -= delta\n",
    "  end\n",
    "  return sValue\n",
    "  #END YOUR CODE\n",
    "end"
   ]
  },
  {
   "cell_type": "code",
   "execution_count": null,
   "metadata": {
    "deletable": false,
    "editable": false,
    "nbgrader": {
     "checksum": "ef61a807425ade33886ce44c836d1206",
     "grade": true,
     "grade_id": "cell-8d49eda92182a4b9",
     "locked": true,
     "points": 10,
     "schema_version": 1,
     "solution": false
    }
   },
   "outputs": [],
   "source": [
    "def test_12_3()\n",
    "  # Check that there are three classes\n",
    "  dataset = create_dataset $dev_db, \"select target, sk_id_curr, ext_source_1, flag_own_car from application_train where ext_source_1 <> ''\"\n",
    "  dist = class_distribution dataset\n",
    "  h0 = entropy dist\n",
    "  \n",
    "  t, ig = find_split_point_numeric dataset, h0, \"ext_source_1\"\n",
    "  assert_in_delta(0.009751743140812785, ig, 1e-4)\n",
    "end\n",
    "\n",
    "test_12_3()"
   ]
  },
  {
   "cell_type": "markdown",
   "metadata": {},
   "source": [
    "## Question 2.1 (70 Points)\n",
    "\n",
    "Using whatever external software you want (hosted on your own devices), provide 15+ different features that have information >= 0.005. You may to implement several cells below, so please insert them above the test. \n",
    "\n",
    "Features must only be derived from the database but you are free to write whatever SQL queries you want. You may create temporary tables, but the database is read-only.\n",
    "\n",
    "Pay close attention to the following aspects of feature design:\n",
    "\n",
    "* Normalization: Z-score, L2, Min-Max, etc.\n",
    "* Sparsity / missing values\n",
    "* Frequency: Information is easily fooled by features with many values.\n",
    "* Joins: Some of the best features in this dataset combine two columns from different tables.\n",
    "* Transformations: One-hot, Binning, Discretization, Non-linear transformation"
   ]
  },
  {
   "cell_type": "code",
   "execution_count": null,
   "metadata": {},
   "outputs": [],
   "source": []
  },
  {
   "cell_type": "code",
   "execution_count": null,
   "metadata": {},
   "outputs": [],
   "source": [
    "#Add extra cells as needed"
   ]
  },
  {
   "cell_type": "code",
   "execution_count": null,
   "metadata": {
    "deletable": false,
    "nbgrader": {
     "checksum": "60cdc4cc43071b459fbe306658451e3e",
     "grade": false,
     "grade_id": "cell-81b7747d7b0f0592",
     "locked": false,
     "schema_version": 1,
     "solution": true
    }
   },
   "outputs": [],
   "source": [
    "def extract_features db\n",
    "  dataset = []\n",
    "  # BEGIN YOUR CODE\n",
    "  raise NotImplementedError.new()\n",
    "  #END YOUR CODE\n",
    "  return dataset\n",
    "end"
   ]
  },
  {
   "cell_type": "code",
   "execution_count": null,
   "metadata": {
    "deletable": false,
    "editable": false,
    "nbgrader": {
     "checksum": "4aa9953ab7fd9e04eaed43e1dac0e393",
     "grade": false,
     "grade_id": "cell-8c402c9f742d0779",
     "locked": true,
     "schema_version": 1,
     "solution": false
    }
   },
   "outputs": [],
   "source": [
    "extracted_dataset = extract_features($dev_db)\n",
    "extracted_dataset[0]"
   ]
  },
  {
   "cell_type": "code",
   "execution_count": null,
   "metadata": {
    "deletable": false,
    "editable": false,
    "nbgrader": {
     "checksum": "b4597536fdbf10caf3336be5abe46f2c",
     "grade": true,
     "grade_id": "cell-ef86efb741a938de",
     "locked": true,
     "points": 10,
     "schema_version": 1,
     "solution": false
    }
   },
   "outputs": [],
   "source": [
    "assert_not_nil extracted_dataset\n",
    "assert_equal 15334, extracted_dataset.size\n",
    "assert_true(extracted_dataset.all? {|row| row[\"features\"].size >= 8}, \"At least 6 non-zero features per row\")\n",
    "assert_true(extracted_dataset.flat_map {|row| row[\"features\"].keys}.uniq.size >= 15,  \"At least 15 features\")"
   ]
  },
  {
   "cell_type": "code",
   "execution_count": null,
   "metadata": {
    "deletable": false,
    "editable": false,
    "nbgrader": {
     "checksum": "fe8a6cc82645651810e2e301d81d06c5",
     "grade": true,
     "grade_id": "cell-23647d16738e3205",
     "locked": true,
     "points": 10,
     "schema_version": 1,
     "solution": false
    }
   },
   "outputs": [],
   "source": [
    "assert_equal 15334, extracted_dataset.collect {|row| row[\"id\"]}.uniq.size\n",
    "assert_equal 2, extracted_dataset.collect {|row| row[\"label\"]}.uniq.size\n",
    "\n",
    "h0 = entropy(class_distribution(extracted_dataset))\n",
    "assert_in_delta(0.2797684909805576, h0, 1e-3)"
   ]
  },
  {
   "cell_type": "code",
   "execution_count": null,
   "metadata": {
    "deletable": false,
    "editable": false,
    "nbgrader": {
     "checksum": "773639e034e9c13094d055ea55cc4911",
     "grade": true,
     "grade_id": "cell-fe9232a9bed335ff",
     "locked": true,
     "points": 5,
     "schema_version": 1,
     "solution": false
    }
   },
   "outputs": [],
   "source": [
    "features = extracted_dataset.flat_map {|row| row[\"features\"].keys}.uniq\n",
    "numeric_features = features.select {|k| extracted_dataset.reject {|row| row[\"features\"][k] == \"\"}.all? {|row| row[\"features\"].fetch(k, 0.0).is_a? Numeric}}\n",
    "\n",
    "assert_true(numeric_features.size >= 4, \"At least 4 numeric features\")\n",
    "def test_ig_numeric extracted_dataset, h0, test_feature1\n",
    "  t, ig = find_split_point_numeric extracted_dataset, h0, test_feature1\n",
    "  assert_true(ig >= 0.005, \"Expected information gain for '#{test_feature1}' > 0.005\")\n",
    "  return test_feature1\n",
    "end\n",
    "\n",
    "test_ig_numeric extracted_dataset, h0, numeric_features[0]"
   ]
  },
  {
   "cell_type": "code",
   "execution_count": null,
   "metadata": {
    "deletable": false,
    "editable": false,
    "nbgrader": {
     "checksum": "0cefa2dba0e524d1aaaf262dcf46eeb5",
     "grade": true,
     "grade_id": "cell-e3cfb6234aae3cd6",
     "locked": true,
     "points": 5,
     "schema_version": 1,
     "solution": false
    }
   },
   "outputs": [],
   "source": [
    "test_ig_numeric extracted_dataset, h0, numeric_features[1]"
   ]
  },
  {
   "cell_type": "code",
   "execution_count": null,
   "metadata": {
    "deletable": false,
    "editable": false,
    "nbgrader": {
     "checksum": "43b12cb9172f05d3cfb69345edf5caec",
     "grade": true,
     "grade_id": "cell-3af2ae9935c80d63",
     "locked": true,
     "points": 5,
     "schema_version": 1,
     "solution": false
    }
   },
   "outputs": [],
   "source": [
    "test_ig_numeric extracted_dataset, h0, numeric_features[2]"
   ]
  },
  {
   "cell_type": "code",
   "execution_count": null,
   "metadata": {
    "deletable": false,
    "editable": false,
    "nbgrader": {
     "checksum": "02a54a39ba9c41be717488e7b0451902",
     "grade": true,
     "grade_id": "cell-7eb5e45fb12bab22",
     "locked": true,
     "points": 10,
     "schema_version": 1,
     "solution": false
    }
   },
   "outputs": [],
   "source": [
    "3.upto(numeric_features.size - 1) do |i|\n",
    "  test_ig_numeric extracted_dataset, h0, numeric_features[i]\n",
    "end"
   ]
  },
  {
   "cell_type": "code",
   "execution_count": null,
   "metadata": {
    "deletable": false,
    "editable": false,
    "nbgrader": {
     "checksum": "c9401c8458fc1db657539eef316489f6",
     "grade": true,
     "grade_id": "cell-433d61446fb448fb",
     "locked": true,
     "points": 5,
     "schema_version": 1,
     "solution": false
    }
   },
   "outputs": [],
   "source": [
    "categorical_features = features.select {|k| extracted_dataset.all? {|row| row[\"features\"].fetch(k, \"\").is_a? String}}\n",
    "\n",
    "assert_true(categorical_features.size >= 4, \"At least 4 categorical features\")\n",
    "\n",
    "def test_ig_categorical extracted_dataset, h0, test_feature1\n",
    "  splits = extracted_dataset.group_by {|row| row[\"features\"][test_feature1]}\n",
    "  ig = information_gain h0, splits\n",
    "  puts ig\n",
    "  assert_true(ig >= 0.005, \"Expected information gain for '#{test_feature1}' > 0.005\")\n",
    "  return test_feature1\n",
    "end\n",
    "\n",
    "test_ig_categorical extracted_dataset, h0, categorical_features[0]"
   ]
  },
  {
   "cell_type": "code",
   "execution_count": null,
   "metadata": {
    "deletable": false,
    "editable": false,
    "nbgrader": {
     "checksum": "ecc1f4e97d6c2a0809f21488f2574195",
     "grade": true,
     "grade_id": "cell-c066b4ac7af283e4",
     "locked": true,
     "points": 5,
     "schema_version": 1,
     "solution": false
    }
   },
   "outputs": [],
   "source": [
    "test_ig_categorical extracted_dataset, h0, categorical_features[1]"
   ]
  },
  {
   "cell_type": "code",
   "execution_count": null,
   "metadata": {
    "deletable": false,
    "editable": false,
    "nbgrader": {
     "checksum": "dc543b59d6c6c0b4e70e6ea5ae4d1d37",
     "grade": true,
     "grade_id": "cell-cace39d2ef8a94bc",
     "locked": true,
     "points": 5,
     "schema_version": 1,
     "solution": false
    }
   },
   "outputs": [],
   "source": [
    "test_ig_categorical extracted_dataset, h0, categorical_features[2]"
   ]
  },
  {
   "cell_type": "code",
   "execution_count": null,
   "metadata": {
    "deletable": false,
    "editable": false,
    "nbgrader": {
     "checksum": "af050a047b9388cfbe82a35515d10b27",
     "grade": true,
     "grade_id": "cell-c57fca43e0641c05",
     "locked": true,
     "points": 10,
     "schema_version": 1,
     "solution": false
    }
   },
   "outputs": [],
   "source": [
    "3.upto(categorical_features.size - 1) do |i|\n",
    "  test_ig_categorical extracted_dataset, h0, categorical_features[i]\n",
    "end"
   ]
  },
  {
   "cell_type": "code",
   "execution_count": null,
   "metadata": {},
   "outputs": [],
   "source": []
  }
 ],
 "metadata": {
  "kernelspec": {
   "display_name": "Ruby 2.5.1",
   "language": "ruby",
   "name": "ruby"
  },
  "language_info": {
   "file_extension": ".rb",
   "mimetype": "application/x-ruby",
   "name": "ruby",
   "version": "2.5.1"
  }
 },
 "nbformat": 4,
 "nbformat_minor": 2
}
