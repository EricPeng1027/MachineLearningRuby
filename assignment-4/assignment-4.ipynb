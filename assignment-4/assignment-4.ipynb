{
 "cells": [
  {
   "cell_type": "markdown",
   "metadata": {},
   "source": [
    "# CS6140 Assignments\n",
    "\n",
    "**Instructions**\n",
    "1. In each assignment cell, look for the block:\n",
    " ```\n",
    "  #BEGIN YOUR CODE\n",
    "  raise NotImplementedError.new()\n",
    "  #END YOUR CODE\n",
    " ```\n",
    "1. Replace this block with your solution.\n",
    "1. Test your solution by running the cells following your block (indicated by ##TEST##)\n",
    "1. Click the \"Validate\" button above to validate the work.\n",
    "\n",
    "**Notes**\n",
    "* You may add other cells and functions as needed\n",
    "* Keep all code in the same notebook\n",
    "* In order to receive credit, code must \"Validate\" on the JupyterHub server\n",
    "\n",
    "---"
   ]
  },
  {
   "cell_type": "code",
   "execution_count": null,
   "metadata": {},
   "outputs": [],
   "source": []
  },
  {
   "cell_type": "markdown",
   "metadata": {},
   "source": [
    "## Assignment 4: Gradient Descent and Maximum Likelihood"
   ]
  },
  {
   "cell_type": "code",
   "execution_count": 68,
   "metadata": {},
   "outputs": [
    {
     "data": {
      "text/plain": [
       "false"
      ]
     },
     "execution_count": 68,
     "metadata": {},
     "output_type": "execute_result"
    }
   ],
   "source": [
    "require './assignment_lib'"
   ]
  },
  {
   "cell_type": "markdown",
   "metadata": {},
   "source": [
    "## Question 1.1 (5 points)\n",
    "\n",
    "Let's implement a test function for the gradient descent optimizer, a 3D simple parabola. All gradient-optimized trainers are implemented as a objective function. The follow the same basic pattern:\n",
    "\n",
    "```ruby\n",
    "class MyGradientLearnableModel\n",
    "  def func x, w\n",
    "    #Returns the value of the objective function, \n",
    "    #  summing across all examples in x\n",
    "  end\n",
    "  def grad x, w\n",
    "    #Returns a hash of derivative values for each variable in w,\n",
    "    # gradient is summed across all examples in x\n",
    "    dw = {\"0\" => (w[\"0\"] - 1), \"1\" => (w[\"1\"] - 2)}\n",
    "  end\n",
    "  def adjust w\n",
    "    # Applies any problem-specific alterations to w\n",
    "  end\n",
    "end\n",
    "```\n",
    "\n",
    "Now, let's implement a Parabola objective function which does not depend on the data at all. It is defined as follows:\n",
    "\n",
    "### $L(w) = \\frac{1}{2}\\left( \\left(w_{0} - 1\\right)^2 + \\left(w_{1} - 2\\right)^2 \\right)$\n",
    "\n",
    "Implement the ```func``` method for the loss function, $L(w)$. "
   ]
  },
  {
   "cell_type": "code",
   "execution_count": 69,
   "metadata": {
    "deletable": false,
    "nbgrader": {
     "checksum": "54115f66272f6d5339cda445dcca261d",
     "grade": false,
     "grade_id": "cell-f52748ce9cfc537f",
     "locked": false,
     "schema_version": 1,
     "solution": true
    }
   },
   "outputs": [
    {
     "data": {
      "text/plain": [
       ":adjust"
      ]
     },
     "execution_count": 69,
     "metadata": {},
     "output_type": "execute_result"
    }
   ],
   "source": [
    "class ParabolaObjective\n",
    "  def func x, w\n",
    "    # BEGIN YOUR CODE\n",
    "    return 0.5 * ((w[\"0\"] - 1) ** 2 + (w[\"1\"] - 2) ** 2)\n",
    "    #END YOUR CODE\n",
    "  end\n",
    "  def adjust w\n",
    "  end\n",
    "end"
   ]
  },
  {
   "cell_type": "code",
   "execution_count": 21,
   "metadata": {
    "deletable": false,
    "editable": false,
    "nbgrader": {
     "checksum": "f730730805da8370e5bbb243d401a989",
     "grade": true,
     "grade_id": "cell-91665d329bcaad34",
     "locked": true,
     "points": 5,
     "schema_version": 1,
     "solution": false
    }
   },
   "outputs": [],
   "source": [
    "### TESTS ###\n",
    "t1 = ParabolaObjective.new\n",
    "assert_in_delta(0.0, t1.func([], {\"0\" => 1.0, \"1\" => 2.0}), 1e-3)\n",
    "assert_in_delta(0.5, t1.func([], {\"0\" => 1.0, \"1\" => 1.0}), 1e-3)\n",
    "assert_in_delta(0.5, t1.func([], {\"0\" => 1.0, \"1\" => 3.0}), 1e-3)\n",
    "assert_in_delta(2.5, t1.func([], {\"0\" => 3.0, \"1\" => 1.0}), 1e-3)\n"
   ]
  },
  {
   "cell_type": "markdown",
   "metadata": {},
   "source": [
    "## Question 1.2 (5 Points)\n",
    "\n",
    "Implement the gradient function for $L(w)$. It evaluates the gradient for the value of $x$ for each dimension of $w$. In this simple case, $L(w)$ does not depend on $x$."
   ]
  },
  {
   "cell_type": "code",
   "execution_count": 70,
   "metadata": {
    "deletable": false,
    "nbgrader": {
     "checksum": "336415156704e9b2ea16ae3940b2e032",
     "grade": false,
     "grade_id": "cell-b5c9699ed1ed88fa",
     "locked": false,
     "schema_version": 1,
     "solution": true
    }
   },
   "outputs": [
    {
     "data": {
      "text/plain": [
       ":grad"
      ]
     },
     "execution_count": 70,
     "metadata": {},
     "output_type": "execute_result"
    }
   ],
   "source": [
    "class ParabolaObjective\n",
    "  def grad x, w\n",
    "    # BEGIN YOUR CODE\n",
    "    return {\"0\" =>  w[\"0\"] - 1, \"1\" => w[\"1\"]- 2};\n",
    "    #END YOUR CODE\n",
    "  end\n",
    "end"
   ]
  },
  {
   "cell_type": "code",
   "execution_count": 23,
   "metadata": {
    "deletable": false,
    "editable": false,
    "nbgrader": {
     "checksum": "e9b03b5652d757511bb12c6642715b2d",
     "grade": true,
     "grade_id": "cell-aaa3cd8bce5fe79b",
     "locked": true,
     "points": 5,
     "schema_version": 1,
     "solution": false
    }
   },
   "outputs": [],
   "source": [
    "### TESTS ###\n",
    "t2 = ParabolaObjective.new\n",
    "w2_1 = t2.grad([], {\"0\" => 3.0, \"1\" => 7.0})\n",
    "assert_in_delta(2.0, w2_1[\"0\"], 1e-3)\n",
    "assert_in_delta(5.0, w2_1[\"1\"], 1e-3)\n",
    "\n",
    "w2_2 = t2.grad([], {\"0\" => -3.0, \"1\" => -7.0})\n",
    "assert_in_delta(-4.0, w2_2[\"0\"], 1e-3)\n",
    "assert_in_delta(-9.0, w2_2[\"1\"], 1e-3)\n"
   ]
  },
  {
   "cell_type": "markdown",
   "metadata": {},
   "source": [
    "## Question 2.1 (1 Point)\n",
    "\n",
    "\n",
    "Implement gradient descent for any objective function class. Your function must provide a callback which we will use to monitor its performance and possibly to halt execution. A simple example illustrating the callback is as follows:\n",
    "\n",
    "```ruby\n",
    "def gradient_descent_example dataset, w, obj, learning_rate, tol, max_iter, &block\n",
    "    iter = 0\n",
    "    until converged(last_loss, current_loss) do\n",
    "        w_last = w\n",
    "        loss = calc_loss(w)\n",
    "        w = update(w)\n",
    "        w = adjust(w)\n",
    "        break unless yield w, iter, loss\n",
    "        iter += 1\n",
    "    end\n",
    "    \n",
    "    return w\n",
    "end\n",
    "\n",
    "```\n",
    "\n",
    "There are three main parts to the algorithm above:\n",
    "1. Convergence is based on the absolute difference between the loss of the current and previoud iteration.\n",
    "1. The norm can be calculated as the dot product of two vectors: $||w|| = w \\cdot w$\n",
    "1. Once the loss and gradient functions are calculated, we will update the values of each weight\n",
    "\n",
    "In this first part, implement the dot product"
   ]
  },
  {
   "cell_type": "code",
   "execution_count": 71,
   "metadata": {
    "deletable": false,
    "nbgrader": {
     "checksum": "cd831dd58d1fca904a54df797cbaf64b",
     "grade": false,
     "grade_id": "cell-7af25ba96bfb8ab2",
     "locked": false,
     "schema_version": 1,
     "solution": true
    }
   },
   "outputs": [
    {
     "data": {
      "text/plain": [
       ":dot"
      ]
     },
     "execution_count": 71,
     "metadata": {},
     "output_type": "execute_result"
    }
   ],
   "source": [
    "#Implement the error function given a weight vector, w\n",
    "def dot x, w\n",
    "  # BEGIN YOUR CODE\n",
    "  sum = 0.0\n",
    "    \n",
    "    if !(x.empty? or w.empty?)\n",
    "      x.each do |k, v|\n",
    "          if w.has_key?(k)\n",
    "              sum += v * w[k]\n",
    "          end\n",
    "      end\n",
    "    end\n",
    "    \n",
    "    return sum\n",
    "  #END YOUR CODE\n",
    "end\n"
   ]
  },
  {
   "cell_type": "code",
   "execution_count": 25,
   "metadata": {
    "deletable": false,
    "editable": false,
    "nbgrader": {
     "checksum": "729b2f04141c6e728d5a50c168864202",
     "grade": true,
     "grade_id": "cell-6e56a41a0ad960bf",
     "locked": true,
     "points": 1,
     "schema_version": 1,
     "solution": false
    }
   },
   "outputs": [],
   "source": [
    "### TEST ###\n",
    "assert_in_delta 6.0, dot({\"a\" => 2.0}, {\"a\" => 3.0}), 1e-6\n",
    "assert_in_delta 6.0, dot({\"a\" => 2.0}, {\"a\" => 3.0, \"b\" => 4.0}), 1e-6\n",
    "assert_equal 0.0, dot({}, {})\n",
    "assert_equal 0.0, dot({\"a\" => 1.0}, {\"b\" => 1.0})"
   ]
  },
  {
   "cell_type": "markdown",
   "metadata": {},
   "source": [
    "## Question 2.2 (1 Point)\n",
    "Implement the L2 norm for a vector, represented by a hash. Hint: use ```dot```."
   ]
  },
  {
   "cell_type": "code",
   "execution_count": 72,
   "metadata": {
    "deletable": false,
    "nbgrader": {
     "checksum": "87e05e64c2e89f801ccf85a4b394f421",
     "grade": false,
     "grade_id": "cell-4b9adf1cdcc42b60",
     "locked": false,
     "schema_version": 1,
     "solution": true
    }
   },
   "outputs": [
    {
     "data": {
      "text/plain": [
       ":norm"
      ]
     },
     "execution_count": 72,
     "metadata": {},
     "output_type": "execute_result"
    }
   ],
   "source": [
    "def norm w\n",
    "  # BEGIN YOUR CODE\n",
    "  return Math.sqrt(dot(w, w))\n",
    "  #END YOUR CODE\n",
    "end"
   ]
  },
  {
   "cell_type": "code",
   "execution_count": 27,
   "metadata": {
    "deletable": false,
    "editable": false,
    "nbgrader": {
     "checksum": "9c875d2607666516fcc6e381176393f8",
     "grade": true,
     "grade_id": "cell-6732c7d27e4f664a",
     "locked": true,
     "points": 1,
     "schema_version": 1,
     "solution": false
    }
   },
   "outputs": [],
   "source": [
    "### TEST ###\n",
    "assert_in_delta 2.0, norm({\"a\" => 1.41421, \"b\" => 1.41421}), 1e-2\n",
    "assert_in_delta 2.0, norm({\"a\" => -1.41421, \"b\" => 1.41421}), 1e-2\n",
    "assert_in_delta 0.0, norm({}), 1e-2"
   ]
  },
  {
   "cell_type": "markdown",
   "metadata": {},
   "source": [
    "## Question 2.3 (3 points)\n",
    "Implement a function that updates a weight vector, ```w```, given a gradient vector, ```dw```, and learning rate, ```lr```.  Do not change the original weight vector. Hint: use ```clone```."
   ]
  },
  {
   "cell_type": "code",
   "execution_count": 73,
   "metadata": {
    "deletable": false,
    "nbgrader": {
     "checksum": "a759dd69710e353e41a8435530c516cd",
     "grade": false,
     "grade_id": "cell-7353e3fd009c70fd",
     "locked": false,
     "schema_version": 1,
     "solution": true
    }
   },
   "outputs": [
    {
     "data": {
      "text/plain": [
       ":update_weights"
      ]
     },
     "execution_count": 73,
     "metadata": {},
     "output_type": "execute_result"
    }
   ],
   "source": [
    "def update_weights(w, dw, lr)\n",
    "  # BEGIN YOUR CODE\n",
    "  wTemp = w.clone\n",
    "  wTemp.each do |k, v|\n",
    "    wTemp[k] -= dw[k] * lr\n",
    "  end\n",
    "  #END YOUR CODE\n",
    "end"
   ]
  },
  {
   "cell_type": "code",
   "execution_count": 29,
   "metadata": {
    "deletable": false,
    "editable": false,
    "nbgrader": {
     "checksum": "35238b8fa6c3aab46d461bb48957817e",
     "grade": true,
     "grade_id": "cell-7890d2e9cc768dbc",
     "locked": true,
     "points": 3,
     "schema_version": 1,
     "solution": false
    }
   },
   "outputs": [],
   "source": [
    "### TEST ###\n",
    "assert_in_delta 1.5, update_weights({\"a\" => 1.0}, {\"a\" => -0.25}, 2.0)[\"a\"], 1e-2\n",
    "assert_in_delta 2.5, update_weights({\"a\" => 1.0, \"b\" => 3.0}, {\"a\" => -0.25, \"b\" => 0.25}, 2.0)[\"b\"], 1e-2"
   ]
  },
  {
   "cell_type": "markdown",
   "metadata": {},
   "source": [
    "## Question 2.4 (15 Points)\n",
    "\n",
    "Now, put all these functions together to implement gradient descent. "
   ]
  },
  {
   "cell_type": "code",
   "execution_count": 196,
   "metadata": {
    "deletable": false,
    "nbgrader": {
     "checksum": "85f39c054fa15db730ee9ef290ecab75",
     "grade": false,
     "grade_id": "cell-54768dfb34dacd23",
     "locked": false,
     "schema_version": 1,
     "solution": true
    }
   },
   "outputs": [
    {
     "data": {
      "text/plain": [
       ":gradient_descent"
      ]
     },
     "execution_count": 196,
     "metadata": {},
     "output_type": "execute_result"
    }
   ],
   "source": [
    "def gradient_descent dataset, w, obj, learning_rate, tol, max_iter, &block\n",
    "  # BEGIN YOUR CODE\n",
    "  iter = 1\n",
    "  last_loss = 0\n",
    "  current_loss = 0\n",
    "    until iter > max_iter or ((last_loss != 0 and current_loss != 0) and (last_loss - current_loss).abs < tol) do\n",
    "        last_loss = obj.func(dataset[\"data\"], w)      \n",
    "        w = update_weights(w, obj.grad(dataset[\"data\"], w), learning_rate)\n",
    "        obj.adjust(w)\n",
    "        current_loss = obj.func(dataset[\"data\"], w)\n",
    "        break unless yield w, iter, current_loss\n",
    "        iter += 1\n",
    "    end\n",
    "  #END YOUR CODE\n",
    "  return w\n",
    "end"
   ]
  },
  {
   "cell_type": "code",
   "execution_count": 197,
   "metadata": {
    "deletable": false,
    "editable": false,
    "nbgrader": {
     "checksum": "8835ef2ae23e4ee43747f8d5d9bfcd16",
     "grade": true,
     "grade_id": "cell-e54d5e8595d96ad4",
     "locked": true,
     "points": 5,
     "schema_version": 1,
     "solution": false
    }
   },
   "outputs": [],
   "source": [
    "### TESTS ###\n",
    "\n",
    "t4 = ParabolaObjective.new\n",
    "t4_w_init = {\"0\" => 3.0, \"1\" => 7.0}\n",
    "t4_w_goal = {\"0\" => 1.0, \"1\" => 2.0}\n",
    "t4_data = {\"data\" => []}\n",
    "\n",
    "t4_loss = 1.0\n",
    "t4_w = nil\n",
    "gradient_descent t4_data, t4_w_init, t4, 0.1, 0.001, 100 do |w, iter, loss|\n",
    "  t4_loss = loss\n",
    "  t4_w = w\n",
    "end\n",
    "\n",
    "assert_in_delta 0.01, t4_loss, 1e-2\n",
    "assert_in_delta 1.0, t4_w[\"0\"], 1e-1\n",
    "assert_in_delta 2.0, t4_w[\"1\"], 1e-1"
   ]
  },
  {
   "cell_type": "code",
   "execution_count": 198,
   "metadata": {
    "deletable": false,
    "editable": false,
    "nbgrader": {
     "checksum": "9cbd3b2dae8f138bbdf3cf952fa4189f",
     "grade": true,
     "grade_id": "cell-208aaf7c7bf7b770",
     "locked": true,
     "points": 10,
     "schema_version": 1,
     "solution": false
    }
   },
   "outputs": [],
   "source": [
    "### TEST ###\n",
    "t4 = ParabolaObjective.new\n",
    "t4_w_init = {\"0\" => 3.0, \"1\" => 7.0}\n",
    "t4_data = {\"data\" => []}\n",
    "\n",
    "t4_total_loss = 0.0\n",
    "t4_iterations = []\n",
    "t4_losses = []\n",
    "gradient_descent t4_data, t4_w_init, t4, 0.1, 0.001, 100 do |w, iter, loss|\n",
    "  t4_total_loss += loss\n",
    "  t4_iterations << iter\n",
    "  t4_losses << t4_total_loss / iter + 1.0\n",
    "end\n",
    "\n",
    "assert_true t4_iterations.size > 30\n",
    "assert_true t4_losses[-1] < 3\n",
    "assert_true t4_losses[-1] > 0\n",
    "assert_true t4_iterations[-1] > 30"
   ]
  },
  {
   "cell_type": "code",
   "execution_count": 199,
   "metadata": {},
   "outputs": [
    {
     "data": {
      "text/html": [
       "<div id='vis-cb8fff3c-5174-4757-b9f7-0a5c3b38e1ec'></div>\n",
       "<script>\n",
       "(function(){\n",
       "    var render = function(){\n",
       "        var model = {\"panes\":[{\"diagrams\":[{\"type\":\"line\",\"options\":{\"x\":\"x\",\"y\":\"y\"},\"data\":\"e50f169c-0238-4e4b-a0eb-4070d736ffe6\"}],\"options\":{\"x_label\":\"Iteration\",\"y_label\":\"Cumulative Loss\",\"zoom\":true,\"width\":700,\"xrange\":[1,39],\"yrange\":[2.584592728710167,12.745]}}],\"data\":{\"e50f169c-0238-4e4b-a0eb-4070d736ffe6\":[{\"x\":1,\"y\":12.745},{\"x\":2,\"y\":11.629224999999998},{\"x\":3,\"y\":10.654781499999999},{\"x\":4,\"y\":9.801529761249999},{\"x\":5,\"y\":9.052391285289998},{\"x\":6,\"y\":8.392864117570749},{\"x\":7,\"y\":7.810617087341976},{\"x\":8,\"y\":7.295149860653625},{\"x\":9,\"y\":6.83750789967061},{\"x\":10,\"y\":6.430043258859874},{\"x\":11,\"y\":6.06621367243318},{\"x\":12,\"y\":5.740413651781636},{\"x\":13,\"y\":5.4478323611782695},{\"x\":14,\"y\":5.184333911657656},{\"x\":15,\"y\":4.946356437213188},{\"x\":16,\"y\":4.730826919508765},{\"x\":17,\"y\":4.535089228049035},{\"x\":18,\"y\":4.356843259457511},{\"x\":19,\"y\":4.194093406467922},{\"x\":20,\"y\":4.045104876277065},{\"x\":21,\"y\":3.9083666188423076},{\"x\":22,\"y\":3.7825598266594387},{\"x\":23,\"y\":3.6665311352639653},{\"x\":24,\"y\":3.559269793748653},{\"x\":25,\"y\":3.4598881916189526},{\"x\":26,\"y\":3.3676052261647613},{\"x\":27,\"y\":3.2817320764085136},{\"x\":28,\"y\":3.201660018251936},{\"x\":29,\"y\":3.1268499728949624},{\"x\":30,\"y\":3.0568235287767553},{\"x\":31,\"y\":2.9911552177185534},{\"x\":32,\"y\":2.9294658599035275},{\"x\":33,\"y\":2.8714168208696798},{\"x\":34,\"y\":2.816705047701369},{\"x\":35,\"y\":2.765058771819877},{\"x\":36,\"y\":2.7162337828081533},{\"x\":37,\"y\":2.6700101920725876},{\"x\":38,\"y\":2.6261896172740906},{\"x\":39,\"y\":2.584592728710167}]},\"extension\":[]}\n",
       "        var id_name = '#vis-cb8fff3c-5174-4757-b9f7-0a5c3b38e1ec';\n",
       "        Nyaplot.core.parse(model, id_name);\n",
       "\n",
       "        require(['downloadable'], function(downloadable){\n",
       "          var svg = d3.select(id_name).select(\"svg\");\n",
       "\t  if(!svg.empty())\n",
       "\t    svg.call(downloadable().filename('fig'));\n",
       "\t});\n",
       "    };\n",
       "    if(window['Nyaplot']==undefined){\n",
       "        window.addEventListener('load_nyaplot', render, false);\n",
       "\treturn;\n",
       "    } else {\n",
       "       render();\n",
       "    }\n",
       "})();\n",
       "</script>\n"
      ],
      "text/plain": [
       "#<Nyaplot::Plot:0x000000000568e2c8 @properties={:diagrams=>[#<Nyaplot::Diagram:0x00000000056ace30 @properties={:type=>:line, :options=>{:x=>:x, :y=>:y}, :data=>\"e50f169c-0238-4e4b-a0eb-4070d736ffe6\"}, @xrange=[1, 39], @yrange=[2.584592728710167, 12.745]>], :options=>{:x_label=>\"Iteration\", :y_label=>\"Cumulative Loss\", :zoom=>true, :width=>700, :xrange=>[1, 39], :yrange=>[2.584592728710167, 12.745]}}>"
      ]
     },
     "execution_count": 199,
     "metadata": {},
     "output_type": "execute_result"
    }
   ],
   "source": [
    "### Plot the cumulative loss per iteration\n",
    "Daru::DataFrame.new({x: t4_iterations, y: t4_losses}).plot(type: :line, x: :x, y: :y) do |plot, diagram|\n",
    "  plot.x_label \"Iteration\"\n",
    "  plot.y_label \"Cumulative Loss\"\n",
    "end"
   ]
  },
  {
   "cell_type": "markdown",
   "metadata": {},
   "source": [
    "## Question 3.1 (5 Points)\n",
    "\n",
    "Let's learn the parameter of a Bernoulli distribution using the method of maximum likelihood. Consider the following dataset in which we are tossing a biased coin with probability $\\mu$ of returning a success (1). There is an analytical solution for the parameter $\\mu$ given a dataset of successes and trials. Compute this analytical solution. \n",
    "\n",
    "Here the ```label``` field is either 0 or 1. "
   ]
  },
  {
   "cell_type": "code",
   "execution_count": 200,
   "metadata": {
    "deletable": false,
    "nbgrader": {
     "checksum": "908d76a78e7e78ba9a7ab1f3beed242e",
     "grade": false,
     "grade_id": "cell-5fa56022cb1d93b4",
     "locked": false,
     "schema_version": 1,
     "solution": true
    }
   },
   "outputs": [
    {
     "data": {
      "text/plain": [
       ":q31_binomial_parameter"
      ]
     },
     "execution_count": 200,
     "metadata": {},
     "output_type": "execute_result"
    }
   ],
   "source": [
    "coin_data = coin_dataset(1000)\n",
    "\n",
    "def q31_binomial_parameter(coin_data)\n",
    "  # BEGIN YOUR CODE\n",
    "  success_1_num = 0.0\n",
    "  for data in coin_data[\"data\"]\n",
    "    if data[\"label\"] == 1.0\n",
    "      success_1_num += 1\n",
    "    end\n",
    "  end\n",
    "  \n",
    "  return success_1_num / coin_data[\"data\"].length\n",
    "    \n",
    "  #END YOUR CODE\n",
    "end"
   ]
  },
  {
   "cell_type": "code",
   "execution_count": 201,
   "metadata": {
    "deletable": false,
    "editable": false,
    "nbgrader": {
     "checksum": "0c9b7b7e94293f333e7c9ac657d48493",
     "grade": true,
     "grade_id": "cell-00e4a8fc6cd8141e",
     "locked": true,
     "points": 5,
     "schema_version": 1,
     "solution": false
    }
   },
   "outputs": [],
   "source": [
    "### TESTS ###\n",
    "\n",
    "t31_coin_data = coin_dataset(10000)\n",
    "assert_in_delta 0.77, q31_binomial_parameter(t31_coin_data), 5e-2"
   ]
  },
  {
   "cell_type": "markdown",
   "metadata": {},
   "source": [
    "## Question 3.2 (5 Points)\n",
    "\n",
    "Now, let's use the maximum likelihood function and gradient descent to find the same parameter value. Define the objective function for a binomial distribution for multiple samples. Remember that the ```label``` is the target value and every example has only one feature, ```bias```. Learn the weight for the ```bias``` feature should converge to $w_{bias} = \\mu$.\n",
    "\n",
    "In this first step, calculate the log likelihood function for the binomial distribution of $n$ examples."
   ]
  },
  {
   "cell_type": "code",
   "execution_count": 202,
   "metadata": {
    "deletable": false,
    "nbgrader": {
     "checksum": "0af7a42c617bf3ab3f6fb733a292f615",
     "grade": false,
     "grade_id": "cell-92354ef065795ab6",
     "locked": false,
     "schema_version": 1,
     "solution": true
    }
   },
   "outputs": [
    {
     "data": {
      "text/plain": [
       ":func"
      ]
     },
     "execution_count": 202,
     "metadata": {},
     "output_type": "execute_result"
    }
   ],
   "source": [
    "class BinomialModel\n",
    "  def func dataset, w\n",
    "    # BEGIN YOUR CODE\n",
    "    n = dataset.length\n",
    "    y = 0\n",
    "    for data in dataset\n",
    "      if data[\"label\"] == 1.0\n",
    "        y += 1\n",
    "      end\n",
    "    end\n",
    "    \n",
    "    p = w[\"bias\"]\n",
    "    \n",
    "    return -(y * Math.log(p) + (n - y) * Math.log(1 - p))\n",
    "    #END YOUR CODE\n",
    "  end\n",
    "end"
   ]
  },
  {
   "cell_type": "code",
   "execution_count": 203,
   "metadata": {
    "deletable": false,
    "editable": false,
    "nbgrader": {
     "checksum": "16e7fc8ff420037c1f90f69378c939be",
     "grade": true,
     "grade_id": "cell-68cf9b7f4c38b214",
     "locked": true,
     "points": 5,
     "schema_version": 1,
     "solution": false
    }
   },
   "outputs": [],
   "source": [
    "### TEST ###\n",
    "t32_model = BinomialModel.new\n",
    "t32_t1 = {\"features\" => {\"bias\" => 1.0}, \"label\" => 0.0}\n",
    "t32_t2 = {\"features\" => {\"bias\" => 1.0}, \"label\" => 1.0}\n",
    "\n",
    "assert_in_delta 1.469677, t32_model.func([t32_t1], {\"bias\" => 0.77}), 1e-3\n",
    "assert_in_delta 0.261365, t32_model.func([t32_t2], {\"bias\" => 0.77}), 1e-3\n",
    "assert_in_delta 1.731041, t32_model.func([t32_t1, t32_t2], {\"bias\" => 0.77}), 1e-3\n"
   ]
  },
  {
   "cell_type": "markdown",
   "metadata": {},
   "source": [
    "## Question 3.3 (5 Points)\n",
    "\n",
    "Calculate the gradient of the binomial log likelihood function over $n$ examples."
   ]
  },
  {
   "cell_type": "code",
   "execution_count": 204,
   "metadata": {
    "deletable": false,
    "nbgrader": {
     "checksum": "8fc64cd48d7369e5c88e1262ef0ea11e",
     "grade": false,
     "grade_id": "cell-af9a1550d76082ae",
     "locked": false,
     "schema_version": 1,
     "solution": true
    }
   },
   "outputs": [
    {
     "data": {
      "text/plain": [
       ":adjust"
      ]
     },
     "execution_count": 204,
     "metadata": {},
     "output_type": "execute_result"
    }
   ],
   "source": [
    "class BinomialModel\n",
    "  def grad dataset, w\n",
    "    # BEGIN YOUR CODE\n",
    "    n = dataset.length\n",
    "    y = 0\n",
    "    for data in dataset\n",
    "      if data[\"label\"] == 1.0\n",
    "        y += 1\n",
    "      end\n",
    "    end\n",
    "    \n",
    "    p = w[\"bias\"]\n",
    "    \n",
    "    g = {\"bias\" => -((y - n) / (1 - p) + (y / p))}\n",
    "    \n",
    "    #END YOUR CODE\n",
    "    return g\n",
    "  end\n",
    "  \n",
    "  ## Adjusts the parameter to be within the allowable range\n",
    "  def adjust w\n",
    "    w[\"bias\"] = [[0.001, w[\"bias\"]].max, 0.999].min\n",
    "  end\n",
    "end"
   ]
  },
  {
   "cell_type": "code",
   "execution_count": 205,
   "metadata": {
    "deletable": false,
    "editable": false,
    "nbgrader": {
     "checksum": "0929e3bf098fe4ae116a9e170a78e80f",
     "grade": true,
     "grade_id": "cell-d87514aa1ef00351",
     "locked": true,
     "points": 5,
     "schema_version": 1,
     "solution": false
    }
   },
   "outputs": [],
   "source": [
    "### TEST ###\n",
    "t32_model = BinomialModel.new\n",
    "t32_t1 = {\"features\" => {\"bias\" => 1.0}, \"label\" => 0.0}\n",
    "t32_t2 = {\"features\" => {\"bias\" => 1.0}, \"label\" => 1.0}\n",
    "\n",
    "assert_in_delta 4.347826, t32_model.grad([t32_t1], {\"bias\" => 0.77})[\"bias\"], 1e-3\n",
    "assert_in_delta -1.29870, t32_model.grad([t32_t2], {\"bias\" => 0.77})[\"bias\"], 1e-3\n",
    "assert_in_delta 3.049124, t32_model.grad([t32_t1, t32_t2], {\"bias\" => 0.77})[\"bias\"], 1e-3"
   ]
  },
  {
   "cell_type": "markdown",
   "metadata": {},
   "source": [
    "## Question 3.4 (5 Points)\n",
    "\n",
    "Putting the objective function to work, use gradient descent to find the parameter for the binomial distribution. You get to set the learning rate. Return the learning rate you have obtained which works well. You may have to try a few until you get it right.\n",
    "\n",
    "Note that, while capable of returning the same value, this method reads the data many more times than the analytical solution."
   ]
  },
  {
   "cell_type": "code",
   "execution_count": 206,
   "metadata": {
    "deletable": false,
    "nbgrader": {
     "checksum": "9afa2f41321b339e15c344f2cc4070e5",
     "grade": false,
     "grade_id": "cell-ca57b6ffd6468fe0",
     "locked": false,
     "schema_version": 1,
     "solution": true
    }
   },
   "outputs": [
    {
     "data": {
      "text/plain": [
       ":q34_learning_rate"
      ]
     },
     "execution_count": 206,
     "metadata": {},
     "output_type": "execute_result"
    }
   ],
   "source": [
    "def q34_learning_rate\n",
    "  # BEGIN YOUR CODE\n",
    "  return 0.000001\n",
    "  #END YOUR CODE\n",
    "end"
   ]
  },
  {
   "cell_type": "code",
   "execution_count": 207,
   "metadata": {
    "deletable": false,
    "editable": false,
    "nbgrader": {
     "checksum": "813f8a3b8fd578724330c8b2bc5908ab",
     "grade": true,
     "grade_id": "cell-03c7000ad0157d31",
     "locked": true,
     "points": 5,
     "schema_version": 1,
     "solution": false
    }
   },
   "outputs": [
    {
     "name": "stdout",
     "output_type": "stream",
     "text": [
      "1\t{\"bias\"=>0.4106108560618449}\t\n",
      "11\t{\"bias\"=>0.5328603250251825}\t7303.663246768783\n",
      "21\t{\"bias\"=>0.6148287903222017}\t6778.741257651379\n",
      "31\t{\"bias\"=>0.6715977824217191}\t6440.360821536467\n",
      "41\t{\"bias\"=>0.7101066431625939}\t6213.021189279428\n",
      "51\t{\"bias\"=>0.7351773429211965}\t6055.826404270562\n",
      "61\t{\"bias\"=>0.7507858925569357}\t5943.92490688808\n",
      "71\t{\"bias\"=>0.7601381433779989}\t5861.701442101888\n",
      "81\t{\"bias\"=>0.76558617196908}\t5799.3283609242735\n",
      "91\t{\"bias\"=>0.7687012968018837}\t5750.606122480024\n"
     ]
    },
    {
     "data": {
      "text/html": [
       "<div id='vis-bc4c1949-3f11-445c-9bf5-661b4dd55081'></div>\n",
       "<script>\n",
       "(function(){\n",
       "    var render = function(){\n",
       "        var model = {\"panes\":[{\"diagrams\":[{\"type\":\"line\",\"options\":{\"x\":\"x\",\"y\":\"y\"},\"data\":\"025982e3-cca1-4785-89c2-f6293321036e\"}],\"options\":{\"x_label\":\"Iteration\",\"y_label\":\"Cumulative Loss\",\"zoom\":true,\"width\":700,\"xrange\":[1,100],\"yrange\":[5711.567118166888,8079.538624118768]}}],\"data\":{\"025982e3-cca1-4785-89c2-f6293321036e\":[{\"x\":1,\"y\":8079.538624118768},{\"x\":2,\"y\":7970.488026503901},{\"x\":3,\"y\":7868.565072580958},{\"x\":4,\"y\":7773.01384411341},{\"x\":5,\"y\":7683.198910290159},{\"x\":6,\"y\":7598.580149484048},{\"x\":7,\"y\":7518.693938203288},{\"x\":8,\"y\":7443.138842051974},{\"x\":9,\"y\":7371.564557728977},{\"x\":10,\"y\":7303.663246768783},{\"x\":11,\"y\":7239.162658187072},{\"x\":12,\"y\":7177.820609095161},{\"x\":13,\"y\":7119.420510001523},{\"x\":14,\"y\":7063.767703567764},{\"x\":15,\"y\":7010.686443781705},{\"x\":16,\"y\":6960.017384425362},{\"x\":17,\"y\":6911.615476330314},{\"x\":18,\"y\":6865.348195562198},{\"x\":19,\"y\":6821.094041630679},{\"x\":20,\"y\":6778.741257651379},{\"x\":21,\"y\":6738.186734193074},{\"x\":22,\"y\":6699.3350661094155},{\"x\":23,\"y\":6662.097737542097},{\"x\":24,\"y\":6626.392414901165},{\"x\":25,\"y\":6592.1423312788},{\"x\":26,\"y\":6559.275748658759},{\"x\":27,\"y\":6527.725486612097},{\"x\":28,\"y\":6497.428508047297},{\"x\":29,\"y\":6468.325554105818},{\"x\":30,\"y\":6440.360821536467},{\"x\":31,\"y\":6413.481676901147},{\"x\":32,\"y\":6387.63840280495},{\"x\":33,\"y\":6362.783972040355},{\"x\":34,\"y\":6338.8738461159755},{\"x\":35,\"y\":6315.865795126674},{\"x\":36,\"y\":6293.7197363314945},{\"x\":37,\"y\":6272.397589152592},{\"x\":38,\"y\":6251.86314460337},{\"x\":39,\"y\":6232.081947406478},{\"x\":40,\"y\":6213.021189279428},{\"x\":41,\"y\":6194.649612053196},{\"x\":42,\"y\":6176.937419452301},{\"x\":43,\"y\":6159.856196507105},{\"x\":44,\"y\":6143.378835693908},{\"x\":45,\"y\":6127.4794690081735},{\"x\":46,\"y\":6112.133405273237},{\"x\":47,\"y\":6097.317072072635},{\"x\":48,\"y\":6083.00796177034},{\"x\":49,\"y\":6069.184581150786},{\"x\":50,\"y\":6055.826404270562},{\"x\":51,\"y\":6042.913828166975},{\"x\":52,\"y\":6030.428131115843},{\"x\":53,\"y\":6018.351433172755},{\"x\":54,\"y\":6006.666658768737},{\"x\":55,\"y\":5995.357501163768},{\"x\":56,\"y\":5984.408388589824},{\"x\":57,\"y\":5973.804451939808},{\"x\":58,\"y\":5963.531493880058},{\"x\":59,\"y\":5953.575959282494},{\"x\":60,\"y\":5943.92490688808},{\"x\":61,\"y\":5934.56598212661},{\"x\":62,\"y\":5925.487391028907},{\"x\":63,\"y\":5916.67787517686},{\"x\":64,\"y\":5908.126687644288},{\"x\":65,\"y\":5899.8235698878925},{\"x\":66,\"y\":5891.75872955248},{\"x\":67,\"y\":5883.922819158622},{\"x\":68,\"y\":5876.306915643972},{\"x\":69,\"y\":5868.902500731779},{\"x\":70,\"y\":5861.701442101888},{\"x\":71,\"y\":5854.695975340801},{\"x\":72,\"y\":5847.878686648185},{\"x\":73,\"y\":5841.242496277873},{\"x\":74,\"y\":5834.780642691728},{\"x\":75,\"y\":5828.486667404961},{\"x\":76,\"y\":5822.3544005016165},{\"x\":77,\"y\":5816.377946798967},{\"x\":78,\"y\":5810.551672639599},{\"x\":79,\"y\":5804.87019328997},{\"x\":80,\"y\":5799.3283609242735},{\"x\":81,\"y\":5793.921253172504},{\"x\":82,\"y\":5788.644162211734},{\"x\":83,\"y\":5783.492584379765},{\"x\":84,\"y\":5778.46221029055},{\"x\":85,\"y\":5773.54891543103},{\"x\":86,\"y\":5768.748751219346},{\"x\":87,\"y\":5764.057936504759},{\"x\":88,\"y\":5759.472849490027},{\"x\":89,\"y\":5754.9900200574175},{\"x\":90,\"y\":5750.606122480024},{\"x\":91,\"y\":5746.317968500599},{\"x\":92,\"y\":5742.1225007605935},{\"x\":93,\"y\":5738.016786562722},{\"x\":94,\"y\":5733.9980119508855},{\"x\":95,\"y\":5730.063476091899},{\"x\":96,\"y\":5726.210585944067},{\"x\":97,\"y\":5722.436851198196},{\"x\":98,\"y\":5718.739879477282},{\"x\":99,\"y\":5715.1173717816455},{\"x\":100,\"y\":5711.567118166888}]},\"extension\":[]}\n",
       "        var id_name = '#vis-bc4c1949-3f11-445c-9bf5-661b4dd55081';\n",
       "        Nyaplot.core.parse(model, id_name);\n",
       "\n",
       "        require(['downloadable'], function(downloadable){\n",
       "          var svg = d3.select(id_name).select(\"svg\");\n",
       "\t  if(!svg.empty())\n",
       "\t    svg.call(downloadable().filename('fig'));\n",
       "\t});\n",
       "    };\n",
       "    if(window['Nyaplot']==undefined){\n",
       "        window.addEventListener('load_nyaplot', render, false);\n",
       "\treturn;\n",
       "    } else {\n",
       "       render();\n",
       "    }\n",
       "})();\n",
       "</script>\n"
      ],
      "text/plain": [
       "#<Nyaplot::Plot:0x0000000005bf0900 @properties={:diagrams=>[#<Nyaplot::Diagram:0x0000000005b84b10 @properties={:type=>:line, :options=>{:x=>:x, :y=>:y}, :data=>\"025982e3-cca1-4785-89c2-f6293321036e\"}, @xrange=[1, 100], @yrange=[5711.567118166888, 8079.538624118768]>], :options=>{:x_label=>\"Iteration\", :y_label=>\"Cumulative Loss\", :zoom=>true, :width=>700, :xrange=>[1, 100], :yrange=>[5711.567118166888, 8079.538624118768]}}>"
      ]
     },
     "execution_count": 207,
     "metadata": {},
     "output_type": "execute_result"
    }
   ],
   "source": [
    "### TEST ###\n",
    "t34 = BinomialModel.new\n",
    "t34_w_init = {\"bias\" => rand}\n",
    "t34_data = coin_dataset(10000)\n",
    "\n",
    "t34_learning_rate = q34_learning_rate()\n",
    "\n",
    "t34_total_loss = 0.0\n",
    "t34_iterations = []\n",
    "t34_losses = []\n",
    "t34_w = t34_w_init\n",
    "gradient_descent t34_data, t34_w_init, t34, t34_learning_rate, 0.001, 100 do |w, iter, loss|\n",
    "  puts [iter, w, t34_losses[-1]].join(\"\\t\") if iter % 10 == 1\n",
    "  t34_total_loss += loss\n",
    "  t34_iterations << iter\n",
    "  t34_losses << t34_total_loss / iter.to_f\n",
    "  t34_w = w\n",
    "end\n",
    "\n",
    "\n",
    "assert_true(t34_losses[-1] < 8000)\n",
    "assert_true(t34_losses[-1] > 0)\n",
    "assert_true(t34_iterations[-1] > 30)\n",
    "assert_in_delta 0.77, t34_w[\"bias\"], 5e-2\n",
    "\n",
    "### Plot the cumulative loss per iteration\n",
    "Daru::DataFrame.new({x: t34_iterations, y: t34_losses}).plot(type: :line, x: :x, y: :y) do |plot, diagram|\n",
    "  plot.x_label \"Iteration\"\n",
    "  plot.y_label \"Cumulative Loss\"\n",
    "end"
   ]
  },
  {
   "cell_type": "markdown",
   "metadata": {},
   "source": [
    "## Question 4.1 (10 Points)\n",
    "\n",
    "The maximum likelihood method above reads the data multiple times and can benefit from prior knowledge in the form of a prior distribution for the parameter, $\\mu$. Using the Beta distribution as the conjugate prior, implement the likelihood function and its gradient. Now we are learning three parameters altogether: $w_{bias} = \\mu$, $\\alpha$, $\\beta$.\n",
    "\n",
    "First, let's compute the closed form estimator for $\\mu$ with a fixed $\\alpha$ and $\\beta$."
   ]
  },
  {
   "cell_type": "code",
   "execution_count": 58,
   "metadata": {
    "deletable": false,
    "nbgrader": {
     "checksum": "7fe610db1d60504b6baacd8c486dcfde",
     "grade": false,
     "grade_id": "cell-97d4bb1bc5d5a0f3",
     "locked": false,
     "schema_version": 1,
     "solution": true
    }
   },
   "outputs": [
    {
     "data": {
      "text/plain": [
       ":q41_closed_form_beta_binomial"
      ]
     },
     "execution_count": 58,
     "metadata": {},
     "output_type": "execute_result"
    }
   ],
   "source": [
    "def q41_closed_form_beta_binomial(coin_data, alpha, beta)\n",
    "  # BEGIN YOUR CODE\n",
    "  success_1_num = 0.0\n",
    "  for data in coin_data[\"data\"]\n",
    "    if data[\"label\"] == 1.0\n",
    "      success_1_num += 1\n",
    "    end\n",
    "  end\n",
    "  \n",
    "  return (success_1_num + alpha) / (coin_data[\"data\"].length + alpha + beta)\n",
    "  #END YOUR CODE\n",
    "end"
   ]
  },
  {
   "cell_type": "code",
   "execution_count": 59,
   "metadata": {
    "deletable": false,
    "editable": false,
    "nbgrader": {
     "checksum": "dbb93934dc0576a9fa0bfa44d94563a1",
     "grade": true,
     "grade_id": "cell-e089341132a19f54",
     "locked": true,
     "points": 10,
     "schema_version": 1,
     "solution": false
    }
   },
   "outputs": [],
   "source": [
    "### TEST ###\n",
    "t41_coin_data = coin_dataset(10000)\n",
    "assert_in_delta 0.77, q41_closed_form_beta_binomial(t41_coin_data, 7743, 10000 - 7743), 1e-2"
   ]
  },
  {
   "cell_type": "markdown",
   "metadata": {},
   "source": [
    "## Question 4.2 (10 points)\n",
    "\n",
    "Implement the negative log likelihood function for the beta + binomial values. Checkout this [Wikipedia](https://en.wikipedia.org/wiki/Beta_distribution#Maximum_likelihood) definition of the likelihood function. Remember we are interested in he negative log likelihood.\n",
    "\n",
    "A special function is needed ```GSL::Sf::lnbeta(a, b)```."
   ]
  },
  {
   "cell_type": "code",
   "execution_count": 219,
   "metadata": {
    "deletable": false,
    "nbgrader": {
     "checksum": "ae3b18deff351186867bca1e042c1992",
     "grade": false,
     "grade_id": "cell-0c423e99f1c034e0",
     "locked": false,
     "schema_version": 1,
     "solution": true
    }
   },
   "outputs": [
    {
     "data": {
      "text/plain": [
       ":adjust"
      ]
     },
     "execution_count": 219,
     "metadata": {},
     "output_type": "execute_result"
    }
   ],
   "source": [
    "class BetaBinomialModel\n",
    "  def func dataset, w\n",
    "    # BEGIN YOUR CODE   \n",
    "    a = w[\"alpha\"]\n",
    "    #puts \"a = #{a}\"\n",
    "    b = w[\"beta\"]\n",
    "    #puts \"b = #{b}\"\n",
    "    \n",
    "    #u = a / (a + b)\n",
    "    \n",
    "    likelihood = 0.0\n",
    "    #puts \"y = #{y} n = #{n}\"\n",
    "    \n",
    "    #c = Math.gamma(a + b) / (Math.gamma(a) * Math.gamma(b))\n",
    "    #puts \"c = #{c}\"\n",
    "    \n",
    "    #p = c * (u ** (a - 1)) * ((1 - u) ** (b - 1))\n",
    "    #puts \"p = #{p}\"\n",
    "    \n",
    "    dataset.each do |data|\n",
    "      #puts \"probability density for Xi is #{c * (u ** (a - 1)) * ((1 - u) ** (b - 1))}\"\n",
    "      likelihood -= (data[\"label\"] + a - 1) * Math.log(w[\"bias\"]) + \n",
    "      (b - data[\"label\"]) * Math.log(1 - w[\"bias\"]) - \n",
    "      GSL::Sf::lnbeta(a, b)\n",
    "      \n",
    "      \n",
    "    end\n",
    "  \n",
    "    return likelihood\n",
    "    #END YOUR CODE\n",
    "  end\n",
    "  def adjust w\n",
    "    w[\"bias\"] = [[0.001, w[\"bias\"]].max, 0.999].min\n",
    "    w[\"beta\"] = [0.0001, w[\"beta\"]].max\n",
    "  end\n",
    "end"
   ]
  },
  {
   "cell_type": "code",
   "execution_count": 220,
   "metadata": {},
   "outputs": [
    {
     "data": {
      "text/plain": [
       "{\"classes\"=>{}, \"features\"=>[\"x\"], \"data\"=>[{\"features\"=>{\"bias\"=>1.0}, \"label\"=>1.0}, {\"features\"=>{\"bias\"=>1.0}, \"label\"=>1.0}, {\"features\"=>{\"bias\"=>1.0}, \"label\"=>1.0}, {\"features\"=>{\"bias\"=>1.0}, \"label\"=>1.0}, {\"features\"=>{\"bias\"=>1.0}, \"label\"=>1.0}, {\"features\"=>{\"bias\"=>1.0}, \"label\"=>1.0}, {\"features\"=>{\"bias\"=>1.0}, \"label\"=>0.0}, {\"features\"=>{\"bias\"=>1.0}, \"label\"=>1.0}, {\"features\"=>{\"bias\"=>1.0}, \"label\"=>1.0}, {\"features\"=>{\"bias\"=>1.0}, \"label\"=>1.0}]}"
      ]
     },
     "execution_count": 220,
     "metadata": {},
     "output_type": "execute_result"
    }
   ],
   "source": [
    "coin_data = coin_dataset(10)\n",
    "coin_data"
   ]
  },
  {
   "cell_type": "code",
   "execution_count": 221,
   "metadata": {
    "deletable": false,
    "editable": false,
    "nbgrader": {
     "checksum": "18a9751dfa872fc62f990d54afd87b64",
     "grade": true,
     "grade_id": "cell-c3da75938a85ae1b",
     "locked": true,
     "points": 10,
     "schema_version": 1,
     "solution": false
    }
   },
   "outputs": [],
   "source": [
    "### TESTS ###\n",
    "\n",
    "t42 = BetaBinomialModel.new\n",
    "srand 777 #seed random number generator\n",
    "t42_data = coin_dataset(1000)[\"data\"]\n",
    "t42_w = Hash.new {|h,k| h[k] = 0.1}\n",
    "t42_w[\"alpha\"] = 7.0\n",
    "t42_w[\"beta\"] = 3.0\n",
    "\n",
    "assert_in_delta 10373.126026759332, t42.func(t42_data, t42_w), 1e-2"
   ]
  },
  {
   "cell_type": "markdown",
   "metadata": {},
   "source": [
    "## Question 4.3 (10 points)\n",
    "\n",
    "Implement the negative log likelihood gradient for all the parameters. Checkout this [Wikipedia](https://en.wikipedia.org/wiki/Beta_distribution#Maximum_likelihood) definition of the likelihood function. Remember we are interested in he negative log likelihood.\n",
    "\n",
    "A special function is needed ```GSL::Sf::psi(a + b)```."
   ]
  },
  {
   "cell_type": "code",
   "execution_count": 225,
   "metadata": {
    "deletable": false,
    "nbgrader": {
     "checksum": "17bd13df38d687cdb957a67a4a762db0",
     "grade": false,
     "grade_id": "cell-9d4f8012ea73cfa8",
     "locked": false,
     "schema_version": 1,
     "solution": true
    }
   },
   "outputs": [
    {
     "data": {
      "text/plain": [
       ":grad"
      ]
     },
     "execution_count": 225,
     "metadata": {},
     "output_type": "execute_result"
    }
   ],
   "source": [
    "class BetaBinomialModel\n",
    "  def grad dataset, w\n",
    "    # BEGIN YOUR CODE\n",
    "    dw = Hash.new {|h, k| h[k] = 0.0}\n",
    "    dataset.each do |data|\n",
    "      dw[\"alpha\"] -= Math.log(w[\"bias\"]) + GSL::Sf::psi(w[\"alpha\"] + w[\"beta\"]) - GSL::Sf::psi(w[\"alpha\"])\n",
    "      dw[\"beta\"] -= Math.log(1 - w[\"bias\"]) + GSL::Sf::psi(w[\"alpha\"] + w[\"beta\"]) - GSL::Sf::psi(w[\"beta\"])\n",
    "      dw[\"bias\"] -= ((data[\"label\"] + w[\"alpha\"] - 1) / w[\"bias\"]) - ((1 - data[\"label\"] + w[\"beta\"] - 1) / (1 - w[\"bias\"]))\n",
    "    end\n",
    "    return dw\n",
    "    #END YOUR CODE\n",
    "  end\n",
    "end"
   ]
  },
  {
   "cell_type": "code",
   "execution_count": 226,
   "metadata": {
    "deletable": false,
    "editable": false,
    "nbgrader": {
     "checksum": "7d0cedb739f3c1aeb50cc2c127d2be97",
     "grade": true,
     "grade_id": "cell-2752de436c18d1fd",
     "locked": true,
     "points": 10,
     "schema_version": 1,
     "solution": false
    }
   },
   "outputs": [],
   "source": [
    "### TESTS ###\n",
    "\n",
    "t43 = BetaBinomialModel.new\n",
    "srand 777 #seed random number generator\n",
    "t43_data = coin_dataset(1000)[\"data\"]\n",
    "t43_w = Hash.new {|h,k| h[k] = 0.1}\n",
    "t43_w[\"alpha\"] = 7.0\n",
    "t43_w[\"beta\"] = 3.0\n",
    "\n",
    "t43_grad = t43.grad(t43_data, t43_w)\n",
    "\n",
    "assert_in_delta -65622.22222222318, t43_grad[\"bias\"], 1e2\n",
    "assert_in_delta 1923.6168390257724, t43_grad[\"alpha\"], 1e2\n",
    "assert_in_delta -1223.6077383104214, t43_grad[\"beta\"], 1e2\n"
   ]
  },
  {
   "cell_type": "markdown",
   "metadata": {},
   "source": [
    "## Question 4.4 (20 points)\n",
    "\n",
    "Run the gradient descent by selecting the initial weights and learning rate. Try a few values. "
   ]
  },
  {
   "cell_type": "code",
   "execution_count": 243,
   "metadata": {
    "deletable": false,
    "nbgrader": {
     "checksum": "706ade57f59434796197e6bd977d6a95",
     "grade": false,
     "grade_id": "cell-963091d78ac84fe4",
     "locked": false,
     "schema_version": 1,
     "solution": true
    }
   },
   "outputs": [
    {
     "data": {
      "text/plain": [
       ":q44_weights_and_learning_rate"
      ]
     },
     "execution_count": 243,
     "metadata": {},
     "output_type": "execute_result"
    }
   ],
   "source": [
    "def q44_weights_and_learning_rate\n",
    "  # BEGIN YOUR CODE\n",
    "  w = {\"bias\" => 0.2, \"alpha\" => 7.0, \"beta\" => 3.0}\n",
    "  lr = 0.0000001\n",
    "  #END YOUR CODE\n",
    "  return [w, lr]\n",
    "end"
   ]
  },
  {
   "cell_type": "code",
   "execution_count": 244,
   "metadata": {
    "deletable": false,
    "editable": false,
    "nbgrader": {
     "checksum": "7085a0939980966c854c41e24579a11a",
     "grade": true,
     "grade_id": "cell-2bf436344900b4d6",
     "locked": true,
     "points": 20,
     "schema_version": 1,
     "solution": false
    }
   },
   "outputs": [
    {
     "name": "stdout",
     "output_type": "stream",
     "text": [
      "1\t{\"bias\"=>0.231104375, \"alpha\"=>6.9987695303415345, \"beta\"=>3.001105824702654}\t\n",
      "11\t{\"bias\"=>0.4129196023057201, \"alpha\"=>6.991165287978594, \"beta\"=>3.010422537541158}\t30676.066675981005\n",
      "21\t{\"bias\"=>0.5176822672716698, \"alpha\"=>6.987264579305973, \"beta\"=>3.0174168634000766}\t20688.512953841346\n",
      "31\t{\"bias\"=>0.5900919825407731, \"alpha\"=>6.985138060460608, \"beta\"=>3.022587068671254}\t14707.467820854241\n",
      "41\t{\"bias\"=>0.6417073742005253, \"alpha\"=>6.9840925564446925, \"beta\"=>3.0262439700505666}\t10734.41232572496\n",
      "51\t{\"bias\"=>0.6781851020218619, \"alpha\"=>6.983750269443461, \"beta\"=>3.0286684038700797}\t7952.630708986618\n",
      "61\t{\"bias\"=>0.7033490981986906, \"alpha\"=>6.983871998342881, \"beta\"=>3.0301318944404634}\t5935.479353144639\n",
      "71\t{\"bias\"=>0.7202227891005178, \"alpha\"=>6.984297713530015, \"beta\"=>3.0308844050664927}\t4429.799702736108\n",
      "81\t{\"bias\"=>0.7312482357599316, \"alpha\"=>6.984919583938663, \"beta\"=>3.031136984464438}\t3275.5362188670256\n",
      "91\t{\"bias\"=>0.7383091862886224, \"alpha\"=>6.98566602555956, \"beta\"=>3.0310528636573544}\t2368.4070815123737\n"
     ]
    },
    {
     "data": {
      "text/html": [
       "<div id='vis-36a232b4-3eea-403a-8d89-2780562f8705'></div>\n",
       "<script>\n",
       "(function(){\n",
       "    var render = function(){\n",
       "        var model = {\"panes\":[{\"diagrams\":[{\"type\":\"line\",\"options\":{\"x\":\"x\",\"y\":\"y\"},\"data\":\"6771aae2-8c64-4e19-9859-c82c19de9a17\"}],\"options\":{\"x_label\":\"Iteration\",\"y_label\":\"Cumulative Loss\",\"zoom\":true,\"width\":700,\"xrange\":[1,100],\"yrange\":[1639.236096762496,49794.31238657003]}}],\"data\":{\"6771aae2-8c64-4e19-9859-c82c19de9a17\":[{\"x\":1,\"y\":49794.31238657003},{\"x\":2,\"y\":46504.788147294326},{\"x\":3,\"y\":43682.07852792091},{\"x\":4,\"y\":41209.23257541053},{\"x\":5,\"y\":39009.83774962654},{\"x\":6,\"y\":37030.86025033707},{\"x\":7,\"y\":35233.809416262506},{\"x\":8,\"y\":33589.767368987676},{\"x\":9,\"y\":32076.400538267375},{\"x\":10,\"y\":30676.066675981005},{\"x\":11,\"y\":29374.56431415365},{\"x\":12,\"y\":28160.277485892835},{\"x\":13,\"y\":27023.573485368703},{\"x\":14,\"y\":25956.368135590525},{\"x\":15,\"y\":24951.805167078182},{\"x\":16,\"y\":24004.015285127756},{\"x\":17,\"y\":23107.932108599456},{\"x\":18,\"y\":22259.14948181774},{\"x\":19,\"y\":21453.80940244355},{\"x\":20,\"y\":20688.512953841346},{\"x\":21,\"y\":19960.248762410436},{\"x\":22,\"y\":19266.33497316255},{\"x\":23,\"y\":18604.371772033795},{\"x\":24,\"y\":17972.202222557742},{\"x\":25,\"y\":17367.87971989378},{\"x\":26,\"y\":16789.64075810069},{\"x\":27,\"y\":16235.88199839238},{\"x\":28,\"y\":15705.140845328433},{\"x\":29,\"y\":15196.078904262724},{\"x\":30,\"y\":14707.467820854241},{\"x\":31,\"y\":14238.177102002415},{\"x\":32,\"y\":13787.163594404716},{\"x\":33,\"y\":13353.46235730404},{\"x\":34,\"y\":12936.178713774581},{\"x\":35,\"y\":12534.481302973512},{\"x\":36,\"y\":12147.595986329792},{\"x\":37,\"y\":11774.800485291744},{\"x\":38,\"y\":11415.41964826489},{\"x\":39,\"y\":11068.821260704164},{\"x\":40,\"y\":10734.41232572496},{\"x\":41,\"y\":10411.635753648372},{\"x\":42,\"y\":10099.96740805134},{\"x\":43,\"y\":9798.913463513305},{\"x\":44,\"y\":9508.008036622456},{\"x\":45,\"y\":9226.811057153316},{\"x\":46,\"y\":8954.906350837171},{\"x\":47,\"y\":8691.899908963636},{\"x\":48,\"y\":8437.418323294334},{\"x\":49,\"y\":8191.107367535938},{\"x\":50,\"y\":7952.630708986618},{\"x\":51,\"y\":7721.668736004126},{\"x\":52,\"y\":7497.917488695909},{\"x\":53,\"y\":7281.087681748133},{\"x\":54,\"y\":7070.903809625015},{\"x\":55,\"y\":6867.103325514265},{\"x\":56,\"y\":6669.4358863929665},{\"x\":57,\"y\":6477.662657462243},{\"x\":58,\"y\":6291.555669965102},{\"x\":59,\"y\":6110.897227076047},{\"x\":60,\"y\":5935.479353144639},{\"x\":61,\"y\":5765.1032820993605},{\"x\":62,\"y\":5599.578981281353},{\"x\":63,\"y\":5438.7247073877925},{\"x\":64,\"y\":5282.366591568038},{\"x\":65,\"y\":5130.3382510382435},{\"x\":66,\"y\":4982.4804248661},{\"x\":67,\"y\":4838.640631831477},{\"x\":68,\"y\":4698.672848494174},{\"x\":69,\"y\":4562.437205800217},{\"x\":70,\"y\":4429.799702736108},{\"x\":71,\"y\":4300.631935697878},{\"x\":72,\"y\":4174.810842381729},{\"x\":73,\"y\":4052.218459127018},{\"x\":74,\"y\":3932.7416907521138},{\"x\":75,\"y\":3816.2720920208003},{\"x\":76,\"y\":3702.7056599624493},{\"x\":77,\"y\":3591.942636345634},{\"x\":78,\"y\":3483.8873196712693},{\"x\":79,\"y\":3378.4478861108014},{\"x\":80,\"y\":3275.5362188670256},{\"x\":81,\"y\":3175.067745480952},{\"x\":82,\"y\":3076.9612826488114},{\"x\":83,\"y\":2981.1388881490716},{\"x\":84,\"y\":2887.5257195106105},{\"x\":85,\"y\":2796.049899081442},{\"x\":86,\"y\":2706.642385181845},{\"x\":87,\"y\":2619.236849047505},{\"x\":88,\"y\":2533.7695572878947},{\"x\":89,\"y\":2450.179259602457},{\"x\":90,\"y\":2368.4070815123737},{\"x\":91,\"y\":2288.3964218798847},{\"x\":92,\"y\":2210.0928549993923},{\"x\":93,\"y\":2133.4440370562106},{\"x\":94,\"y\":2058.3996167589466},{\"x\":95,\"y\":1984.911149960923},{\"x\":96,\"y\":1912.9320180949505},{\"x\":97,\"y\":1842.4173502537656},{\"x\":98,\"y\":1773.3239487556973},{\"x\":99,\"y\":1705.6102180424764},{\"x\":100,\"y\":1639.236096762496}]},\"extension\":[]}\n",
       "        var id_name = '#vis-36a232b4-3eea-403a-8d89-2780562f8705';\n",
       "        Nyaplot.core.parse(model, id_name);\n",
       "\n",
       "        require(['downloadable'], function(downloadable){\n",
       "          var svg = d3.select(id_name).select(\"svg\");\n",
       "\t  if(!svg.empty())\n",
       "\t    svg.call(downloadable().filename('fig'));\n",
       "\t});\n",
       "    };\n",
       "    if(window['Nyaplot']==undefined){\n",
       "        window.addEventListener('load_nyaplot', render, false);\n",
       "\treturn;\n",
       "    } else {\n",
       "       render();\n",
       "    }\n",
       "})();\n",
       "</script>\n"
      ],
      "text/plain": [
       "#<Nyaplot::Plot:0x000000000470f838 @properties={:diagrams=>[#<Nyaplot::Diagram:0x0000000004567058 @properties={:type=>:line, :options=>{:x=>:x, :y=>:y}, :data=>\"6771aae2-8c64-4e19-9859-c82c19de9a17\"}, @xrange=[1, 100], @yrange=[1639.236096762496, 49794.31238657003]>], :options=>{:x_label=>\"Iteration\", :y_label=>\"Cumulative Loss\", :zoom=>true, :width=>700, :xrange=>[1, 100], :yrange=>[1639.236096762496, 49794.31238657003]}}>"
      ]
     },
     "execution_count": 244,
     "metadata": {},
     "output_type": "execute_result"
    }
   ],
   "source": [
    "### TEST ###\n",
    "t44 = BetaBinomialModel.new\n",
    "t44_data = coin_dataset(10000)\n",
    "\n",
    "t44_w_init, t44_learning_rate = q44_weights_and_learning_rate()\n",
    "\n",
    "t44_total_loss = 0.0\n",
    "t44_iterations = []\n",
    "t44_losses = []\n",
    "t44_w = t34_w_init\n",
    "gradient_descent t44_data, t44_w_init, t44, t44_learning_rate, 0.001, 100 do |w, iter, loss|\n",
    "  puts [iter, w, t44_losses[-1]].join(\"\\t\") if iter % 10 == 1\n",
    "  t44_total_loss += loss\n",
    "  t44_iterations << iter\n",
    "  t44_losses << t44_total_loss / iter.to_f\n",
    "  t44_w = w\n",
    "end\n",
    "\n",
    "\n",
    "assert_true(t44_losses[-1] < 8000)\n",
    "assert_true(t44_losses[-1] > 0)\n",
    "assert_true(t44_iterations[-1] > 30)\n",
    "assert_in_delta 0.77, t44_w[\"bias\"], 5e-2\n",
    "\n",
    "### Plot the cumulative loss per iteration\n",
    "Daru::DataFrame.new({x: t44_iterations, y: t44_losses}).plot(type: :line, x: :x, y: :y) do |plot, diagram|\n",
    "  plot.x_label \"Iteration\"\n",
    "  plot.y_label \"Cumulative Loss\"\n",
    "end"
   ]
  },
  {
   "cell_type": "code",
   "execution_count": null,
   "metadata": {},
   "outputs": [],
   "source": []
  }
 ],
 "metadata": {
  "kernelspec": {
   "display_name": "Ruby 2.5.1",
   "language": "ruby",
   "name": "ruby"
  },
  "language_info": {
   "file_extension": ".rb",
   "mimetype": "application/x-ruby",
   "name": "ruby",
   "version": "2.5.1"
  }
 },
 "nbformat": 4,
 "nbformat_minor": 2
}
